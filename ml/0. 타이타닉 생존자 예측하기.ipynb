{
 "cells": [
  {
   "cell_type": "markdown",
   "metadata": {},
   "source": [
    "# 타이타닉 생존자 예측\n",
    "1. 데이터 읽고 전체적인 상황 확인하기"
   ]
  },
  {
   "cell_type": "markdown",
   "metadata": {},
   "source": [
    "#### 변수 설명\n",
    "* pclass : 1, 2, 3등석 \n",
    "* survived : 생존 여부. survived(생존-1), dead(사망-0)\n",
    "* name : 이름\n",
    "* sex : \n",
    "* 성별 : female(여성), male(남성)\n",
    "* age : 나이\n",
    "* sibsp : 함께 탑승한 형제 또는 배우자의 수\n",
    "* parch : 함께 탑승한 부모 또는 자녀의 수\n",
    "* ticket : 티켓 번호\n",
    "* fare : 티켓 요금\n",
    "* cabin : 선실 번호\n",
    "* embarked :탑승한 곳. C(Cherbourg), Q(Queenstown), S(Southampton)\n",
    "* boat : 탈출한 보트가 있다면 boat 번호"
   ]
  },
  {
   "cell_type": "code",
   "execution_count": 1,
   "metadata": {},
   "outputs": [],
   "source": [
    "import numpy as np\n",
    "import pandas as pd\n",
    "import matplotlib.pyplot as plt\n",
    "import seaborn as sns\n",
    "%matplotlib inline"
   ]
  },
  {
   "cell_type": "code",
   "execution_count": 2,
   "metadata": {},
   "outputs": [],
   "source": [
    "import warnings\n",
    "warnings.filterwarnings(action='ignore')"
   ]
  },
  {
   "cell_type": "code",
   "execution_count": 3,
   "metadata": {},
   "outputs": [
    {
     "data": {
      "text/html": [
       "<div>\n",
       "<style scoped>\n",
       "    .dataframe tbody tr th:only-of-type {\n",
       "        vertical-align: middle;\n",
       "    }\n",
       "\n",
       "    .dataframe tbody tr th {\n",
       "        vertical-align: top;\n",
       "    }\n",
       "\n",
       "    .dataframe thead th {\n",
       "        text-align: right;\n",
       "    }\n",
       "</style>\n",
       "<table border=\"1\" class=\"dataframe\">\n",
       "  <thead>\n",
       "    <tr style=\"text-align: right;\">\n",
       "      <th></th>\n",
       "      <th>pclass</th>\n",
       "      <th>survived</th>\n",
       "      <th>name</th>\n",
       "      <th>sex</th>\n",
       "      <th>age</th>\n",
       "      <th>sibsp</th>\n",
       "      <th>parch</th>\n",
       "      <th>ticket</th>\n",
       "      <th>fare</th>\n",
       "      <th>cabin</th>\n",
       "      <th>embarked</th>\n",
       "      <th>boat</th>\n",
       "      <th>body</th>\n",
       "      <th>home.dest</th>\n",
       "    </tr>\n",
       "  </thead>\n",
       "  <tbody>\n",
       "    <tr>\n",
       "      <th>0</th>\n",
       "      <td>1</td>\n",
       "      <td>1</td>\n",
       "      <td>Allen, Miss. Elisabeth Walton</td>\n",
       "      <td>female</td>\n",
       "      <td>29.0000</td>\n",
       "      <td>0</td>\n",
       "      <td>0</td>\n",
       "      <td>24160</td>\n",
       "      <td>211.3375</td>\n",
       "      <td>B5</td>\n",
       "      <td>S</td>\n",
       "      <td>2</td>\n",
       "      <td>NaN</td>\n",
       "      <td>St Louis, MO</td>\n",
       "    </tr>\n",
       "    <tr>\n",
       "      <th>1</th>\n",
       "      <td>1</td>\n",
       "      <td>1</td>\n",
       "      <td>Allison, Master. Hudson Trevor</td>\n",
       "      <td>male</td>\n",
       "      <td>0.9167</td>\n",
       "      <td>1</td>\n",
       "      <td>2</td>\n",
       "      <td>113781</td>\n",
       "      <td>151.5500</td>\n",
       "      <td>C22 C26</td>\n",
       "      <td>S</td>\n",
       "      <td>11</td>\n",
       "      <td>NaN</td>\n",
       "      <td>Montreal, PQ / Chesterville, ON</td>\n",
       "    </tr>\n",
       "    <tr>\n",
       "      <th>2</th>\n",
       "      <td>1</td>\n",
       "      <td>0</td>\n",
       "      <td>Allison, Miss. Helen Loraine</td>\n",
       "      <td>female</td>\n",
       "      <td>2.0000</td>\n",
       "      <td>1</td>\n",
       "      <td>2</td>\n",
       "      <td>113781</td>\n",
       "      <td>151.5500</td>\n",
       "      <td>C22 C26</td>\n",
       "      <td>S</td>\n",
       "      <td>NaN</td>\n",
       "      <td>NaN</td>\n",
       "      <td>Montreal, PQ / Chesterville, ON</td>\n",
       "    </tr>\n",
       "    <tr>\n",
       "      <th>3</th>\n",
       "      <td>1</td>\n",
       "      <td>0</td>\n",
       "      <td>Allison, Mr. Hudson Joshua Creighton</td>\n",
       "      <td>male</td>\n",
       "      <td>30.0000</td>\n",
       "      <td>1</td>\n",
       "      <td>2</td>\n",
       "      <td>113781</td>\n",
       "      <td>151.5500</td>\n",
       "      <td>C22 C26</td>\n",
       "      <td>S</td>\n",
       "      <td>NaN</td>\n",
       "      <td>135.0</td>\n",
       "      <td>Montreal, PQ / Chesterville, ON</td>\n",
       "    </tr>\n",
       "    <tr>\n",
       "      <th>4</th>\n",
       "      <td>1</td>\n",
       "      <td>0</td>\n",
       "      <td>Allison, Mrs. Hudson J C (Bessie Waldo Daniels)</td>\n",
       "      <td>female</td>\n",
       "      <td>25.0000</td>\n",
       "      <td>1</td>\n",
       "      <td>2</td>\n",
       "      <td>113781</td>\n",
       "      <td>151.5500</td>\n",
       "      <td>C22 C26</td>\n",
       "      <td>S</td>\n",
       "      <td>NaN</td>\n",
       "      <td>NaN</td>\n",
       "      <td>Montreal, PQ / Chesterville, ON</td>\n",
       "    </tr>\n",
       "  </tbody>\n",
       "</table>\n",
       "</div>"
      ],
      "text/plain": [
       "   pclass  survived                                             name     sex  \\\n",
       "0       1         1                    Allen, Miss. Elisabeth Walton  female   \n",
       "1       1         1                   Allison, Master. Hudson Trevor    male   \n",
       "2       1         0                     Allison, Miss. Helen Loraine  female   \n",
       "3       1         0             Allison, Mr. Hudson Joshua Creighton    male   \n",
       "4       1         0  Allison, Mrs. Hudson J C (Bessie Waldo Daniels)  female   \n",
       "\n",
       "       age  sibsp  parch  ticket      fare    cabin embarked boat   body  \\\n",
       "0  29.0000      0      0   24160  211.3375       B5        S    2    NaN   \n",
       "1   0.9167      1      2  113781  151.5500  C22 C26        S   11    NaN   \n",
       "2   2.0000      1      2  113781  151.5500  C22 C26        S  NaN    NaN   \n",
       "3  30.0000      1      2  113781  151.5500  C22 C26        S  NaN  135.0   \n",
       "4  25.0000      1      2  113781  151.5500  C22 C26        S  NaN    NaN   \n",
       "\n",
       "                         home.dest  \n",
       "0                     St Louis, MO  \n",
       "1  Montreal, PQ / Chesterville, ON  \n",
       "2  Montreal, PQ / Chesterville, ON  \n",
       "3  Montreal, PQ / Chesterville, ON  \n",
       "4  Montreal, PQ / Chesterville, ON  "
      ]
     },
     "execution_count": 3,
     "metadata": {},
     "output_type": "execute_result"
    }
   ],
   "source": [
    "raw_data = pd.read_excel('../Python_data/data/titanic.xls')\n",
    "# raw_data.columns = raw_data.columns.str.strip().str.lower() # 컬럼명 소문자 변경\n",
    "raw_data.head()"
   ]
  },
  {
   "cell_type": "code",
   "execution_count": 4,
   "metadata": {},
   "outputs": [
    {
     "data": {
      "image/png": "[encoded data removed]",
      "text/plain": [
       "<Figure size 864x432 with 2 Axes>"
      ]
     },
     "metadata": {
      "needs_background": "light"
     },
     "output_type": "display_data"
    }
   ],
   "source": [
    "f, ax = plt.subplots(1,2, figsize=(12,6))\n",
    "\n",
    "raw_data['survived'].value_counts().plot.pie(explode=[0, 0.1], autopct='%1.2f%%', ax=ax[0])\n",
    "\n",
    "ax[0].set_title('survived')\n",
    "ax[0].set_ylabel('')\n",
    "\n",
    "sns.countplot('survived', data=raw_data, ax=ax[1])\n",
    "ax[1].set_title('survived')\n",
    "plt.show()"
   ]
  },
  {
   "cell_type": "code",
   "execution_count": 5,
   "metadata": {},
   "outputs": [
    {
     "data": {
      "text/plain": [
       "<AxesSubplot:>"
      ]
     },
     "execution_count": 5,
     "metadata": {},
     "output_type": "execute_result"
    },
    {
     "data": {
      "image/png": "[encoded data removed]",
      "text/plain": [
       "<Figure size 1296x576 with 1 Axes>"
      ]
     },
     "metadata": {
      "needs_background": "light"
     },
     "output_type": "display_data"
    }
   ],
   "source": [
    "raw_data['age'].hist(bins=20, figsize=(18,8), grid=False)"
   ]
  },
  {
   "cell_type": "code",
   "execution_count": 6,
   "metadata": {},
   "outputs": [
    {
     "data": {
      "text/html": [
       "<div>\n",
       "<style scoped>\n",
       "    .dataframe tbody tr th:only-of-type {\n",
       "        vertical-align: middle;\n",
       "    }\n",
       "\n",
       "    .dataframe tbody tr th {\n",
       "        vertical-align: top;\n",
       "    }\n",
       "\n",
       "    .dataframe thead th {\n",
       "        text-align: right;\n",
       "    }\n",
       "</style>\n",
       "<table border=\"1\" class=\"dataframe\">\n",
       "  <thead>\n",
       "    <tr style=\"text-align: right;\">\n",
       "      <th></th>\n",
       "      <th>survived</th>\n",
       "      <th>age</th>\n",
       "      <th>sibsp</th>\n",
       "      <th>parch</th>\n",
       "      <th>fare</th>\n",
       "      <th>body</th>\n",
       "    </tr>\n",
       "    <tr>\n",
       "      <th>pclass</th>\n",
       "      <th></th>\n",
       "      <th></th>\n",
       "      <th></th>\n",
       "      <th></th>\n",
       "      <th></th>\n",
       "      <th></th>\n",
       "    </tr>\n",
       "  </thead>\n",
       "  <tbody>\n",
       "    <tr>\n",
       "      <th>1</th>\n",
       "      <td>0.619195</td>\n",
       "      <td>39.159918</td>\n",
       "      <td>0.436533</td>\n",
       "      <td>0.365325</td>\n",
       "      <td>87.508992</td>\n",
       "      <td>162.828571</td>\n",
       "    </tr>\n",
       "    <tr>\n",
       "      <th>2</th>\n",
       "      <td>0.429603</td>\n",
       "      <td>29.506705</td>\n",
       "      <td>0.393502</td>\n",
       "      <td>0.368231</td>\n",
       "      <td>21.179196</td>\n",
       "      <td>167.387097</td>\n",
       "    </tr>\n",
       "    <tr>\n",
       "      <th>3</th>\n",
       "      <td>0.255289</td>\n",
       "      <td>24.816367</td>\n",
       "      <td>0.568406</td>\n",
       "      <td>0.400564</td>\n",
       "      <td>13.302889</td>\n",
       "      <td>155.818182</td>\n",
       "    </tr>\n",
       "  </tbody>\n",
       "</table>\n",
       "</div>"
      ],
      "text/plain": [
       "        survived        age     sibsp     parch       fare        body\n",
       "pclass                                                                \n",
       "1       0.619195  39.159918  0.436533  0.365325  87.508992  162.828571\n",
       "2       0.429603  29.506705  0.393502  0.368231  21.179196  167.387097\n",
       "3       0.255289  24.816367  0.568406  0.400564  13.302889  155.818182"
      ]
     },
     "execution_count": 6,
     "metadata": {},
     "output_type": "execute_result"
    }
   ],
   "source": [
    "raw_data.groupby('pclass').mean()"
   ]
  },
  {
   "cell_type": "code",
   "execution_count": 7,
   "metadata": {},
   "outputs": [
    {
     "data": {
      "text/html": [
       "<div>\n",
       "<style scoped>\n",
       "    .dataframe tbody tr th:only-of-type {\n",
       "        vertical-align: middle;\n",
       "    }\n",
       "\n",
       "    .dataframe tbody tr th {\n",
       "        vertical-align: top;\n",
       "    }\n",
       "\n",
       "    .dataframe thead th {\n",
       "        text-align: right;\n",
       "    }\n",
       "</style>\n",
       "<table border=\"1\" class=\"dataframe\">\n",
       "  <thead>\n",
       "    <tr style=\"text-align: right;\">\n",
       "      <th></th>\n",
       "      <th>pclass</th>\n",
       "      <th>survived</th>\n",
       "      <th>age</th>\n",
       "      <th>sibsp</th>\n",
       "      <th>parch</th>\n",
       "      <th>fare</th>\n",
       "      <th>body</th>\n",
       "    </tr>\n",
       "  </thead>\n",
       "  <tbody>\n",
       "    <tr>\n",
       "      <th>pclass</th>\n",
       "      <td>1.000000</td>\n",
       "      <td>-0.312469</td>\n",
       "      <td>-0.408106</td>\n",
       "      <td>0.060832</td>\n",
       "      <td>0.018322</td>\n",
       "      <td>-0.558629</td>\n",
       "      <td>-0.034642</td>\n",
       "    </tr>\n",
       "    <tr>\n",
       "      <th>survived</th>\n",
       "      <td>-0.312469</td>\n",
       "      <td>1.000000</td>\n",
       "      <td>-0.055513</td>\n",
       "      <td>-0.027825</td>\n",
       "      <td>0.082660</td>\n",
       "      <td>0.244265</td>\n",
       "      <td>NaN</td>\n",
       "    </tr>\n",
       "    <tr>\n",
       "      <th>age</th>\n",
       "      <td>-0.408106</td>\n",
       "      <td>-0.055513</td>\n",
       "      <td>1.000000</td>\n",
       "      <td>-0.243699</td>\n",
       "      <td>-0.150917</td>\n",
       "      <td>0.178739</td>\n",
       "      <td>0.058809</td>\n",
       "    </tr>\n",
       "    <tr>\n",
       "      <th>sibsp</th>\n",
       "      <td>0.060832</td>\n",
       "      <td>-0.027825</td>\n",
       "      <td>-0.243699</td>\n",
       "      <td>1.000000</td>\n",
       "      <td>0.373587</td>\n",
       "      <td>0.160238</td>\n",
       "      <td>-0.099961</td>\n",
       "    </tr>\n",
       "    <tr>\n",
       "      <th>parch</th>\n",
       "      <td>0.018322</td>\n",
       "      <td>0.082660</td>\n",
       "      <td>-0.150917</td>\n",
       "      <td>0.373587</td>\n",
       "      <td>1.000000</td>\n",
       "      <td>0.221539</td>\n",
       "      <td>0.051099</td>\n",
       "    </tr>\n",
       "    <tr>\n",
       "      <th>fare</th>\n",
       "      <td>-0.558629</td>\n",
       "      <td>0.244265</td>\n",
       "      <td>0.178739</td>\n",
       "      <td>0.160238</td>\n",
       "      <td>0.221539</td>\n",
       "      <td>1.000000</td>\n",
       "      <td>-0.043110</td>\n",
       "    </tr>\n",
       "    <tr>\n",
       "      <th>body</th>\n",
       "      <td>-0.034642</td>\n",
       "      <td>NaN</td>\n",
       "      <td>0.058809</td>\n",
       "      <td>-0.099961</td>\n",
       "      <td>0.051099</td>\n",
       "      <td>-0.043110</td>\n",
       "      <td>1.000000</td>\n",
       "    </tr>\n",
       "  </tbody>\n",
       "</table>\n",
       "</div>"
      ],
      "text/plain": [
       "            pclass  survived       age     sibsp     parch      fare      body\n",
       "pclass    1.000000 -0.312469 -0.408106  0.060832  0.018322 -0.558629 -0.034642\n",
       "survived -0.312469  1.000000 -0.055513 -0.027825  0.082660  0.244265       NaN\n",
       "age      -0.408106 -0.055513  1.000000 -0.243699 -0.150917  0.178739  0.058809\n",
       "sibsp     0.060832 -0.027825 -0.243699  1.000000  0.373587  0.160238 -0.099961\n",
       "parch     0.018322  0.082660 -0.150917  0.373587  1.000000  0.221539  0.051099\n",
       "fare     -0.558629  0.244265  0.178739  0.160238  0.221539  1.000000 -0.043110\n",
       "body     -0.034642       NaN  0.058809 -0.099961  0.051099 -0.043110  1.000000"
      ]
     },
     "execution_count": 7,
     "metadata": {},
     "output_type": "execute_result"
    }
   ],
   "source": [
    "raw_data.corr()"
   ]
  },
  {
   "cell_type": "code",
   "execution_count": 8,
   "metadata": {},
   "outputs": [
    {
     "data": {
      "image/png": "[encoded data removed]",
      "text/plain": [
       "<Figure size 720x720 with 2 Axes>"
      ]
     },
     "metadata": {
      "needs_background": "light"
     },
     "output_type": "display_data"
    }
   ],
   "source": [
    "# 상관계수는 두 데이터의 상관관계만 확인 인과관계로 생각하면 안됩니다.\n",
    "plt.figure(figsize=(10,10))\n",
    "sns.heatmap(raw_data.corr(), linewidths=0.01, square='white', annot=True)\n",
    "plt.title('Correlation between features')\n",
    "plt.show()"
   ]
  },
  {
   "cell_type": "markdown",
   "metadata": {},
   "source": [
    "# 3. 나이 구간별 및 성별 생존률 확인하기"
   ]
  },
  {
   "cell_type": "code",
   "execution_count": 9,
   "metadata": {},
   "outputs": [],
   "source": [
    "# pandas.cut : 데이터를 bin으로 분할하고 정렬해야할 경우 사용\n",
    "raw_data['age_cat'] = pd.cut(raw_data['age'],\n",
    "                            bins=[0,3,7,15,30,60,100],\n",
    "                            include_lowest=True,\n",
    "                            labels = ['baby', 'children', 'teenage', 'young',' adult', 'old'])\n",
    "raw_data.head(20)\n",
    "raw_data.to_excel(excel_writer='titanic_age.xlsx')"
   ]
  },
  {
   "cell_type": "code",
   "execution_count": 10,
   "metadata": {},
   "outputs": [
    {
     "data": {
      "text/html": [
       "<div>\n",
       "<style scoped>\n",
       "    .dataframe tbody tr th:only-of-type {\n",
       "        vertical-align: middle;\n",
       "    }\n",
       "\n",
       "    .dataframe tbody tr th {\n",
       "        vertical-align: top;\n",
       "    }\n",
       "\n",
       "    .dataframe thead th {\n",
       "        text-align: right;\n",
       "    }\n",
       "</style>\n",
       "<table border=\"1\" class=\"dataframe\">\n",
       "  <thead>\n",
       "    <tr style=\"text-align: right;\">\n",
       "      <th></th>\n",
       "      <th>pclass</th>\n",
       "      <th>survived</th>\n",
       "      <th>age</th>\n",
       "      <th>sibsp</th>\n",
       "      <th>parch</th>\n",
       "      <th>fare</th>\n",
       "      <th>body</th>\n",
       "    </tr>\n",
       "    <tr>\n",
       "      <th>age_cat</th>\n",
       "      <th></th>\n",
       "      <th></th>\n",
       "      <th></th>\n",
       "      <th></th>\n",
       "      <th></th>\n",
       "      <th></th>\n",
       "      <th></th>\n",
       "    </tr>\n",
       "  </thead>\n",
       "  <tbody>\n",
       "    <tr>\n",
       "      <th>baby</th>\n",
       "      <td>2.585366</td>\n",
       "      <td>0.634146</td>\n",
       "      <td>1.540651</td>\n",
       "      <td>1.487805</td>\n",
       "      <td>1.365854</td>\n",
       "      <td>29.615346</td>\n",
       "      <td>4.000000</td>\n",
       "    </tr>\n",
       "    <tr>\n",
       "      <th>children</th>\n",
       "      <td>2.640000</td>\n",
       "      <td>0.640000</td>\n",
       "      <td>5.160000</td>\n",
       "      <td>1.760000</td>\n",
       "      <td>1.360000</td>\n",
       "      <td>31.022828</td>\n",
       "      <td>NaN</td>\n",
       "    </tr>\n",
       "    <tr>\n",
       "      <th>teenage</th>\n",
       "      <td>2.632653</td>\n",
       "      <td>0.489796</td>\n",
       "      <td>11.540816</td>\n",
       "      <td>1.734694</td>\n",
       "      <td>1.163265</td>\n",
       "      <td>38.390904</td>\n",
       "      <td>132.000000</td>\n",
       "    </tr>\n",
       "    <tr>\n",
       "      <th>young</th>\n",
       "      <td>2.412955</td>\n",
       "      <td>0.368421</td>\n",
       "      <td>23.389676</td>\n",
       "      <td>0.352227</td>\n",
       "      <td>0.236842</td>\n",
       "      <td>27.313140</td>\n",
       "      <td>169.720930</td>\n",
       "    </tr>\n",
       "    <tr>\n",
       "      <th>adult</th>\n",
       "      <td>1.893564</td>\n",
       "      <td>0.423267</td>\n",
       "      <td>41.548267</td>\n",
       "      <td>0.376238</td>\n",
       "      <td>0.405941</td>\n",
       "      <td>47.141986</td>\n",
       "      <td>154.777778</td>\n",
       "    </tr>\n",
       "    <tr>\n",
       "      <th>old</th>\n",
       "      <td>1.545455</td>\n",
       "      <td>0.242424</td>\n",
       "      <td>65.393939</td>\n",
       "      <td>0.303030</td>\n",
       "      <td>0.363636</td>\n",
       "      <td>60.248309</td>\n",
       "      <td>185.600000</td>\n",
       "    </tr>\n",
       "  </tbody>\n",
       "</table>\n",
       "</div>"
      ],
      "text/plain": [
       "            pclass  survived        age     sibsp     parch       fare  \\\n",
       "age_cat                                                                  \n",
       "baby      2.585366  0.634146   1.540651  1.487805  1.365854  29.615346   \n",
       "children  2.640000  0.640000   5.160000  1.760000  1.360000  31.022828   \n",
       "teenage   2.632653  0.489796  11.540816  1.734694  1.163265  38.390904   \n",
       "young     2.412955  0.368421  23.389676  0.352227  0.236842  27.313140   \n",
       " adult    1.893564  0.423267  41.548267  0.376238  0.405941  47.141986   \n",
       "old       1.545455  0.242424  65.393939  0.303030  0.363636  60.248309   \n",
       "\n",
       "                body  \n",
       "age_cat               \n",
       "baby        4.000000  \n",
       "children         NaN  \n",
       "teenage   132.000000  \n",
       "young     169.720930  \n",
       " adult    154.777778  \n",
       "old       185.600000  "
      ]
     },
     "execution_count": 10,
     "metadata": {},
     "output_type": "execute_result"
    }
   ],
   "source": [
    "raw_data.groupby('age_cat').mean()"
   ]
  },
  {
   "cell_type": "code",
   "execution_count": 11,
   "metadata": {},
   "outputs": [
    {
     "data": {
      "image/png": "[encoded data removed]",
      "text/plain": [
       "<Figure size 1008x288 with 3 Axes>"
      ]
     },
     "metadata": {
      "needs_background": "light"
     },
     "output_type": "display_data"
    }
   ],
   "source": [
    "plt.figure(figsize=(14,4))\n",
    "plt.subplot(131)\n",
    "sns.barplot('pclass', 'survived', data=raw_data)\n",
    "\n",
    "plt.subplot(132)\n",
    "sns.barplot('age_cat', 'survived', data=raw_data)\n",
    "\n",
    "plt.subplot(133)\n",
    "sns.barplot('sex', 'survived', data=raw_data)\n",
    "\n",
    "plt.subplots_adjust(top=1, bottom=0.1, left=0.1, right=1, hspace=0.5, wspace=0.5)\n",
    "plt.show()"
   ]
  },
  {
   "cell_type": "code",
   "execution_count": 12,
   "metadata": {},
   "outputs": [
    {
     "data": {
      "image/png": "[encoded data removed]",
      "text/plain": [
       "<Figure size 864x432 with 2 Axes>"
      ]
     },
     "metadata": {
      "needs_background": "light"
     },
     "output_type": "display_data"
    }
   ],
   "source": [
    "f,ax=plt.subplots(1,2,figsize=(12,6))\n",
    "sns.countplot('sex',data=raw_data, ax=ax[0])\n",
    "ax[0].set_title('Count of Passengers by Sex')\n",
    "\n",
    "sns.countplot('sex',hue='survived',data=raw_data, ax=ax[1])\n",
    "ax[1].set_title('Sex:Survived vs Dead')\n",
    "plt.show()"
   ]
  },
  {
   "cell_type": "code",
   "execution_count": 13,
   "metadata": {},
   "outputs": [
    {
     "data": {
      "text/html": [
       "<div>\n",
       "<style scoped>\n",
       "    .dataframe tbody tr th:only-of-type {\n",
       "        vertical-align: middle;\n",
       "    }\n",
       "\n",
       "    .dataframe tbody tr th {\n",
       "        vertical-align: top;\n",
       "    }\n",
       "\n",
       "    .dataframe thead th {\n",
       "        text-align: right;\n",
       "    }\n",
       "</style>\n",
       "<table border=\"1\" class=\"dataframe\">\n",
       "  <thead>\n",
       "    <tr style=\"text-align: right;\">\n",
       "      <th></th>\n",
       "      <th>pclass</th>\n",
       "      <th>survived</th>\n",
       "      <th>name</th>\n",
       "      <th>sex</th>\n",
       "      <th>age</th>\n",
       "      <th>sibsp</th>\n",
       "      <th>parch</th>\n",
       "      <th>ticket</th>\n",
       "      <th>fare</th>\n",
       "      <th>cabin</th>\n",
       "      <th>embarked</th>\n",
       "      <th>boat</th>\n",
       "      <th>body</th>\n",
       "      <th>home.dest</th>\n",
       "      <th>age_cat</th>\n",
       "    </tr>\n",
       "  </thead>\n",
       "  <tbody>\n",
       "    <tr>\n",
       "      <th>0</th>\n",
       "      <td>1</td>\n",
       "      <td>1</td>\n",
       "      <td>Allen, Miss. Elisabeth Walton</td>\n",
       "      <td>female</td>\n",
       "      <td>29.0000</td>\n",
       "      <td>0</td>\n",
       "      <td>0</td>\n",
       "      <td>24160</td>\n",
       "      <td>211.3375</td>\n",
       "      <td>B5</td>\n",
       "      <td>S</td>\n",
       "      <td>2</td>\n",
       "      <td>NaN</td>\n",
       "      <td>St Louis, MO</td>\n",
       "      <td>young</td>\n",
       "    </tr>\n",
       "    <tr>\n",
       "      <th>1</th>\n",
       "      <td>1</td>\n",
       "      <td>1</td>\n",
       "      <td>Allison, Master. Hudson Trevor</td>\n",
       "      <td>male</td>\n",
       "      <td>0.9167</td>\n",
       "      <td>1</td>\n",
       "      <td>2</td>\n",
       "      <td>113781</td>\n",
       "      <td>151.5500</td>\n",
       "      <td>C22 C26</td>\n",
       "      <td>S</td>\n",
       "      <td>11</td>\n",
       "      <td>NaN</td>\n",
       "      <td>Montreal, PQ / Chesterville, ON</td>\n",
       "      <td>baby</td>\n",
       "    </tr>\n",
       "    <tr>\n",
       "      <th>5</th>\n",
       "      <td>1</td>\n",
       "      <td>1</td>\n",
       "      <td>Anderson, Mr. Harry</td>\n",
       "      <td>male</td>\n",
       "      <td>48.0000</td>\n",
       "      <td>0</td>\n",
       "      <td>0</td>\n",
       "      <td>19952</td>\n",
       "      <td>26.5500</td>\n",
       "      <td>E12</td>\n",
       "      <td>S</td>\n",
       "      <td>3</td>\n",
       "      <td>NaN</td>\n",
       "      <td>New York, NY</td>\n",
       "      <td>adult</td>\n",
       "    </tr>\n",
       "    <tr>\n",
       "      <th>6</th>\n",
       "      <td>1</td>\n",
       "      <td>1</td>\n",
       "      <td>Andrews, Miss. Kornelia Theodosia</td>\n",
       "      <td>female</td>\n",
       "      <td>63.0000</td>\n",
       "      <td>1</td>\n",
       "      <td>0</td>\n",
       "      <td>13502</td>\n",
       "      <td>77.9583</td>\n",
       "      <td>D7</td>\n",
       "      <td>S</td>\n",
       "      <td>10</td>\n",
       "      <td>NaN</td>\n",
       "      <td>Hudson, NY</td>\n",
       "      <td>old</td>\n",
       "    </tr>\n",
       "    <tr>\n",
       "      <th>8</th>\n",
       "      <td>1</td>\n",
       "      <td>1</td>\n",
       "      <td>Appleton, Mrs. Edward Dale (Charlotte Lamson)</td>\n",
       "      <td>female</td>\n",
       "      <td>53.0000</td>\n",
       "      <td>2</td>\n",
       "      <td>0</td>\n",
       "      <td>11769</td>\n",
       "      <td>51.4792</td>\n",
       "      <td>C101</td>\n",
       "      <td>S</td>\n",
       "      <td>D</td>\n",
       "      <td>NaN</td>\n",
       "      <td>Bayside, Queens, NY</td>\n",
       "      <td>adult</td>\n",
       "    </tr>\n",
       "  </tbody>\n",
       "</table>\n",
       "</div>"
      ],
      "text/plain": [
       "   pclass  survived                                           name     sex  \\\n",
       "0       1         1                  Allen, Miss. Elisabeth Walton  female   \n",
       "1       1         1                 Allison, Master. Hudson Trevor    male   \n",
       "5       1         1                            Anderson, Mr. Harry    male   \n",
       "6       1         1              Andrews, Miss. Kornelia Theodosia  female   \n",
       "8       1         1  Appleton, Mrs. Edward Dale (Charlotte Lamson)  female   \n",
       "\n",
       "       age  sibsp  parch  ticket      fare    cabin embarked boat  body  \\\n",
       "0  29.0000      0      0   24160  211.3375       B5        S    2   NaN   \n",
       "1   0.9167      1      2  113781  151.5500  C22 C26        S   11   NaN   \n",
       "5  48.0000      0      0   19952   26.5500      E12        S    3   NaN   \n",
       "6  63.0000      1      0   13502   77.9583       D7        S   10   NaN   \n",
       "8  53.0000      2      0   11769   51.4792     C101        S    D   NaN   \n",
       "\n",
       "                         home.dest age_cat  \n",
       "0                     St Louis, MO   young  \n",
       "1  Montreal, PQ / Chesterville, ON    baby  \n",
       "5                     New York, NY   adult  \n",
       "6                       Hudson, NY     old  \n",
       "8              Bayside, Queens, NY   adult  "
      ]
     },
     "execution_count": 13,
     "metadata": {},
     "output_type": "execute_result"
    }
   ],
   "source": [
    "boat_survivors = raw_data[raw_data['boat'].notnull()]\n",
    "boat_survivors.head()"
   ]
  },
  {
   "cell_type": "code",
   "execution_count": 14,
   "metadata": {},
   "outputs": [
    {
     "data": {
      "image/png": "[encoded data removed]",
      "text/plain": [
       "<Figure size 864x432 with 2 Axes>"
      ]
     },
     "metadata": {
      "needs_background": "light"
     },
     "output_type": "display_data"
    }
   ],
   "source": [
    "f, ax = plt.subplots(1,2,figsize=(12,6))\n",
    "\n",
    "boat_survivors['survived'].value_counts().plot.pie(\n",
    "    explode=[0, 0.1], autopct='%1.2f%%', ax=ax[0])\n",
    "\n",
    "ax[0].set_title('Survived')\n",
    "ax[0].set_ylabel('')\n",
    "\n",
    "sns.countplot('survived', data=boat_survivors, ax=ax[1])\n",
    "ax[1].set_title('Survived')\n",
    "plt.show()\n",
    "# 생존자 예측하기 위한 모델을 만들 때 이 항목으로 특징을 잡으면 안됨 - 탑승 여부만 확인"
   ]
  },
  {
   "cell_type": "code",
   "execution_count": 15,
   "metadata": {},
   "outputs": [
    {
     "data": {
      "text/html": [
       "<div>\n",
       "<style scoped>\n",
       "    .dataframe tbody tr th:only-of-type {\n",
       "        vertical-align: middle;\n",
       "    }\n",
       "\n",
       "    .dataframe tbody tr th {\n",
       "        vertical-align: top;\n",
       "    }\n",
       "\n",
       "    .dataframe thead th {\n",
       "        text-align: right;\n",
       "    }\n",
       "</style>\n",
       "<table border=\"1\" class=\"dataframe\">\n",
       "  <thead>\n",
       "    <tr style=\"text-align: right;\">\n",
       "      <th></th>\n",
       "      <th>pclass</th>\n",
       "      <th>survived</th>\n",
       "      <th>name</th>\n",
       "      <th>sex</th>\n",
       "      <th>age</th>\n",
       "      <th>sibsp</th>\n",
       "      <th>parch</th>\n",
       "      <th>ticket</th>\n",
       "      <th>fare</th>\n",
       "      <th>cabin</th>\n",
       "      <th>embarked</th>\n",
       "      <th>boat</th>\n",
       "      <th>body</th>\n",
       "      <th>home.dest</th>\n",
       "      <th>age_cat</th>\n",
       "    </tr>\n",
       "  </thead>\n",
       "  <tbody>\n",
       "    <tr>\n",
       "      <th>0</th>\n",
       "      <td>1</td>\n",
       "      <td>1</td>\n",
       "      <td>Allen, Miss. Elisabeth Walton</td>\n",
       "      <td>female</td>\n",
       "      <td>29.0000</td>\n",
       "      <td>0</td>\n",
       "      <td>0</td>\n",
       "      <td>24160</td>\n",
       "      <td>211.3375</td>\n",
       "      <td>B5</td>\n",
       "      <td>S</td>\n",
       "      <td>2</td>\n",
       "      <td>NaN</td>\n",
       "      <td>St Louis, MO</td>\n",
       "      <td>young</td>\n",
       "    </tr>\n",
       "    <tr>\n",
       "      <th>1</th>\n",
       "      <td>1</td>\n",
       "      <td>1</td>\n",
       "      <td>Allison, Master. Hudson Trevor</td>\n",
       "      <td>male</td>\n",
       "      <td>0.9167</td>\n",
       "      <td>1</td>\n",
       "      <td>2</td>\n",
       "      <td>113781</td>\n",
       "      <td>151.5500</td>\n",
       "      <td>C22 C26</td>\n",
       "      <td>S</td>\n",
       "      <td>11</td>\n",
       "      <td>NaN</td>\n",
       "      <td>Montreal, PQ / Chesterville, ON</td>\n",
       "      <td>baby</td>\n",
       "    </tr>\n",
       "    <tr>\n",
       "      <th>2</th>\n",
       "      <td>1</td>\n",
       "      <td>0</td>\n",
       "      <td>Allison, Miss. Helen Loraine</td>\n",
       "      <td>female</td>\n",
       "      <td>2.0000</td>\n",
       "      <td>1</td>\n",
       "      <td>2</td>\n",
       "      <td>113781</td>\n",
       "      <td>151.5500</td>\n",
       "      <td>C22 C26</td>\n",
       "      <td>S</td>\n",
       "      <td>NaN</td>\n",
       "      <td>NaN</td>\n",
       "      <td>Montreal, PQ / Chesterville, ON</td>\n",
       "      <td>baby</td>\n",
       "    </tr>\n",
       "    <tr>\n",
       "      <th>3</th>\n",
       "      <td>1</td>\n",
       "      <td>0</td>\n",
       "      <td>Allison, Mr. Hudson Joshua Creighton</td>\n",
       "      <td>male</td>\n",
       "      <td>30.0000</td>\n",
       "      <td>1</td>\n",
       "      <td>2</td>\n",
       "      <td>113781</td>\n",
       "      <td>151.5500</td>\n",
       "      <td>C22 C26</td>\n",
       "      <td>S</td>\n",
       "      <td>NaN</td>\n",
       "      <td>135.0</td>\n",
       "      <td>Montreal, PQ / Chesterville, ON</td>\n",
       "      <td>young</td>\n",
       "    </tr>\n",
       "    <tr>\n",
       "      <th>4</th>\n",
       "      <td>1</td>\n",
       "      <td>0</td>\n",
       "      <td>Allison, Mrs. Hudson J C (Bessie Waldo Daniels)</td>\n",
       "      <td>female</td>\n",
       "      <td>25.0000</td>\n",
       "      <td>1</td>\n",
       "      <td>2</td>\n",
       "      <td>113781</td>\n",
       "      <td>151.5500</td>\n",
       "      <td>C22 C26</td>\n",
       "      <td>S</td>\n",
       "      <td>NaN</td>\n",
       "      <td>NaN</td>\n",
       "      <td>Montreal, PQ / Chesterville, ON</td>\n",
       "      <td>young</td>\n",
       "    </tr>\n",
       "  </tbody>\n",
       "</table>\n",
       "</div>"
      ],
      "text/plain": [
       "   pclass  survived                                             name     sex  \\\n",
       "0       1         1                    Allen, Miss. Elisabeth Walton  female   \n",
       "1       1         1                   Allison, Master. Hudson Trevor    male   \n",
       "2       1         0                     Allison, Miss. Helen Loraine  female   \n",
       "3       1         0             Allison, Mr. Hudson Joshua Creighton    male   \n",
       "4       1         0  Allison, Mrs. Hudson J C (Bessie Waldo Daniels)  female   \n",
       "\n",
       "       age  sibsp  parch  ticket      fare    cabin embarked boat   body  \\\n",
       "0  29.0000      0      0   24160  211.3375       B5        S    2    NaN   \n",
       "1   0.9167      1      2  113781  151.5500  C22 C26        S   11    NaN   \n",
       "2   2.0000      1      2  113781  151.5500  C22 C26        S  NaN    NaN   \n",
       "3  30.0000      1      2  113781  151.5500  C22 C26        S  NaN  135.0   \n",
       "4  25.0000      1      2  113781  151.5500  C22 C26        S  NaN    NaN   \n",
       "\n",
       "                         home.dest age_cat  \n",
       "0                     St Louis, MO   young  \n",
       "1  Montreal, PQ / Chesterville, ON    baby  \n",
       "2  Montreal, PQ / Chesterville, ON    baby  \n",
       "3  Montreal, PQ / Chesterville, ON   young  \n",
       "4  Montreal, PQ / Chesterville, ON   young  "
      ]
     },
     "execution_count": 15,
     "metadata": {},
     "output_type": "execute_result"
    }
   ],
   "source": [
    "raw_data.head()"
   ]
  },
  {
   "cell_type": "code",
   "execution_count": 16,
   "metadata": {},
   "outputs": [],
   "source": [
    "tmp = []\n",
    "\n",
    "for each in raw_data['sex']:\n",
    "    if each == 'female':\n",
    "        tmp.append(0)\n",
    "    elif each == 'male':\n",
    "        tmp.append(1)\n",
    "    else:\n",
    "        tmp.append(np.nan)"
   ]
  },
  {
   "cell_type": "code",
   "execution_count": 17,
   "metadata": {},
   "outputs": [
    {
     "data": {
      "text/html": [
       "<div>\n",
       "<style scoped>\n",
       "    .dataframe tbody tr th:only-of-type {\n",
       "        vertical-align: middle;\n",
       "    }\n",
       "\n",
       "    .dataframe tbody tr th {\n",
       "        vertical-align: top;\n",
       "    }\n",
       "\n",
       "    .dataframe thead th {\n",
       "        text-align: right;\n",
       "    }\n",
       "</style>\n",
       "<table border=\"1\" class=\"dataframe\">\n",
       "  <thead>\n",
       "    <tr style=\"text-align: right;\">\n",
       "      <th></th>\n",
       "      <th>pclass</th>\n",
       "      <th>survived</th>\n",
       "      <th>name</th>\n",
       "      <th>sex</th>\n",
       "      <th>age</th>\n",
       "      <th>sibsp</th>\n",
       "      <th>parch</th>\n",
       "      <th>ticket</th>\n",
       "      <th>fare</th>\n",
       "      <th>cabin</th>\n",
       "      <th>embarked</th>\n",
       "      <th>boat</th>\n",
       "      <th>body</th>\n",
       "      <th>home.dest</th>\n",
       "      <th>age_cat</th>\n",
       "    </tr>\n",
       "  </thead>\n",
       "  <tbody>\n",
       "    <tr>\n",
       "      <th>0</th>\n",
       "      <td>1</td>\n",
       "      <td>1</td>\n",
       "      <td>Allen, Miss. Elisabeth Walton</td>\n",
       "      <td>0</td>\n",
       "      <td>29.0000</td>\n",
       "      <td>0</td>\n",
       "      <td>0</td>\n",
       "      <td>24160</td>\n",
       "      <td>211.3375</td>\n",
       "      <td>B5</td>\n",
       "      <td>S</td>\n",
       "      <td>2</td>\n",
       "      <td>NaN</td>\n",
       "      <td>St Louis, MO</td>\n",
       "      <td>young</td>\n",
       "    </tr>\n",
       "    <tr>\n",
       "      <th>1</th>\n",
       "      <td>1</td>\n",
       "      <td>1</td>\n",
       "      <td>Allison, Master. Hudson Trevor</td>\n",
       "      <td>1</td>\n",
       "      <td>0.9167</td>\n",
       "      <td>1</td>\n",
       "      <td>2</td>\n",
       "      <td>113781</td>\n",
       "      <td>151.5500</td>\n",
       "      <td>C22 C26</td>\n",
       "      <td>S</td>\n",
       "      <td>11</td>\n",
       "      <td>NaN</td>\n",
       "      <td>Montreal, PQ / Chesterville, ON</td>\n",
       "      <td>baby</td>\n",
       "    </tr>\n",
       "    <tr>\n",
       "      <th>2</th>\n",
       "      <td>1</td>\n",
       "      <td>0</td>\n",
       "      <td>Allison, Miss. Helen Loraine</td>\n",
       "      <td>0</td>\n",
       "      <td>2.0000</td>\n",
       "      <td>1</td>\n",
       "      <td>2</td>\n",
       "      <td>113781</td>\n",
       "      <td>151.5500</td>\n",
       "      <td>C22 C26</td>\n",
       "      <td>S</td>\n",
       "      <td>NaN</td>\n",
       "      <td>NaN</td>\n",
       "      <td>Montreal, PQ / Chesterville, ON</td>\n",
       "      <td>baby</td>\n",
       "    </tr>\n",
       "    <tr>\n",
       "      <th>3</th>\n",
       "      <td>1</td>\n",
       "      <td>0</td>\n",
       "      <td>Allison, Mr. Hudson Joshua Creighton</td>\n",
       "      <td>1</td>\n",
       "      <td>30.0000</td>\n",
       "      <td>1</td>\n",
       "      <td>2</td>\n",
       "      <td>113781</td>\n",
       "      <td>151.5500</td>\n",
       "      <td>C22 C26</td>\n",
       "      <td>S</td>\n",
       "      <td>NaN</td>\n",
       "      <td>135.0</td>\n",
       "      <td>Montreal, PQ / Chesterville, ON</td>\n",
       "      <td>young</td>\n",
       "    </tr>\n",
       "    <tr>\n",
       "      <th>4</th>\n",
       "      <td>1</td>\n",
       "      <td>0</td>\n",
       "      <td>Allison, Mrs. Hudson J C (Bessie Waldo Daniels)</td>\n",
       "      <td>0</td>\n",
       "      <td>25.0000</td>\n",
       "      <td>1</td>\n",
       "      <td>2</td>\n",
       "      <td>113781</td>\n",
       "      <td>151.5500</td>\n",
       "      <td>C22 C26</td>\n",
       "      <td>S</td>\n",
       "      <td>NaN</td>\n",
       "      <td>NaN</td>\n",
       "      <td>Montreal, PQ / Chesterville, ON</td>\n",
       "      <td>young</td>\n",
       "    </tr>\n",
       "  </tbody>\n",
       "</table>\n",
       "</div>"
      ],
      "text/plain": [
       "   pclass  survived                                             name  sex  \\\n",
       "0       1         1                    Allen, Miss. Elisabeth Walton    0   \n",
       "1       1         1                   Allison, Master. Hudson Trevor    1   \n",
       "2       1         0                     Allison, Miss. Helen Loraine    0   \n",
       "3       1         0             Allison, Mr. Hudson Joshua Creighton    1   \n",
       "4       1         0  Allison, Mrs. Hudson J C (Bessie Waldo Daniels)    0   \n",
       "\n",
       "       age  sibsp  parch  ticket      fare    cabin embarked boat   body  \\\n",
       "0  29.0000      0      0   24160  211.3375       B5        S    2    NaN   \n",
       "1   0.9167      1      2  113781  151.5500  C22 C26        S   11    NaN   \n",
       "2   2.0000      1      2  113781  151.5500  C22 C26        S  NaN    NaN   \n",
       "3  30.0000      1      2  113781  151.5500  C22 C26        S  NaN  135.0   \n",
       "4  25.0000      1      2  113781  151.5500  C22 C26        S  NaN    NaN   \n",
       "\n",
       "                         home.dest age_cat  \n",
       "0                     St Louis, MO   young  \n",
       "1  Montreal, PQ / Chesterville, ON    baby  \n",
       "2  Montreal, PQ / Chesterville, ON    baby  \n",
       "3  Montreal, PQ / Chesterville, ON   young  \n",
       "4  Montreal, PQ / Chesterville, ON   young  "
      ]
     },
     "execution_count": 17,
     "metadata": {},
     "output_type": "execute_result"
    }
   ],
   "source": [
    "raw_data['sex'] = tmp\n",
    "raw_data.head()"
   ]
  },
  {
   "cell_type": "code",
   "execution_count": 18,
   "metadata": {},
   "outputs": [
    {
     "name": "stdout",
     "output_type": "stream",
     "text": [
      "<class 'pandas.core.frame.DataFrame'>\n",
      "Int64Index: 1045 entries, 0 to 1308\n",
      "Data columns (total 15 columns):\n",
      " #   Column     Non-Null Count  Dtype   \n",
      "---  ------     --------------  -----   \n",
      " 0   pclass     1045 non-null   int64   \n",
      " 1   survived   1045 non-null   int64   \n",
      " 2   name       1045 non-null   object  \n",
      " 3   sex        1045 non-null   int64   \n",
      " 4   age        1045 non-null   float64 \n",
      " 5   sibsp      1045 non-null   int64   \n",
      " 6   parch      1045 non-null   int64   \n",
      " 7   ticket     1045 non-null   object  \n",
      " 8   fare       1045 non-null   float64 \n",
      " 9   cabin      272 non-null    object  \n",
      " 10  embarked   1043 non-null   object  \n",
      " 11  boat       417 non-null    object  \n",
      " 12  body       119 non-null    float64 \n",
      " 13  home.dest  685 non-null    object  \n",
      " 14  age_cat    1045 non-null   category\n",
      "dtypes: category(1), float64(3), int64(5), object(6)\n",
      "memory usage: 123.7+ KB\n"
     ]
    }
   ],
   "source": [
    "raw_data = raw_data[raw_data['age'].notnull()]\n",
    "raw_data = raw_data[raw_data['sibsp'].notnull()]\n",
    "raw_data = raw_data[raw_data['parch'].notnull()]\n",
    "raw_data = raw_data[raw_data['fare'].notnull()]\n",
    "raw_data.info()"
   ]
  },
  {
   "cell_type": "markdown",
   "metadata": {},
   "source": [
    "## 7. 생존자 예측을 위한 모델 수립"
   ]
  },
  {
   "cell_type": "code",
   "execution_count": 19,
   "metadata": {},
   "outputs": [
    {
     "data": {
      "text/html": [
       "<div>\n",
       "<style scoped>\n",
       "    .dataframe tbody tr th:only-of-type {\n",
       "        vertical-align: middle;\n",
       "    }\n",
       "\n",
       "    .dataframe tbody tr th {\n",
       "        vertical-align: top;\n",
       "    }\n",
       "\n",
       "    .dataframe thead th {\n",
       "        text-align: right;\n",
       "    }\n",
       "</style>\n",
       "<table border=\"1\" class=\"dataframe\">\n",
       "  <thead>\n",
       "    <tr style=\"text-align: right;\">\n",
       "      <th></th>\n",
       "      <th>pclass</th>\n",
       "      <th>sex</th>\n",
       "      <th>age</th>\n",
       "      <th>sibsp</th>\n",
       "      <th>parch</th>\n",
       "      <th>fare</th>\n",
       "    </tr>\n",
       "  </thead>\n",
       "  <tbody>\n",
       "    <tr>\n",
       "      <th>0</th>\n",
       "      <td>1</td>\n",
       "      <td>0</td>\n",
       "      <td>29.0000</td>\n",
       "      <td>0</td>\n",
       "      <td>0</td>\n",
       "      <td>211.3375</td>\n",
       "    </tr>\n",
       "    <tr>\n",
       "      <th>1</th>\n",
       "      <td>1</td>\n",
       "      <td>1</td>\n",
       "      <td>0.9167</td>\n",
       "      <td>1</td>\n",
       "      <td>2</td>\n",
       "      <td>151.5500</td>\n",
       "    </tr>\n",
       "    <tr>\n",
       "      <th>2</th>\n",
       "      <td>1</td>\n",
       "      <td>0</td>\n",
       "      <td>2.0000</td>\n",
       "      <td>1</td>\n",
       "      <td>2</td>\n",
       "      <td>151.5500</td>\n",
       "    </tr>\n",
       "    <tr>\n",
       "      <th>3</th>\n",
       "      <td>1</td>\n",
       "      <td>1</td>\n",
       "      <td>30.0000</td>\n",
       "      <td>1</td>\n",
       "      <td>2</td>\n",
       "      <td>151.5500</td>\n",
       "    </tr>\n",
       "    <tr>\n",
       "      <th>4</th>\n",
       "      <td>1</td>\n",
       "      <td>0</td>\n",
       "      <td>25.0000</td>\n",
       "      <td>1</td>\n",
       "      <td>2</td>\n",
       "      <td>151.5500</td>\n",
       "    </tr>\n",
       "  </tbody>\n",
       "</table>\n",
       "</div>"
      ],
      "text/plain": [
       "   pclass  sex      age  sibsp  parch      fare\n",
       "0       1    0  29.0000      0      0  211.3375\n",
       "1       1    1   0.9167      1      2  151.5500\n",
       "2       1    0   2.0000      1      2  151.5500\n",
       "3       1    1  30.0000      1      2  151.5500\n",
       "4       1    0  25.0000      1      2  151.5500"
      ]
     },
     "execution_count": 19,
     "metadata": {},
     "output_type": "execute_result"
    }
   ],
   "source": [
    "train_pre = raw_data[['pclass','sex','age','sibsp','parch','fare']]\n",
    "train_pre.head()"
   ]
  },
  {
   "cell_type": "code",
   "execution_count": 20,
   "metadata": {},
   "outputs": [],
   "source": [
    "from sklearn.model_selection import train_test_split\n",
    "X_train, X_test, y_train, y_test = train_test_split(train_pre, raw_data[['survived']],\n",
    "                                                    test_size=0.1, random_state=13)"
   ]
  },
  {
   "cell_type": "code",
   "execution_count": 21,
   "metadata": {},
   "outputs": [
    {
     "name": "stdout",
     "output_type": "stream",
     "text": [
      "<class 'pandas.core.frame.DataFrame'>\n",
      "Int64Index: 940 entries, 710 to 378\n",
      "Data columns (total 6 columns):\n",
      " #   Column  Non-Null Count  Dtype  \n",
      "---  ------  --------------  -----  \n",
      " 0   pclass  940 non-null    int64  \n",
      " 1   sex     940 non-null    int64  \n",
      " 2   age     940 non-null    float64\n",
      " 3   sibsp   940 non-null    int64  \n",
      " 4   parch   940 non-null    int64  \n",
      " 5   fare    940 non-null    float64\n",
      "dtypes: float64(2), int64(4)\n",
      "memory usage: 51.4 KB\n"
     ]
    }
   ],
   "source": [
    "X_train.info()"
   ]
  },
  {
   "cell_type": "code",
   "execution_count": 22,
   "metadata": {},
   "outputs": [],
   "source": [
    "# X_train.reset_index(inplace=True, drop=True)\n",
    "# X_train.head()"
   ]
  },
  {
   "cell_type": "code",
   "execution_count": 23,
   "metadata": {},
   "outputs": [],
   "source": [
    "X_train = X_train.reset_index()\n",
    "X_train = X_train.drop(['index'], axis=1)\n",
    "\n",
    "X_test = X_test.reset_index()\n",
    "X_test = X_test.drop(['index'], axis=1)\n",
    "\n",
    "y_train = y_train.reset_index()\n",
    "y_train = y_train.drop(['index'], axis=1)\n",
    "\n",
    "y_test = y_test.reset_index()\n",
    "y_test = y_test.drop(['index'], axis=1)"
   ]
  },
  {
   "cell_type": "code",
   "execution_count": 24,
   "metadata": {},
   "outputs": [
    {
     "data": {
      "text/html": [
       "<div>\n",
       "<style scoped>\n",
       "    .dataframe tbody tr th:only-of-type {\n",
       "        vertical-align: middle;\n",
       "    }\n",
       "\n",
       "    .dataframe tbody tr th {\n",
       "        vertical-align: top;\n",
       "    }\n",
       "\n",
       "    .dataframe thead th {\n",
       "        text-align: right;\n",
       "    }\n",
       "</style>\n",
       "<table border=\"1\" class=\"dataframe\">\n",
       "  <thead>\n",
       "    <tr style=\"text-align: right;\">\n",
       "      <th></th>\n",
       "      <th>pclass</th>\n",
       "      <th>sex</th>\n",
       "      <th>age</th>\n",
       "      <th>sibsp</th>\n",
       "      <th>parch</th>\n",
       "      <th>fare</th>\n",
       "    </tr>\n",
       "  </thead>\n",
       "  <tbody>\n",
       "    <tr>\n",
       "      <th>0</th>\n",
       "      <td>3</td>\n",
       "      <td>0</td>\n",
       "      <td>37.0</td>\n",
       "      <td>0</td>\n",
       "      <td>0</td>\n",
       "      <td>7.7500</td>\n",
       "    </tr>\n",
       "    <tr>\n",
       "      <th>1</th>\n",
       "      <td>2</td>\n",
       "      <td>1</td>\n",
       "      <td>34.0</td>\n",
       "      <td>0</td>\n",
       "      <td>0</td>\n",
       "      <td>13.0000</td>\n",
       "    </tr>\n",
       "    <tr>\n",
       "      <th>2</th>\n",
       "      <td>3</td>\n",
       "      <td>0</td>\n",
       "      <td>38.0</td>\n",
       "      <td>1</td>\n",
       "      <td>5</td>\n",
       "      <td>31.3875</td>\n",
       "    </tr>\n",
       "    <tr>\n",
       "      <th>3</th>\n",
       "      <td>2</td>\n",
       "      <td>1</td>\n",
       "      <td>31.0</td>\n",
       "      <td>0</td>\n",
       "      <td>0</td>\n",
       "      <td>13.0000</td>\n",
       "    </tr>\n",
       "    <tr>\n",
       "      <th>4</th>\n",
       "      <td>1</td>\n",
       "      <td>0</td>\n",
       "      <td>63.0</td>\n",
       "      <td>1</td>\n",
       "      <td>0</td>\n",
       "      <td>221.7792</td>\n",
       "    </tr>\n",
       "  </tbody>\n",
       "</table>\n",
       "</div>"
      ],
      "text/plain": [
       "   pclass  sex   age  sibsp  parch      fare\n",
       "0       3    0  37.0      0      0    7.7500\n",
       "1       2    1  34.0      0      0   13.0000\n",
       "2       3    0  38.0      1      5   31.3875\n",
       "3       2    1  31.0      0      0   13.0000\n",
       "4       1    0  63.0      1      0  221.7792"
      ]
     },
     "execution_count": 24,
     "metadata": {},
     "output_type": "execute_result"
    }
   ],
   "source": [
    "X_train.head()"
   ]
  },
  {
   "cell_type": "code",
   "execution_count": 25,
   "metadata": {},
   "outputs": [
    {
     "name": "stdout",
     "output_type": "stream",
     "text": [
      "Score : 0.83\n"
     ]
    }
   ],
   "source": [
    "from sklearn.tree import DecisionTreeClassifier\n",
    "tree_clf = DecisionTreeClassifier(max_depth=5, random_state=13)\n",
    "tree_clf.fit(X_train, y_train)\n",
    "\n",
    "print(f'Score : {tree_clf.score(X_train, y_train):.2f}')"
   ]
  },
  {
   "cell_type": "code",
   "execution_count": 26,
   "metadata": {},
   "outputs": [
    {
     "data": {
      "image/svg+xml": "<?xml version=\"1.0\" encoding=\"UTF-8\" standalone=\"no\"?>\n<!DOCTYPE svg PUBLIC \"-//W3C//DTD SVG 1.1//EN\"\n \"http://www.w3.org/Graphics/SVG/1.1/DTD/svg11.dtd\">\n<!-- Generated by graphviz version 5.0.0 (0)\n -->\n<!-- Title: Tree Pages: 1 -->\n<svg width=\"3412pt\" height=\"671pt\"\n viewBox=\"0.00 0.00 3411.50 671.00\" xmlns=\"http://www.w3.org/2000/svg\" xmlns:xlink=\"http://www.w3.org/1999/xlink\">\n<g id=\"graph0\" class=\"graph\" transform=\"scale(1 1) rotate(0) translate(4 667)\">\n<title>Tree</title>\n<polygon fill=\"white\" stroke=\"transparent\" points=\"-4,4 -4,-667 3407.5,-667 3407.5,4 -4,4\"/>\n<!-- 0 -->\n<g id=\"node1\" class=\"node\">\n<title>0</title>\n<path fill=\"#f7d8c2\" stroke=\"black\" d=\"M1731.5,-663C1731.5,-663 1624.5,-663 1624.5,-663 1618.5,-663 1612.5,-657 1612.5,-651 1612.5,-651 1612.5,-592 1612.5,-592 1612.5,-586 1618.5,-580 1624.5,-580 1624.5,-580 1731.5,-580 1731.5,-580 1737.5,-580 1743.5,-586 1743.5,-592 1743.5,-592 1743.5,-651 1743.5,-651 1743.5,-657 1737.5,-663 1731.5,-663\"/>\n<text text-anchor=\"middle\" x=\"1678\" y=\"-647.8\" font-family=\"Helvetica,sans-Serif\" font-size=\"14.00\">sex &lt;= 0.5</text>\n<text text-anchor=\"middle\" x=\"1678\" y=\"-632.8\" font-family=\"Helvetica,sans-Serif\" font-size=\"14.00\">gini = 0.483</text>\n<text text-anchor=\"middle\" x=\"1678\" y=\"-617.8\" font-family=\"Helvetica,sans-Serif\" font-size=\"14.00\">samples = 940</text>\n<text text-anchor=\"middle\" x=\"1678\" y=\"-602.8\" font-family=\"Helvetica,sans-Serif\" font-size=\"14.00\">value = [556, 384]</text>\n<text text-anchor=\"middle\" x=\"1678\" y=\"-587.8\" font-family=\"Helvetica,sans-Serif\" font-size=\"14.00\">class = Unsurvived</text>\n</g>\n<!-- 1 -->\n<g id=\"node2\" class=\"node\">\n<title>1</title>\n<path fill=\"#7dbfee\" stroke=\"black\" d=\"M1306.5,-544C1306.5,-544 1213.5,-544 1213.5,-544 1207.5,-544 1201.5,-538 1201.5,-532 1201.5,-532 1201.5,-473 1201.5,-473 1201.5,-467 1207.5,-461 1213.5,-461 1213.5,-461 1306.5,-461 1306.5,-461 1312.5,-461 1318.5,-467 1318.5,-473 1318.5,-473 1318.5,-532 1318.5,-532 1318.5,-538 1312.5,-544 1306.5,-544\"/>\n<text text-anchor=\"middle\" x=\"1260\" y=\"-528.8\" font-family=\"Helvetica,sans-Serif\" font-size=\"14.00\">pclass &lt;= 2.5</text>\n<text text-anchor=\"middle\" x=\"1260\" y=\"-513.8\" font-family=\"Helvetica,sans-Serif\" font-size=\"14.00\">gini = 0.381</text>\n<text text-anchor=\"middle\" x=\"1260\" y=\"-498.8\" font-family=\"Helvetica,sans-Serif\" font-size=\"14.00\">samples = 355</text>\n<text text-anchor=\"middle\" x=\"1260\" y=\"-483.8\" font-family=\"Helvetica,sans-Serif\" font-size=\"14.00\">value = [91, 264]</text>\n<text text-anchor=\"middle\" x=\"1260\" y=\"-468.8\" font-family=\"Helvetica,sans-Serif\" font-size=\"14.00\">class = Survived</text>\n</g>\n<!-- 0&#45;&gt;1 -->\n<g id=\"edge1\" class=\"edge\">\n<title>0&#45;&gt;1</title>\n<path fill=\"none\" stroke=\"black\" d=\"M1612.23,-602.09C1534.84,-580.43 1406.97,-544.64 1328.44,-522.66\"/>\n<polygon fill=\"black\" stroke=\"black\" points=\"1329.22,-519.24 1318.64,-519.91 1327.33,-525.98 1329.22,-519.24\"/>\n<text text-anchor=\"middle\" x=\"1330.9\" y=\"-538\" font-family=\"Helvetica,sans-Serif\" font-size=\"14.00\">True</text>\n</g>\n<!-- 28 -->\n<g id=\"node29\" class=\"node\">\n<title>28</title>\n<path fill=\"#eca26c\" stroke=\"black\" d=\"M2007.5,-544C2007.5,-544 1900.5,-544 1900.5,-544 1894.5,-544 1888.5,-538 1888.5,-532 1888.5,-532 1888.5,-473 1888.5,-473 1888.5,-467 1894.5,-461 1900.5,-461 1900.5,-461 2007.5,-461 2007.5,-461 2013.5,-461 2019.5,-467 2019.5,-473 2019.5,-473 2019.5,-532 2019.5,-532 2019.5,-538 2013.5,-544 2007.5,-544\"/>\n<text text-anchor=\"middle\" x=\"1954\" y=\"-528.8\" font-family=\"Helvetica,sans-Serif\" font-size=\"14.00\">age &lt;= 9.5</text>\n<text text-anchor=\"middle\" x=\"1954\" y=\"-513.8\" font-family=\"Helvetica,sans-Serif\" font-size=\"14.00\">gini = 0.326</text>\n<text text-anchor=\"middle\" x=\"1954\" y=\"-498.8\" font-family=\"Helvetica,sans-Serif\" font-size=\"14.00\">samples = 585</text>\n<text text-anchor=\"middle\" x=\"1954\" y=\"-483.8\" font-family=\"Helvetica,sans-Serif\" font-size=\"14.00\">value = [465, 120]</text>\n<text text-anchor=\"middle\" x=\"1954\" y=\"-468.8\" font-family=\"Helvetica,sans-Serif\" font-size=\"14.00\">class = Unsurvived</text>\n</g>\n<!-- 0&#45;&gt;28 -->\n<g id=\"edge28\" class=\"edge\">\n<title>0&#45;&gt;28</title>\n<path fill=\"none\" stroke=\"black\" d=\"M1743.76,-592.62C1784.37,-575.41 1836.62,-553.26 1878.86,-535.35\"/>\n<polygon fill=\"black\" stroke=\"black\" points=\"1880.43,-538.49 1888.27,-531.36 1877.69,-532.05 1880.43,-538.49\"/>\n<text text-anchor=\"middle\" x=\"1878.89\" y=\"-550.84\" font-family=\"Helvetica,sans-Serif\" font-size=\"14.00\">False</text>\n</g>\n<!-- 2 -->\n<g id=\"node3\" class=\"node\">\n<title>2</title>\n<path fill=\"#49a5e7\" stroke=\"black\" d=\"M604.5,-425C604.5,-425 511.5,-425 511.5,-425 505.5,-425 499.5,-419 499.5,-413 499.5,-413 499.5,-354 499.5,-354 499.5,-348 505.5,-342 511.5,-342 511.5,-342 604.5,-342 604.5,-342 610.5,-342 616.5,-348 616.5,-354 616.5,-354 616.5,-413 616.5,-413 616.5,-419 610.5,-425 604.5,-425\"/>\n<text text-anchor=\"middle\" x=\"558\" y=\"-409.8\" font-family=\"Helvetica,sans-Serif\" font-size=\"14.00\">fare &lt;= 32.09</text>\n<text text-anchor=\"middle\" x=\"558\" y=\"-394.8\" font-family=\"Helvetica,sans-Serif\" font-size=\"14.00\">gini = 0.139</text>\n<text text-anchor=\"middle\" x=\"558\" y=\"-379.8\" font-family=\"Helvetica,sans-Serif\" font-size=\"14.00\">samples = 213</text>\n<text text-anchor=\"middle\" x=\"558\" y=\"-364.8\" font-family=\"Helvetica,sans-Serif\" font-size=\"14.00\">value = [16, 197]</text>\n<text text-anchor=\"middle\" x=\"558\" y=\"-349.8\" font-family=\"Helvetica,sans-Serif\" font-size=\"14.00\">class = Survived</text>\n</g>\n<!-- 1&#45;&gt;2 -->\n<g id=\"edge2\" class=\"edge\">\n<title>1&#45;&gt;2</title>\n<path fill=\"none\" stroke=\"black\" d=\"M1201.36,-491.73C1072.44,-470.24 764.92,-418.99 627,-396\"/>\n<polygon fill=\"black\" stroke=\"black\" points=\"627.41,-392.52 616.97,-394.33 626.26,-399.43 627.41,-392.52\"/>\n</g>\n<!-- 15 -->\n<g id=\"node16\" class=\"node\">\n<title>15</title>\n<path fill=\"#fcf2ea\" stroke=\"black\" d=\"M1313.5,-425C1313.5,-425 1206.5,-425 1206.5,-425 1200.5,-425 1194.5,-419 1194.5,-413 1194.5,-413 1194.5,-354 1194.5,-354 1194.5,-348 1200.5,-342 1206.5,-342 1206.5,-342 1313.5,-342 1313.5,-342 1319.5,-342 1325.5,-348 1325.5,-354 1325.5,-354 1325.5,-413 1325.5,-413 1325.5,-419 1319.5,-425 1313.5,-425\"/>\n<text text-anchor=\"middle\" x=\"1260\" y=\"-409.8\" font-family=\"Helvetica,sans-Serif\" font-size=\"14.00\">fare &lt;= 23.087</text>\n<text text-anchor=\"middle\" x=\"1260\" y=\"-394.8\" font-family=\"Helvetica,sans-Serif\" font-size=\"14.00\">gini = 0.498</text>\n<text text-anchor=\"middle\" x=\"1260\" y=\"-379.8\" font-family=\"Helvetica,sans-Serif\" font-size=\"14.00\">samples = 142</text>\n<text text-anchor=\"middle\" x=\"1260\" y=\"-364.8\" font-family=\"Helvetica,sans-Serif\" font-size=\"14.00\">value = [75, 67]</text>\n<text text-anchor=\"middle\" x=\"1260\" y=\"-349.8\" font-family=\"Helvetica,sans-Serif\" font-size=\"14.00\">class = Unsurvived</text>\n</g>\n<!-- 1&#45;&gt;15 -->\n<g id=\"edge15\" class=\"edge\">\n<title>1&#45;&gt;15</title>\n<path fill=\"none\" stroke=\"black\" d=\"M1260,-460.91C1260,-452.65 1260,-443.86 1260,-435.3\"/>\n<polygon fill=\"black\" stroke=\"black\" points=\"1263.5,-435.02 1260,-425.02 1256.5,-435.02 1263.5,-435.02\"/>\n</g>\n<!-- 3 -->\n<g id=\"node4\" class=\"node\">\n<title>3</title>\n<path fill=\"#5baee9\" stroke=\"black\" d=\"M384,-306C384,-306 292,-306 292,-306 286,-306 280,-300 280,-294 280,-294 280,-235 280,-235 280,-229 286,-223 292,-223 292,-223 384,-223 384,-223 390,-223 396,-229 396,-235 396,-235 396,-294 396,-294 396,-300 390,-306 384,-306\"/>\n<text text-anchor=\"middle\" x=\"338\" y=\"-290.8\" font-family=\"Helvetica,sans-Serif\" font-size=\"14.00\">fare &lt;= 31.34</text>\n<text text-anchor=\"middle\" x=\"338\" y=\"-275.8\" font-family=\"Helvetica,sans-Serif\" font-size=\"14.00\">gini = 0.249</text>\n<text text-anchor=\"middle\" x=\"338\" y=\"-260.8\" font-family=\"Helvetica,sans-Serif\" font-size=\"14.00\">samples = 89</text>\n<text text-anchor=\"middle\" x=\"338\" y=\"-245.8\" font-family=\"Helvetica,sans-Serif\" font-size=\"14.00\">value = [13, 76]</text>\n<text text-anchor=\"middle\" x=\"338\" y=\"-230.8\" font-family=\"Helvetica,sans-Serif\" font-size=\"14.00\">class = Survived</text>\n</g>\n<!-- 2&#45;&gt;3 -->\n<g id=\"edge3\" class=\"edge\">\n<title>2&#45;&gt;3</title>\n<path fill=\"none\" stroke=\"black\" d=\"M499.33,-351.3C470.38,-335.9 435.31,-317.25 405.27,-301.28\"/>\n<polygon fill=\"black\" stroke=\"black\" points=\"406.59,-298.02 396.12,-296.41 403.31,-304.2 406.59,-298.02\"/>\n</g>\n<!-- 8 -->\n<g id=\"node9\" class=\"node\">\n<title>8</title>\n<path fill=\"#3e9fe6\" stroke=\"black\" d=\"M604,-306C604,-306 512,-306 512,-306 506,-306 500,-300 500,-294 500,-294 500,-235 500,-235 500,-229 506,-223 512,-223 512,-223 604,-223 604,-223 610,-223 616,-229 616,-235 616,-235 616,-294 616,-294 616,-300 610,-306 604,-306\"/>\n<text text-anchor=\"middle\" x=\"558\" y=\"-290.8\" font-family=\"Helvetica,sans-Serif\" font-size=\"14.00\">age &lt;= 2.5</text>\n<text text-anchor=\"middle\" x=\"558\" y=\"-275.8\" font-family=\"Helvetica,sans-Serif\" font-size=\"14.00\">gini = 0.047</text>\n<text text-anchor=\"middle\" x=\"558\" y=\"-260.8\" font-family=\"Helvetica,sans-Serif\" font-size=\"14.00\">samples = 124</text>\n<text text-anchor=\"middle\" x=\"558\" y=\"-245.8\" font-family=\"Helvetica,sans-Serif\" font-size=\"14.00\">value = [3, 121]</text>\n<text text-anchor=\"middle\" x=\"558\" y=\"-230.8\" font-family=\"Helvetica,sans-Serif\" font-size=\"14.00\">class = Survived</text>\n</g>\n<!-- 2&#45;&gt;8 -->\n<g id=\"edge8\" class=\"edge\">\n<title>2&#45;&gt;8</title>\n<path fill=\"none\" stroke=\"black\" d=\"M558,-341.91C558,-333.65 558,-324.86 558,-316.3\"/>\n<polygon fill=\"black\" stroke=\"black\" points=\"561.5,-316.02 558,-306.02 554.5,-316.02 561.5,-316.02\"/>\n</g>\n<!-- 4 -->\n<g id=\"node5\" class=\"node\">\n<title>4</title>\n<path fill=\"#58ace9\" stroke=\"black\" d=\"M242,-187C242,-187 150,-187 150,-187 144,-187 138,-181 138,-175 138,-175 138,-116 138,-116 138,-110 144,-104 150,-104 150,-104 242,-104 242,-104 248,-104 254,-110 254,-116 254,-116 254,-175 254,-175 254,-181 248,-187 242,-187\"/>\n<text text-anchor=\"middle\" x=\"196\" y=\"-171.8\" font-family=\"Helvetica,sans-Serif\" font-size=\"14.00\">age &lt;= 56.0</text>\n<text text-anchor=\"middle\" x=\"196\" y=\"-156.8\" font-family=\"Helvetica,sans-Serif\" font-size=\"14.00\">gini = 0.236</text>\n<text text-anchor=\"middle\" x=\"196\" y=\"-141.8\" font-family=\"Helvetica,sans-Serif\" font-size=\"14.00\">samples = 88</text>\n<text text-anchor=\"middle\" x=\"196\" y=\"-126.8\" font-family=\"Helvetica,sans-Serif\" font-size=\"14.00\">value = [12, 76]</text>\n<text text-anchor=\"middle\" x=\"196\" y=\"-111.8\" font-family=\"Helvetica,sans-Serif\" font-size=\"14.00\">class = Survived</text>\n</g>\n<!-- 3&#45;&gt;4 -->\n<g id=\"edge4\" class=\"edge\">\n<title>3&#45;&gt;4</title>\n<path fill=\"none\" stroke=\"black\" d=\"M288.73,-222.91C277.28,-213.47 264.99,-203.34 253.22,-193.65\"/>\n<polygon fill=\"black\" stroke=\"black\" points=\"255.12,-190.68 245.18,-187.02 250.67,-196.08 255.12,-190.68\"/>\n</g>\n<!-- 7 -->\n<g id=\"node8\" class=\"node\">\n<title>7</title>\n<path fill=\"#e58139\" stroke=\"black\" d=\"M391.5,-179.5C391.5,-179.5 284.5,-179.5 284.5,-179.5 278.5,-179.5 272.5,-173.5 272.5,-167.5 272.5,-167.5 272.5,-123.5 272.5,-123.5 272.5,-117.5 278.5,-111.5 284.5,-111.5 284.5,-111.5 391.5,-111.5 391.5,-111.5 397.5,-111.5 403.5,-117.5 403.5,-123.5 403.5,-123.5 403.5,-167.5 403.5,-167.5 403.5,-173.5 397.5,-179.5 391.5,-179.5\"/>\n<text text-anchor=\"middle\" x=\"338\" y=\"-164.3\" font-family=\"Helvetica,sans-Serif\" font-size=\"14.00\">gini = 0.0</text>\n<text text-anchor=\"middle\" x=\"338\" y=\"-149.3\" font-family=\"Helvetica,sans-Serif\" font-size=\"14.00\">samples = 1</text>\n<text text-anchor=\"middle\" x=\"338\" y=\"-134.3\" font-family=\"Helvetica,sans-Serif\" font-size=\"14.00\">value = [1, 0]</text>\n<text text-anchor=\"middle\" x=\"338\" y=\"-119.3\" font-family=\"Helvetica,sans-Serif\" font-size=\"14.00\">class = Unsurvived</text>\n</g>\n<!-- 3&#45;&gt;7 -->\n<g id=\"edge7\" class=\"edge\">\n<title>3&#45;&gt;7</title>\n<path fill=\"none\" stroke=\"black\" d=\"M338,-222.91C338,-212.2 338,-200.62 338,-189.78\"/>\n<polygon fill=\"black\" stroke=\"black\" points=\"341.5,-189.67 338,-179.67 334.5,-189.67 341.5,-189.67\"/>\n</g>\n<!-- 5 -->\n<g id=\"node6\" class=\"node\">\n<title>5</title>\n<path fill=\"#54aae9\" stroke=\"black\" d=\"M104,-68C104,-68 12,-68 12,-68 6,-68 0,-62 0,-56 0,-56 0,-12 0,-12 0,-6 6,0 12,0 12,0 104,0 104,0 110,0 116,-6 116,-12 116,-12 116,-56 116,-56 116,-62 110,-68 104,-68\"/>\n<text text-anchor=\"middle\" x=\"58\" y=\"-52.8\" font-family=\"Helvetica,sans-Serif\" font-size=\"14.00\">gini = 0.21</text>\n<text text-anchor=\"middle\" x=\"58\" y=\"-37.8\" font-family=\"Helvetica,sans-Serif\" font-size=\"14.00\">samples = 84</text>\n<text text-anchor=\"middle\" x=\"58\" y=\"-22.8\" font-family=\"Helvetica,sans-Serif\" font-size=\"14.00\">value = [10, 74]</text>\n<text text-anchor=\"middle\" x=\"58\" y=\"-7.8\" font-family=\"Helvetica,sans-Serif\" font-size=\"14.00\">class = Survived</text>\n</g>\n<!-- 4&#45;&gt;5 -->\n<g id=\"edge5\" class=\"edge\">\n<title>4&#45;&gt;5</title>\n<path fill=\"none\" stroke=\"black\" d=\"M144.61,-103.73C132.66,-94.24 119.95,-84.16 108.05,-74.72\"/>\n<polygon fill=\"black\" stroke=\"black\" points=\"109.98,-71.77 99.97,-68.3 105.62,-77.26 109.98,-71.77\"/>\n</g>\n<!-- 6 -->\n<g id=\"node7\" class=\"node\">\n<title>6</title>\n<path fill=\"#ffffff\" stroke=\"black\" d=\"M253.5,-68C253.5,-68 146.5,-68 146.5,-68 140.5,-68 134.5,-62 134.5,-56 134.5,-56 134.5,-12 134.5,-12 134.5,-6 140.5,0 146.5,0 146.5,0 253.5,0 253.5,0 259.5,0 265.5,-6 265.5,-12 265.5,-12 265.5,-56 265.5,-56 265.5,-62 259.5,-68 253.5,-68\"/>\n<text text-anchor=\"middle\" x=\"200\" y=\"-52.8\" font-family=\"Helvetica,sans-Serif\" font-size=\"14.00\">gini = 0.5</text>\n<text text-anchor=\"middle\" x=\"200\" y=\"-37.8\" font-family=\"Helvetica,sans-Serif\" font-size=\"14.00\">samples = 4</text>\n<text text-anchor=\"middle\" x=\"200\" y=\"-22.8\" font-family=\"Helvetica,sans-Serif\" font-size=\"14.00\">value = [2, 2]</text>\n<text text-anchor=\"middle\" x=\"200\" y=\"-7.8\" font-family=\"Helvetica,sans-Serif\" font-size=\"14.00\">class = Unsurvived</text>\n</g>\n<!-- 4&#45;&gt;6 -->\n<g id=\"edge6\" class=\"edge\">\n<title>4&#45;&gt;6</title>\n<path fill=\"none\" stroke=\"black\" d=\"M197.49,-103.73C197.79,-95.52 198.11,-86.86 198.41,-78.56\"/>\n<polygon fill=\"black\" stroke=\"black\" points=\"201.92,-78.42 198.78,-68.3 194.92,-78.17 201.92,-78.42\"/>\n</g>\n<!-- 9 -->\n<g id=\"node10\" class=\"node\">\n<title>9</title>\n<path fill=\"#ffffff\" stroke=\"black\" d=\"M540.5,-187C540.5,-187 433.5,-187 433.5,-187 427.5,-187 421.5,-181 421.5,-175 421.5,-175 421.5,-116 421.5,-116 421.5,-110 427.5,-104 433.5,-104 433.5,-104 540.5,-104 540.5,-104 546.5,-104 552.5,-110 552.5,-116 552.5,-116 552.5,-175 552.5,-175 552.5,-181 546.5,-187 540.5,-187\"/>\n<text text-anchor=\"middle\" x=\"487\" y=\"-171.8\" font-family=\"Helvetica,sans-Serif\" font-size=\"14.00\">age &lt;= 1.5</text>\n<text text-anchor=\"middle\" x=\"487\" y=\"-156.8\" font-family=\"Helvetica,sans-Serif\" font-size=\"14.00\">gini = 0.5</text>\n<text text-anchor=\"middle\" x=\"487\" y=\"-141.8\" font-family=\"Helvetica,sans-Serif\" font-size=\"14.00\">samples = 2</text>\n<text text-anchor=\"middle\" x=\"487\" y=\"-126.8\" font-family=\"Helvetica,sans-Serif\" font-size=\"14.00\">value = [1, 1]</text>\n<text text-anchor=\"middle\" x=\"487\" y=\"-111.8\" font-family=\"Helvetica,sans-Serif\" font-size=\"14.00\">class = Unsurvived</text>\n</g>\n<!-- 8&#45;&gt;9 -->\n<g id=\"edge9\" class=\"edge\">\n<title>8&#45;&gt;9</title>\n<path fill=\"none\" stroke=\"black\" d=\"M533.37,-222.91C528.03,-214.1 522.32,-204.7 516.8,-195.61\"/>\n<polygon fill=\"black\" stroke=\"black\" points=\"519.77,-193.75 511.59,-187.02 513.79,-197.39 519.77,-193.75\"/>\n</g>\n<!-- 12 -->\n<g id=\"node13\" class=\"node\">\n<title>12</title>\n<path fill=\"#3c9fe5\" stroke=\"black\" d=\"M675,-187C675,-187 583,-187 583,-187 577,-187 571,-181 571,-175 571,-175 571,-116 571,-116 571,-110 577,-104 583,-104 583,-104 675,-104 675,-104 681,-104 687,-110 687,-116 687,-116 687,-175 687,-175 687,-181 681,-187 675,-187\"/>\n<text text-anchor=\"middle\" x=\"629\" y=\"-171.8\" font-family=\"Helvetica,sans-Serif\" font-size=\"14.00\">age &lt;= 62.5</text>\n<text text-anchor=\"middle\" x=\"629\" y=\"-156.8\" font-family=\"Helvetica,sans-Serif\" font-size=\"14.00\">gini = 0.032</text>\n<text text-anchor=\"middle\" x=\"629\" y=\"-141.8\" font-family=\"Helvetica,sans-Serif\" font-size=\"14.00\">samples = 122</text>\n<text text-anchor=\"middle\" x=\"629\" y=\"-126.8\" font-family=\"Helvetica,sans-Serif\" font-size=\"14.00\">value = [2, 120]</text>\n<text text-anchor=\"middle\" x=\"629\" y=\"-111.8\" font-family=\"Helvetica,sans-Serif\" font-size=\"14.00\">class = Survived</text>\n</g>\n<!-- 8&#45;&gt;12 -->\n<g id=\"edge12\" class=\"edge\">\n<title>8&#45;&gt;12</title>\n<path fill=\"none\" stroke=\"black\" d=\"M582.63,-222.91C587.97,-214.1 593.68,-204.7 599.2,-195.61\"/>\n<polygon fill=\"black\" stroke=\"black\" points=\"602.21,-197.39 604.41,-187.02 596.23,-193.75 602.21,-197.39\"/>\n</g>\n<!-- 10 -->\n<g id=\"node11\" class=\"node\">\n<title>10</title>\n<path fill=\"#399de5\" stroke=\"black\" d=\"M391,-68C391,-68 299,-68 299,-68 293,-68 287,-62 287,-56 287,-56 287,-12 287,-12 287,-6 293,0 299,0 299,0 391,0 391,0 397,0 403,-6 403,-12 403,-12 403,-56 403,-56 403,-62 397,-68 391,-68\"/>\n<text text-anchor=\"middle\" x=\"345\" y=\"-52.8\" font-family=\"Helvetica,sans-Serif\" font-size=\"14.00\">gini = 0.0</text>\n<text text-anchor=\"middle\" x=\"345\" y=\"-37.8\" font-family=\"Helvetica,sans-Serif\" font-size=\"14.00\">samples = 1</text>\n<text text-anchor=\"middle\" x=\"345\" y=\"-22.8\" font-family=\"Helvetica,sans-Serif\" font-size=\"14.00\">value = [0, 1]</text>\n<text text-anchor=\"middle\" x=\"345\" y=\"-7.8\" font-family=\"Helvetica,sans-Serif\" font-size=\"14.00\">class = Survived</text>\n</g>\n<!-- 9&#45;&gt;10 -->\n<g id=\"edge10\" class=\"edge\">\n<title>9&#45;&gt;10</title>\n<path fill=\"none\" stroke=\"black\" d=\"M434.12,-103.73C421.71,-94.15 408.49,-83.96 396.15,-74.44\"/>\n<polygon fill=\"black\" stroke=\"black\" points=\"398.24,-71.63 388.18,-68.3 393.96,-77.18 398.24,-71.63\"/>\n</g>\n<!-- 11 -->\n<g id=\"node12\" class=\"node\">\n<title>11</title>\n<path fill=\"#e58139\" stroke=\"black\" d=\"M540.5,-68C540.5,-68 433.5,-68 433.5,-68 427.5,-68 421.5,-62 421.5,-56 421.5,-56 421.5,-12 421.5,-12 421.5,-6 427.5,0 433.5,0 433.5,0 540.5,0 540.5,0 546.5,0 552.5,-6 552.5,-12 552.5,-12 552.5,-56 552.5,-56 552.5,-62 546.5,-68 540.5,-68\"/>\n<text text-anchor=\"middle\" x=\"487\" y=\"-52.8\" font-family=\"Helvetica,sans-Serif\" font-size=\"14.00\">gini = 0.0</text>\n<text text-anchor=\"middle\" x=\"487\" y=\"-37.8\" font-family=\"Helvetica,sans-Serif\" font-size=\"14.00\">samples = 1</text>\n<text text-anchor=\"middle\" x=\"487\" y=\"-22.8\" font-family=\"Helvetica,sans-Serif\" font-size=\"14.00\">value = [1, 0]</text>\n<text text-anchor=\"middle\" x=\"487\" y=\"-7.8\" font-family=\"Helvetica,sans-Serif\" font-size=\"14.00\">class = Unsurvived</text>\n</g>\n<!-- 9&#45;&gt;11 -->\n<g id=\"edge11\" class=\"edge\">\n<title>9&#45;&gt;11</title>\n<path fill=\"none\" stroke=\"black\" d=\"M487,-103.73C487,-95.52 487,-86.86 487,-78.56\"/>\n<polygon fill=\"black\" stroke=\"black\" points=\"490.5,-78.3 487,-68.3 483.5,-78.3 490.5,-78.3\"/>\n</g>\n<!-- 13 -->\n<g id=\"node14\" class=\"node\">\n<title>13</title>\n<path fill=\"#3b9ee5\" stroke=\"black\" d=\"M675,-68C675,-68 583,-68 583,-68 577,-68 571,-62 571,-56 571,-56 571,-12 571,-12 571,-6 577,0 583,0 583,0 675,0 675,0 681,0 687,-6 687,-12 687,-12 687,-56 687,-56 687,-62 681,-68 675,-68\"/>\n<text text-anchor=\"middle\" x=\"629\" y=\"-52.8\" font-family=\"Helvetica,sans-Serif\" font-size=\"14.00\">gini = 0.017</text>\n<text text-anchor=\"middle\" x=\"629\" y=\"-37.8\" font-family=\"Helvetica,sans-Serif\" font-size=\"14.00\">samples = 119</text>\n<text text-anchor=\"middle\" x=\"629\" y=\"-22.8\" font-family=\"Helvetica,sans-Serif\" font-size=\"14.00\">value = [1, 118]</text>\n<text text-anchor=\"middle\" x=\"629\" y=\"-7.8\" font-family=\"Helvetica,sans-Serif\" font-size=\"14.00\">class = Survived</text>\n</g>\n<!-- 12&#45;&gt;13 -->\n<g id=\"edge13\" class=\"edge\">\n<title>12&#45;&gt;13</title>\n<path fill=\"none\" stroke=\"black\" d=\"M629,-103.73C629,-95.52 629,-86.86 629,-78.56\"/>\n<polygon fill=\"black\" stroke=\"black\" points=\"632.5,-78.3 629,-68.3 625.5,-78.3 632.5,-78.3\"/>\n</g>\n<!-- 14 -->\n<g id=\"node15\" class=\"node\">\n<title>14</title>\n<path fill=\"#9ccef2\" stroke=\"black\" d=\"M809,-68C809,-68 717,-68 717,-68 711,-68 705,-62 705,-56 705,-56 705,-12 705,-12 705,-6 711,0 717,0 717,0 809,0 809,0 815,0 821,-6 821,-12 821,-12 821,-56 821,-56 821,-62 815,-68 809,-68\"/>\n<text text-anchor=\"middle\" x=\"763\" y=\"-52.8\" font-family=\"Helvetica,sans-Serif\" font-size=\"14.00\">gini = 0.444</text>\n<text text-anchor=\"middle\" x=\"763\" y=\"-37.8\" font-family=\"Helvetica,sans-Serif\" font-size=\"14.00\">samples = 3</text>\n<text text-anchor=\"middle\" x=\"763\" y=\"-22.8\" font-family=\"Helvetica,sans-Serif\" font-size=\"14.00\">value = [1, 2]</text>\n<text text-anchor=\"middle\" x=\"763\" y=\"-7.8\" font-family=\"Helvetica,sans-Serif\" font-size=\"14.00\">class = Survived</text>\n</g>\n<!-- 12&#45;&gt;14 -->\n<g id=\"edge14\" class=\"edge\">\n<title>12&#45;&gt;14</title>\n<path fill=\"none\" stroke=\"black\" d=\"M678.9,-103.73C690.5,-94.24 702.85,-84.16 714.4,-74.72\"/>\n<polygon fill=\"black\" stroke=\"black\" points=\"716.72,-77.34 722.25,-68.3 712.29,-71.92 716.72,-77.34\"/>\n</g>\n<!-- 16 -->\n<g id=\"node17\" class=\"node\">\n<title>16</title>\n<path fill=\"#e4f1fb\" stroke=\"black\" d=\"M1235,-306C1235,-306 1143,-306 1143,-306 1137,-306 1131,-300 1131,-294 1131,-294 1131,-235 1131,-235 1131,-229 1137,-223 1143,-223 1143,-223 1235,-223 1235,-223 1241,-223 1247,-229 1247,-235 1247,-235 1247,-294 1247,-294 1247,-300 1241,-306 1235,-306\"/>\n<text text-anchor=\"middle\" x=\"1189\" y=\"-290.8\" font-family=\"Helvetica,sans-Serif\" font-size=\"14.00\">fare &lt;= 7.267</text>\n<text text-anchor=\"middle\" x=\"1189\" y=\"-275.8\" font-family=\"Helvetica,sans-Serif\" font-size=\"14.00\">gini = 0.497</text>\n<text text-anchor=\"middle\" x=\"1189\" y=\"-260.8\" font-family=\"Helvetica,sans-Serif\" font-size=\"14.00\">samples = 121</text>\n<text text-anchor=\"middle\" x=\"1189\" y=\"-245.8\" font-family=\"Helvetica,sans-Serif\" font-size=\"14.00\">value = [56, 65]</text>\n<text text-anchor=\"middle\" x=\"1189\" y=\"-230.8\" font-family=\"Helvetica,sans-Serif\" font-size=\"14.00\">class = Survived</text>\n</g>\n<!-- 15&#45;&gt;16 -->\n<g id=\"edge16\" class=\"edge\">\n<title>15&#45;&gt;16</title>\n<path fill=\"none\" stroke=\"black\" d=\"M1235.37,-341.91C1230.03,-333.1 1224.32,-323.7 1218.8,-314.61\"/>\n<polygon fill=\"black\" stroke=\"black\" points=\"1221.77,-312.75 1213.59,-306.02 1215.79,-316.39 1221.77,-312.75\"/>\n</g>\n<!-- 23 -->\n<g id=\"node24\" class=\"node\">\n<title>23</title>\n<path fill=\"#e88e4e\" stroke=\"black\" d=\"M1384.5,-306C1384.5,-306 1277.5,-306 1277.5,-306 1271.5,-306 1265.5,-300 1265.5,-294 1265.5,-294 1265.5,-235 1265.5,-235 1265.5,-229 1271.5,-223 1277.5,-223 1277.5,-223 1384.5,-223 1384.5,-223 1390.5,-223 1396.5,-229 1396.5,-235 1396.5,-235 1396.5,-294 1396.5,-294 1396.5,-300 1390.5,-306 1384.5,-306\"/>\n<text text-anchor=\"middle\" x=\"1331\" y=\"-290.8\" font-family=\"Helvetica,sans-Serif\" font-size=\"14.00\">fare &lt;= 31.331</text>\n<text text-anchor=\"middle\" x=\"1331\" y=\"-275.8\" font-family=\"Helvetica,sans-Serif\" font-size=\"14.00\">gini = 0.172</text>\n<text text-anchor=\"middle\" x=\"1331\" y=\"-260.8\" font-family=\"Helvetica,sans-Serif\" font-size=\"14.00\">samples = 21</text>\n<text text-anchor=\"middle\" x=\"1331\" y=\"-245.8\" font-family=\"Helvetica,sans-Serif\" font-size=\"14.00\">value = [19, 2]</text>\n<text text-anchor=\"middle\" x=\"1331\" y=\"-230.8\" font-family=\"Helvetica,sans-Serif\" font-size=\"14.00\">class = Unsurvived</text>\n</g>\n<!-- 15&#45;&gt;23 -->\n<g id=\"edge23\" class=\"edge\">\n<title>15&#45;&gt;23</title>\n<path fill=\"none\" stroke=\"black\" d=\"M1284.63,-341.91C1289.97,-333.1 1295.68,-323.7 1301.2,-314.61\"/>\n<polygon fill=\"black\" stroke=\"black\" points=\"1304.21,-316.39 1306.41,-306.02 1298.23,-312.75 1304.21,-316.39\"/>\n</g>\n<!-- 17 -->\n<g id=\"node18\" class=\"node\">\n<title>17</title>\n<path fill=\"#52a9e8\" stroke=\"black\" d=\"M1093,-187C1093,-187 1001,-187 1001,-187 995,-187 989,-181 989,-175 989,-175 989,-116 989,-116 989,-110 995,-104 1001,-104 1001,-104 1093,-104 1093,-104 1099,-104 1105,-110 1105,-116 1105,-116 1105,-175 1105,-175 1105,-181 1099,-187 1093,-187\"/>\n<text text-anchor=\"middle\" x=\"1047\" y=\"-171.8\" font-family=\"Helvetica,sans-Serif\" font-size=\"14.00\">fare &lt;= 6.85</text>\n<text text-anchor=\"middle\" x=\"1047\" y=\"-156.8\" font-family=\"Helvetica,sans-Serif\" font-size=\"14.00\">gini = 0.198</text>\n<text text-anchor=\"middle\" x=\"1047\" y=\"-141.8\" font-family=\"Helvetica,sans-Serif\" font-size=\"14.00\">samples = 9</text>\n<text text-anchor=\"middle\" x=\"1047\" y=\"-126.8\" font-family=\"Helvetica,sans-Serif\" font-size=\"14.00\">value = [1, 8]</text>\n<text text-anchor=\"middle\" x=\"1047\" y=\"-111.8\" font-family=\"Helvetica,sans-Serif\" font-size=\"14.00\">class = Survived</text>\n</g>\n<!-- 16&#45;&gt;17 -->\n<g id=\"edge17\" class=\"edge\">\n<title>16&#45;&gt;17</title>\n<path fill=\"none\" stroke=\"black\" d=\"M1139.73,-222.91C1128.28,-213.47 1115.99,-203.34 1104.22,-193.65\"/>\n<polygon fill=\"black\" stroke=\"black\" points=\"1106.12,-190.68 1096.18,-187.02 1101.67,-196.08 1106.12,-190.68\"/>\n</g>\n<!-- 20 -->\n<g id=\"node21\" class=\"node\">\n<title>20</title>\n<path fill=\"#f8fcfe\" stroke=\"black\" d=\"M1235,-187C1235,-187 1143,-187 1143,-187 1137,-187 1131,-181 1131,-175 1131,-175 1131,-116 1131,-116 1131,-110 1137,-104 1143,-104 1143,-104 1235,-104 1235,-104 1241,-104 1247,-110 1247,-116 1247,-116 1247,-175 1247,-175 1247,-181 1241,-187 1235,-187\"/>\n<text text-anchor=\"middle\" x=\"1189\" y=\"-171.8\" font-family=\"Helvetica,sans-Serif\" font-size=\"14.00\">parch &lt;= 0.5</text>\n<text text-anchor=\"middle\" x=\"1189\" y=\"-156.8\" font-family=\"Helvetica,sans-Serif\" font-size=\"14.00\">gini = 0.5</text>\n<text text-anchor=\"middle\" x=\"1189\" y=\"-141.8\" font-family=\"Helvetica,sans-Serif\" font-size=\"14.00\">samples = 112</text>\n<text text-anchor=\"middle\" x=\"1189\" y=\"-126.8\" font-family=\"Helvetica,sans-Serif\" font-size=\"14.00\">value = [55, 57]</text>\n<text text-anchor=\"middle\" x=\"1189\" y=\"-111.8\" font-family=\"Helvetica,sans-Serif\" font-size=\"14.00\">class = Survived</text>\n</g>\n<!-- 16&#45;&gt;20 -->\n<g id=\"edge20\" class=\"edge\">\n<title>16&#45;&gt;20</title>\n<path fill=\"none\" stroke=\"black\" d=\"M1189,-222.91C1189,-214.65 1189,-205.86 1189,-197.3\"/>\n<polygon fill=\"black\" stroke=\"black\" points=\"1192.5,-197.02 1189,-187.02 1185.5,-197.02 1192.5,-197.02\"/>\n</g>\n<!-- 18 -->\n<g id=\"node19\" class=\"node\">\n<title>18</title>\n<path fill=\"#e58139\" stroke=\"black\" d=\"M958.5,-68C958.5,-68 851.5,-68 851.5,-68 845.5,-68 839.5,-62 839.5,-56 839.5,-56 839.5,-12 839.5,-12 839.5,-6 845.5,0 851.5,0 851.5,0 958.5,0 958.5,0 964.5,0 970.5,-6 970.5,-12 970.5,-12 970.5,-56 970.5,-56 970.5,-62 964.5,-68 958.5,-68\"/>\n<text text-anchor=\"middle\" x=\"905\" y=\"-52.8\" font-family=\"Helvetica,sans-Serif\" font-size=\"14.00\">gini = 0.0</text>\n<text text-anchor=\"middle\" x=\"905\" y=\"-37.8\" font-family=\"Helvetica,sans-Serif\" font-size=\"14.00\">samples = 1</text>\n<text text-anchor=\"middle\" x=\"905\" y=\"-22.8\" font-family=\"Helvetica,sans-Serif\" font-size=\"14.00\">value = [1, 0]</text>\n<text text-anchor=\"middle\" x=\"905\" y=\"-7.8\" font-family=\"Helvetica,sans-Serif\" font-size=\"14.00\">class = Unsurvived</text>\n</g>\n<!-- 17&#45;&gt;18 -->\n<g id=\"edge18\" class=\"edge\">\n<title>17&#45;&gt;18</title>\n<path fill=\"none\" stroke=\"black\" d=\"M994.12,-103.73C981.71,-94.15 968.49,-83.96 956.15,-74.44\"/>\n<polygon fill=\"black\" stroke=\"black\" points=\"958.24,-71.63 948.18,-68.3 953.96,-77.18 958.24,-71.63\"/>\n</g>\n<!-- 19 -->\n<g id=\"node20\" class=\"node\">\n<title>19</title>\n<path fill=\"#399de5\" stroke=\"black\" d=\"M1093,-68C1093,-68 1001,-68 1001,-68 995,-68 989,-62 989,-56 989,-56 989,-12 989,-12 989,-6 995,0 1001,0 1001,0 1093,0 1093,0 1099,0 1105,-6 1105,-12 1105,-12 1105,-56 1105,-56 1105,-62 1099,-68 1093,-68\"/>\n<text text-anchor=\"middle\" x=\"1047\" y=\"-52.8\" font-family=\"Helvetica,sans-Serif\" font-size=\"14.00\">gini = 0.0</text>\n<text text-anchor=\"middle\" x=\"1047\" y=\"-37.8\" font-family=\"Helvetica,sans-Serif\" font-size=\"14.00\">samples = 8</text>\n<text text-anchor=\"middle\" x=\"1047\" y=\"-22.8\" font-family=\"Helvetica,sans-Serif\" font-size=\"14.00\">value = [0, 8]</text>\n<text text-anchor=\"middle\" x=\"1047\" y=\"-7.8\" font-family=\"Helvetica,sans-Serif\" font-size=\"14.00\">class = Survived</text>\n</g>\n<!-- 17&#45;&gt;19 -->\n<g id=\"edge19\" class=\"edge\">\n<title>17&#45;&gt;19</title>\n<path fill=\"none\" stroke=\"black\" d=\"M1047,-103.73C1047,-95.52 1047,-86.86 1047,-78.56\"/>\n<polygon fill=\"black\" stroke=\"black\" points=\"1050.5,-78.3 1047,-68.3 1043.5,-78.3 1050.5,-78.3\"/>\n</g>\n<!-- 21 -->\n<g id=\"node22\" class=\"node\">\n<title>21</title>\n<path fill=\"#f8ddca\" stroke=\"black\" d=\"M1242.5,-68C1242.5,-68 1135.5,-68 1135.5,-68 1129.5,-68 1123.5,-62 1123.5,-56 1123.5,-56 1123.5,-12 1123.5,-12 1123.5,-6 1129.5,0 1135.5,0 1135.5,0 1242.5,0 1242.5,0 1248.5,0 1254.5,-6 1254.5,-12 1254.5,-12 1254.5,-56 1254.5,-56 1254.5,-62 1248.5,-68 1242.5,-68\"/>\n<text text-anchor=\"middle\" x=\"1189\" y=\"-52.8\" font-family=\"Helvetica,sans-Serif\" font-size=\"14.00\">gini = 0.488</text>\n<text text-anchor=\"middle\" x=\"1189\" y=\"-37.8\" font-family=\"Helvetica,sans-Serif\" font-size=\"14.00\">samples = 71</text>\n<text text-anchor=\"middle\" x=\"1189\" y=\"-22.8\" font-family=\"Helvetica,sans-Serif\" font-size=\"14.00\">value = [41, 30]</text>\n<text text-anchor=\"middle\" x=\"1189\" y=\"-7.8\" font-family=\"Helvetica,sans-Serif\" font-size=\"14.00\">class = Unsurvived</text>\n</g>\n<!-- 20&#45;&gt;21 -->\n<g id=\"edge21\" class=\"edge\">\n<title>20&#45;&gt;21</title>\n<path fill=\"none\" stroke=\"black\" d=\"M1189,-103.73C1189,-95.52 1189,-86.86 1189,-78.56\"/>\n<polygon fill=\"black\" stroke=\"black\" points=\"1192.5,-78.3 1189,-68.3 1185.5,-78.3 1192.5,-78.3\"/>\n</g>\n<!-- 22 -->\n<g id=\"node23\" class=\"node\">\n<title>22</title>\n<path fill=\"#a0d0f2\" stroke=\"black\" d=\"M1377,-68C1377,-68 1285,-68 1285,-68 1279,-68 1273,-62 1273,-56 1273,-56 1273,-12 1273,-12 1273,-6 1279,0 1285,0 1285,0 1377,0 1377,0 1383,0 1389,-6 1389,-12 1389,-12 1389,-56 1389,-56 1389,-62 1383,-68 1377,-68\"/>\n<text text-anchor=\"middle\" x=\"1331\" y=\"-52.8\" font-family=\"Helvetica,sans-Serif\" font-size=\"14.00\">gini = 0.45</text>\n<text text-anchor=\"middle\" x=\"1331\" y=\"-37.8\" font-family=\"Helvetica,sans-Serif\" font-size=\"14.00\">samples = 41</text>\n<text text-anchor=\"middle\" x=\"1331\" y=\"-22.8\" font-family=\"Helvetica,sans-Serif\" font-size=\"14.00\">value = [14, 27]</text>\n<text text-anchor=\"middle\" x=\"1331\" y=\"-7.8\" font-family=\"Helvetica,sans-Serif\" font-size=\"14.00\">class = Survived</text>\n</g>\n<!-- 20&#45;&gt;22 -->\n<g id=\"edge22\" class=\"edge\">\n<title>20&#45;&gt;22</title>\n<path fill=\"none\" stroke=\"black\" d=\"M1241.88,-103.73C1254.29,-94.15 1267.51,-83.96 1279.85,-74.44\"/>\n<polygon fill=\"black\" stroke=\"black\" points=\"1282.04,-77.18 1287.82,-68.3 1277.76,-71.63 1282.04,-77.18\"/>\n</g>\n<!-- 24 -->\n<g id=\"node25\" class=\"node\">\n<title>24</title>\n<path fill=\"#e58139\" stroke=\"black\" d=\"M1384.5,-179.5C1384.5,-179.5 1277.5,-179.5 1277.5,-179.5 1271.5,-179.5 1265.5,-173.5 1265.5,-167.5 1265.5,-167.5 1265.5,-123.5 1265.5,-123.5 1265.5,-117.5 1271.5,-111.5 1277.5,-111.5 1277.5,-111.5 1384.5,-111.5 1384.5,-111.5 1390.5,-111.5 1396.5,-117.5 1396.5,-123.5 1396.5,-123.5 1396.5,-167.5 1396.5,-167.5 1396.5,-173.5 1390.5,-179.5 1384.5,-179.5\"/>\n<text text-anchor=\"middle\" x=\"1331\" y=\"-164.3\" font-family=\"Helvetica,sans-Serif\" font-size=\"14.00\">gini = 0.0</text>\n<text text-anchor=\"middle\" x=\"1331\" y=\"-149.3\" font-family=\"Helvetica,sans-Serif\" font-size=\"14.00\">samples = 11</text>\n<text text-anchor=\"middle\" x=\"1331\" y=\"-134.3\" font-family=\"Helvetica,sans-Serif\" font-size=\"14.00\">value = [11, 0]</text>\n<text text-anchor=\"middle\" x=\"1331\" y=\"-119.3\" font-family=\"Helvetica,sans-Serif\" font-size=\"14.00\">class = Unsurvived</text>\n</g>\n<!-- 23&#45;&gt;24 -->\n<g id=\"edge24\" class=\"edge\">\n<title>23&#45;&gt;24</title>\n<path fill=\"none\" stroke=\"black\" d=\"M1331,-222.91C1331,-212.2 1331,-200.62 1331,-189.78\"/>\n<polygon fill=\"black\" stroke=\"black\" points=\"1334.5,-189.67 1331,-179.67 1327.5,-189.67 1334.5,-189.67\"/>\n</g>\n<!-- 25 -->\n<g id=\"node26\" class=\"node\">\n<title>25</title>\n<path fill=\"#eca06a\" stroke=\"black\" d=\"M1533.5,-187C1533.5,-187 1426.5,-187 1426.5,-187 1420.5,-187 1414.5,-181 1414.5,-175 1414.5,-175 1414.5,-116 1414.5,-116 1414.5,-110 1420.5,-104 1426.5,-104 1426.5,-104 1533.5,-104 1533.5,-104 1539.5,-104 1545.5,-110 1545.5,-116 1545.5,-116 1545.5,-175 1545.5,-175 1545.5,-181 1539.5,-187 1533.5,-187\"/>\n<text text-anchor=\"middle\" x=\"1480\" y=\"-171.8\" font-family=\"Helvetica,sans-Serif\" font-size=\"14.00\">fare &lt;= 32.881</text>\n<text text-anchor=\"middle\" x=\"1480\" y=\"-156.8\" font-family=\"Helvetica,sans-Serif\" font-size=\"14.00\">gini = 0.32</text>\n<text text-anchor=\"middle\" x=\"1480\" y=\"-141.8\" font-family=\"Helvetica,sans-Serif\" font-size=\"14.00\">samples = 10</text>\n<text text-anchor=\"middle\" x=\"1480\" y=\"-126.8\" font-family=\"Helvetica,sans-Serif\" font-size=\"14.00\">value = [8, 2]</text>\n<text text-anchor=\"middle\" x=\"1480\" y=\"-111.8\" font-family=\"Helvetica,sans-Serif\" font-size=\"14.00\">class = Unsurvived</text>\n</g>\n<!-- 23&#45;&gt;25 -->\n<g id=\"edge25\" class=\"edge\">\n<title>23&#45;&gt;25</title>\n<path fill=\"none\" stroke=\"black\" d=\"M1382.69,-222.91C1394.83,-213.38 1407.86,-203.15 1420.31,-193.37\"/>\n<polygon fill=\"black\" stroke=\"black\" points=\"1422.69,-195.95 1428.4,-187.02 1418.37,-190.44 1422.69,-195.95\"/>\n</g>\n<!-- 26 -->\n<g id=\"node27\" class=\"node\">\n<title>26</title>\n<path fill=\"#399de5\" stroke=\"black\" d=\"M1511,-68C1511,-68 1419,-68 1419,-68 1413,-68 1407,-62 1407,-56 1407,-56 1407,-12 1407,-12 1407,-6 1413,0 1419,0 1419,0 1511,0 1511,0 1517,0 1523,-6 1523,-12 1523,-12 1523,-56 1523,-56 1523,-62 1517,-68 1511,-68\"/>\n<text text-anchor=\"middle\" x=\"1465\" y=\"-52.8\" font-family=\"Helvetica,sans-Serif\" font-size=\"14.00\">gini = 0.0</text>\n<text text-anchor=\"middle\" x=\"1465\" y=\"-37.8\" font-family=\"Helvetica,sans-Serif\" font-size=\"14.00\">samples = 2</text>\n<text text-anchor=\"middle\" x=\"1465\" y=\"-22.8\" font-family=\"Helvetica,sans-Serif\" font-size=\"14.00\">value = [0, 2]</text>\n<text text-anchor=\"middle\" x=\"1465\" y=\"-7.8\" font-family=\"Helvetica,sans-Serif\" font-size=\"14.00\">class = Survived</text>\n</g>\n<!-- 25&#45;&gt;26 -->\n<g id=\"edge26\" class=\"edge\">\n<title>25&#45;&gt;26</title>\n<path fill=\"none\" stroke=\"black\" d=\"M1474.41,-103.73C1473.28,-95.43 1472.08,-86.67 1470.93,-78.28\"/>\n<polygon fill=\"black\" stroke=\"black\" points=\"1474.39,-77.73 1469.56,-68.3 1467.45,-78.68 1474.39,-77.73\"/>\n</g>\n<!-- 27 -->\n<g id=\"node28\" class=\"node\">\n<title>27</title>\n<path fill=\"#e58139\" stroke=\"black\" d=\"M1660.5,-68C1660.5,-68 1553.5,-68 1553.5,-68 1547.5,-68 1541.5,-62 1541.5,-56 1541.5,-56 1541.5,-12 1541.5,-12 1541.5,-6 1547.5,0 1553.5,0 1553.5,0 1660.5,0 1660.5,0 1666.5,0 1672.5,-6 1672.5,-12 1672.5,-12 1672.5,-56 1672.5,-56 1672.5,-62 1666.5,-68 1660.5,-68\"/>\n<text text-anchor=\"middle\" x=\"1607\" y=\"-52.8\" font-family=\"Helvetica,sans-Serif\" font-size=\"14.00\">gini = 0.0</text>\n<text text-anchor=\"middle\" x=\"1607\" y=\"-37.8\" font-family=\"Helvetica,sans-Serif\" font-size=\"14.00\">samples = 8</text>\n<text text-anchor=\"middle\" x=\"1607\" y=\"-22.8\" font-family=\"Helvetica,sans-Serif\" font-size=\"14.00\">value = [8, 0]</text>\n<text text-anchor=\"middle\" x=\"1607\" y=\"-7.8\" font-family=\"Helvetica,sans-Serif\" font-size=\"14.00\">class = Unsurvived</text>\n</g>\n<!-- 25&#45;&gt;27 -->\n<g id=\"edge27\" class=\"edge\">\n<title>25&#45;&gt;27</title>\n<path fill=\"none\" stroke=\"black\" d=\"M1527.29,-103.73C1538.19,-94.33 1549.76,-84.35 1560.62,-74.99\"/>\n<polygon fill=\"black\" stroke=\"black\" points=\"1563.09,-77.48 1568.38,-68.3 1558.52,-72.18 1563.09,-77.48\"/>\n</g>\n<!-- 29 -->\n<g id=\"node30\" class=\"node\">\n<title>29</title>\n<path fill=\"#d9ecfa\" stroke=\"black\" d=\"M2000,-425C2000,-425 1908,-425 1908,-425 1902,-425 1896,-419 1896,-413 1896,-413 1896,-354 1896,-354 1896,-348 1902,-342 1908,-342 1908,-342 2000,-342 2000,-342 2006,-342 2012,-348 2012,-354 2012,-354 2012,-413 2012,-413 2012,-419 2006,-425 2000,-425\"/>\n<text text-anchor=\"middle\" x=\"1954\" y=\"-409.8\" font-family=\"Helvetica,sans-Serif\" font-size=\"14.00\">sibsp &lt;= 2.5</text>\n<text text-anchor=\"middle\" x=\"1954\" y=\"-394.8\" font-family=\"Helvetica,sans-Serif\" font-size=\"14.00\">gini = 0.494</text>\n<text text-anchor=\"middle\" x=\"1954\" y=\"-379.8\" font-family=\"Helvetica,sans-Serif\" font-size=\"14.00\">samples = 38</text>\n<text text-anchor=\"middle\" x=\"1954\" y=\"-364.8\" font-family=\"Helvetica,sans-Serif\" font-size=\"14.00\">value = [17, 21]</text>\n<text text-anchor=\"middle\" x=\"1954\" y=\"-349.8\" font-family=\"Helvetica,sans-Serif\" font-size=\"14.00\">class = Survived</text>\n</g>\n<!-- 28&#45;&gt;29 -->\n<g id=\"edge29\" class=\"edge\">\n<title>28&#45;&gt;29</title>\n<path fill=\"none\" stroke=\"black\" d=\"M1954,-460.91C1954,-452.65 1954,-443.86 1954,-435.3\"/>\n<polygon fill=\"black\" stroke=\"black\" points=\"1957.5,-435.02 1954,-425.02 1950.5,-435.02 1957.5,-435.02\"/>\n</g>\n<!-- 40 -->\n<g id=\"node41\" class=\"node\">\n<title>40</title>\n<path fill=\"#eb9d65\" stroke=\"black\" d=\"M2586.5,-425C2586.5,-425 2479.5,-425 2479.5,-425 2473.5,-425 2467.5,-419 2467.5,-413 2467.5,-413 2467.5,-354 2467.5,-354 2467.5,-348 2473.5,-342 2479.5,-342 2479.5,-342 2586.5,-342 2586.5,-342 2592.5,-342 2598.5,-348 2598.5,-354 2598.5,-354 2598.5,-413 2598.5,-413 2598.5,-419 2592.5,-425 2586.5,-425\"/>\n<text text-anchor=\"middle\" x=\"2533\" y=\"-409.8\" font-family=\"Helvetica,sans-Serif\" font-size=\"14.00\">pclass &lt;= 1.5</text>\n<text text-anchor=\"middle\" x=\"2533\" y=\"-394.8\" font-family=\"Helvetica,sans-Serif\" font-size=\"14.00\">gini = 0.296</text>\n<text text-anchor=\"middle\" x=\"2533\" y=\"-379.8\" font-family=\"Helvetica,sans-Serif\" font-size=\"14.00\">samples = 547</text>\n<text text-anchor=\"middle\" x=\"2533\" y=\"-364.8\" font-family=\"Helvetica,sans-Serif\" font-size=\"14.00\">value = [448, 99]</text>\n<text text-anchor=\"middle\" x=\"2533\" y=\"-349.8\" font-family=\"Helvetica,sans-Serif\" font-size=\"14.00\">class = Unsurvived</text>\n</g>\n<!-- 28&#45;&gt;40 -->\n<g id=\"edge40\" class=\"edge\">\n<title>28&#45;&gt;40</title>\n<path fill=\"none\" stroke=\"black\" d=\"M2019.57,-488.25C2127.64,-466.41 2342.54,-422.99 2457.04,-399.85\"/>\n<polygon fill=\"black\" stroke=\"black\" points=\"2458.02,-403.22 2467.13,-397.81 2456.64,-396.36 2458.02,-403.22\"/>\n</g>\n<!-- 30 -->\n<g id=\"node31\" class=\"node\">\n<title>30</title>\n<path fill=\"#57ace9\" stroke=\"black\" d=\"M1929,-306C1929,-306 1837,-306 1837,-306 1831,-306 1825,-300 1825,-294 1825,-294 1825,-235 1825,-235 1825,-229 1831,-223 1837,-223 1837,-223 1929,-223 1929,-223 1935,-223 1941,-229 1941,-235 1941,-235 1941,-294 1941,-294 1941,-300 1935,-306 1929,-306\"/>\n<text text-anchor=\"middle\" x=\"1883\" y=\"-290.8\" font-family=\"Helvetica,sans-Serif\" font-size=\"14.00\">age &lt;= 0.375</text>\n<text text-anchor=\"middle\" x=\"1883\" y=\"-275.8\" font-family=\"Helvetica,sans-Serif\" font-size=\"14.00\">gini = 0.227</text>\n<text text-anchor=\"middle\" x=\"1883\" y=\"-260.8\" font-family=\"Helvetica,sans-Serif\" font-size=\"14.00\">samples = 23</text>\n<text text-anchor=\"middle\" x=\"1883\" y=\"-245.8\" font-family=\"Helvetica,sans-Serif\" font-size=\"14.00\">value = [3, 20]</text>\n<text text-anchor=\"middle\" x=\"1883\" y=\"-230.8\" font-family=\"Helvetica,sans-Serif\" font-size=\"14.00\">class = Survived</text>\n</g>\n<!-- 29&#45;&gt;30 -->\n<g id=\"edge30\" class=\"edge\">\n<title>29&#45;&gt;30</title>\n<path fill=\"none\" stroke=\"black\" d=\"M1929.37,-341.91C1924.03,-333.1 1918.32,-323.7 1912.8,-314.61\"/>\n<polygon fill=\"black\" stroke=\"black\" points=\"1915.77,-312.75 1907.59,-306.02 1909.79,-316.39 1915.77,-312.75\"/>\n</g>\n<!-- 35 -->\n<g id=\"node36\" class=\"node\">\n<title>35</title>\n<path fill=\"#e78a47\" stroke=\"black\" d=\"M2078.5,-306C2078.5,-306 1971.5,-306 1971.5,-306 1965.5,-306 1959.5,-300 1959.5,-294 1959.5,-294 1959.5,-235 1959.5,-235 1959.5,-229 1965.5,-223 1971.5,-223 1971.5,-223 2078.5,-223 2078.5,-223 2084.5,-223 2090.5,-229 2090.5,-235 2090.5,-235 2090.5,-294 2090.5,-294 2090.5,-300 2084.5,-306 2078.5,-306\"/>\n<text text-anchor=\"middle\" x=\"2025\" y=\"-290.8\" font-family=\"Helvetica,sans-Serif\" font-size=\"14.00\">age &lt;= 3.5</text>\n<text text-anchor=\"middle\" x=\"2025\" y=\"-275.8\" font-family=\"Helvetica,sans-Serif\" font-size=\"14.00\">gini = 0.124</text>\n<text text-anchor=\"middle\" x=\"2025\" y=\"-260.8\" font-family=\"Helvetica,sans-Serif\" font-size=\"14.00\">samples = 15</text>\n<text text-anchor=\"middle\" x=\"2025\" y=\"-245.8\" font-family=\"Helvetica,sans-Serif\" font-size=\"14.00\">value = [14, 1]</text>\n<text text-anchor=\"middle\" x=\"2025\" y=\"-230.8\" font-family=\"Helvetica,sans-Serif\" font-size=\"14.00\">class = Unsurvived</text>\n</g>\n<!-- 29&#45;&gt;35 -->\n<g id=\"edge35\" class=\"edge\">\n<title>29&#45;&gt;35</title>\n<path fill=\"none\" stroke=\"black\" d=\"M1978.63,-341.91C1983.97,-333.1 1989.68,-323.7 1995.2,-314.61\"/>\n<polygon fill=\"black\" stroke=\"black\" points=\"1998.21,-316.39 2000.41,-306.02 1992.23,-312.75 1998.21,-316.39\"/>\n</g>\n<!-- 31 -->\n<g id=\"node32\" class=\"node\">\n<title>31</title>\n<path fill=\"#e58139\" stroke=\"black\" d=\"M1794.5,-179.5C1794.5,-179.5 1687.5,-179.5 1687.5,-179.5 1681.5,-179.5 1675.5,-173.5 1675.5,-167.5 1675.5,-167.5 1675.5,-123.5 1675.5,-123.5 1675.5,-117.5 1681.5,-111.5 1687.5,-111.5 1687.5,-111.5 1794.5,-111.5 1794.5,-111.5 1800.5,-111.5 1806.5,-117.5 1806.5,-123.5 1806.5,-123.5 1806.5,-167.5 1806.5,-167.5 1806.5,-173.5 1800.5,-179.5 1794.5,-179.5\"/>\n<text text-anchor=\"middle\" x=\"1741\" y=\"-164.3\" font-family=\"Helvetica,sans-Serif\" font-size=\"14.00\">gini = 0.0</text>\n<text text-anchor=\"middle\" x=\"1741\" y=\"-149.3\" font-family=\"Helvetica,sans-Serif\" font-size=\"14.00\">samples = 1</text>\n<text text-anchor=\"middle\" x=\"1741\" y=\"-134.3\" font-family=\"Helvetica,sans-Serif\" font-size=\"14.00\">value = [1, 0]</text>\n<text text-anchor=\"middle\" x=\"1741\" y=\"-119.3\" font-family=\"Helvetica,sans-Serif\" font-size=\"14.00\">class = Unsurvived</text>\n</g>\n<!-- 30&#45;&gt;31 -->\n<g id=\"edge31\" class=\"edge\">\n<title>30&#45;&gt;31</title>\n<path fill=\"none\" stroke=\"black\" d=\"M1833.73,-222.91C1819.27,-210.99 1803.47,-197.98 1789.09,-186.12\"/>\n<polygon fill=\"black\" stroke=\"black\" points=\"1791.2,-183.32 1781.25,-179.67 1786.75,-188.73 1791.2,-183.32\"/>\n</g>\n<!-- 32 -->\n<g id=\"node33\" class=\"node\">\n<title>32</title>\n<path fill=\"#4da7e8\" stroke=\"black\" d=\"M1929,-187C1929,-187 1837,-187 1837,-187 1831,-187 1825,-181 1825,-175 1825,-175 1825,-116 1825,-116 1825,-110 1831,-104 1837,-104 1837,-104 1929,-104 1929,-104 1935,-104 1941,-110 1941,-116 1941,-116 1941,-175 1941,-175 1941,-181 1935,-187 1929,-187\"/>\n<text text-anchor=\"middle\" x=\"1883\" y=\"-171.8\" font-family=\"Helvetica,sans-Serif\" font-size=\"14.00\">fare &lt;= 15.573</text>\n<text text-anchor=\"middle\" x=\"1883\" y=\"-156.8\" font-family=\"Helvetica,sans-Serif\" font-size=\"14.00\">gini = 0.165</text>\n<text text-anchor=\"middle\" x=\"1883\" y=\"-141.8\" font-family=\"Helvetica,sans-Serif\" font-size=\"14.00\">samples = 22</text>\n<text text-anchor=\"middle\" x=\"1883\" y=\"-126.8\" font-family=\"Helvetica,sans-Serif\" font-size=\"14.00\">value = [2, 20]</text>\n<text text-anchor=\"middle\" x=\"1883\" y=\"-111.8\" font-family=\"Helvetica,sans-Serif\" font-size=\"14.00\">class = Survived</text>\n</g>\n<!-- 30&#45;&gt;32 -->\n<g id=\"edge32\" class=\"edge\">\n<title>30&#45;&gt;32</title>\n<path fill=\"none\" stroke=\"black\" d=\"M1883,-222.91C1883,-214.65 1883,-205.86 1883,-197.3\"/>\n<polygon fill=\"black\" stroke=\"black\" points=\"1886.5,-197.02 1883,-187.02 1879.5,-197.02 1886.5,-197.02\"/>\n</g>\n<!-- 33 -->\n<g id=\"node34\" class=\"node\">\n<title>33</title>\n<path fill=\"#7bbeee\" stroke=\"black\" d=\"M1795,-68C1795,-68 1703,-68 1703,-68 1697,-68 1691,-62 1691,-56 1691,-56 1691,-12 1691,-12 1691,-6 1697,0 1703,0 1703,0 1795,0 1795,0 1801,0 1807,-6 1807,-12 1807,-12 1807,-56 1807,-56 1807,-62 1801,-68 1795,-68\"/>\n<text text-anchor=\"middle\" x=\"1749\" y=\"-52.8\" font-family=\"Helvetica,sans-Serif\" font-size=\"14.00\">gini = 0.375</text>\n<text text-anchor=\"middle\" x=\"1749\" y=\"-37.8\" font-family=\"Helvetica,sans-Serif\" font-size=\"14.00\">samples = 8</text>\n<text text-anchor=\"middle\" x=\"1749\" y=\"-22.8\" font-family=\"Helvetica,sans-Serif\" font-size=\"14.00\">value = [2, 6]</text>\n<text text-anchor=\"middle\" x=\"1749\" y=\"-7.8\" font-family=\"Helvetica,sans-Serif\" font-size=\"14.00\">class = Survived</text>\n</g>\n<!-- 32&#45;&gt;33 -->\n<g id=\"edge33\" class=\"edge\">\n<title>32&#45;&gt;33</title>\n<path fill=\"none\" stroke=\"black\" d=\"M1833.1,-103.73C1821.5,-94.24 1809.15,-84.16 1797.6,-74.72\"/>\n<polygon fill=\"black\" stroke=\"black\" points=\"1799.71,-71.92 1789.75,-68.3 1795.28,-77.34 1799.71,-71.92\"/>\n</g>\n<!-- 34 -->\n<g id=\"node35\" class=\"node\">\n<title>34</title>\n<path fill=\"#399de5\" stroke=\"black\" d=\"M1929,-68C1929,-68 1837,-68 1837,-68 1831,-68 1825,-62 1825,-56 1825,-56 1825,-12 1825,-12 1825,-6 1831,0 1837,0 1837,0 1929,0 1929,0 1935,0 1941,-6 1941,-12 1941,-12 1941,-56 1941,-56 1941,-62 1935,-68 1929,-68\"/>\n<text text-anchor=\"middle\" x=\"1883\" y=\"-52.8\" font-family=\"Helvetica,sans-Serif\" font-size=\"14.00\">gini = 0.0</text>\n<text text-anchor=\"middle\" x=\"1883\" y=\"-37.8\" font-family=\"Helvetica,sans-Serif\" font-size=\"14.00\">samples = 14</text>\n<text text-anchor=\"middle\" x=\"1883\" y=\"-22.8\" font-family=\"Helvetica,sans-Serif\" font-size=\"14.00\">value = [0, 14]</text>\n<text text-anchor=\"middle\" x=\"1883\" y=\"-7.8\" font-family=\"Helvetica,sans-Serif\" font-size=\"14.00\">class = Survived</text>\n</g>\n<!-- 32&#45;&gt;34 -->\n<g id=\"edge34\" class=\"edge\">\n<title>32&#45;&gt;34</title>\n<path fill=\"none\" stroke=\"black\" d=\"M1883,-103.73C1883,-95.52 1883,-86.86 1883,-78.56\"/>\n<polygon fill=\"black\" stroke=\"black\" points=\"1886.5,-78.3 1883,-68.3 1879.5,-78.3 1886.5,-78.3\"/>\n</g>\n<!-- 36 -->\n<g id=\"node37\" class=\"node\">\n<title>36</title>\n<path fill=\"#eca06a\" stroke=\"black\" d=\"M2078.5,-187C2078.5,-187 1971.5,-187 1971.5,-187 1965.5,-187 1959.5,-181 1959.5,-175 1959.5,-175 1959.5,-116 1959.5,-116 1959.5,-110 1965.5,-104 1971.5,-104 1971.5,-104 2078.5,-104 2078.5,-104 2084.5,-104 2090.5,-110 2090.5,-116 2090.5,-116 2090.5,-175 2090.5,-175 2090.5,-181 2084.5,-187 2078.5,-187\"/>\n<text text-anchor=\"middle\" x=\"2025\" y=\"-171.8\" font-family=\"Helvetica,sans-Serif\" font-size=\"14.00\">age &lt;= 2.5</text>\n<text text-anchor=\"middle\" x=\"2025\" y=\"-156.8\" font-family=\"Helvetica,sans-Serif\" font-size=\"14.00\">gini = 0.32</text>\n<text text-anchor=\"middle\" x=\"2025\" y=\"-141.8\" font-family=\"Helvetica,sans-Serif\" font-size=\"14.00\">samples = 5</text>\n<text text-anchor=\"middle\" x=\"2025\" y=\"-126.8\" font-family=\"Helvetica,sans-Serif\" font-size=\"14.00\">value = [4, 1]</text>\n<text text-anchor=\"middle\" x=\"2025\" y=\"-111.8\" font-family=\"Helvetica,sans-Serif\" font-size=\"14.00\">class = Unsurvived</text>\n</g>\n<!-- 35&#45;&gt;36 -->\n<g id=\"edge36\" class=\"edge\">\n<title>35&#45;&gt;36</title>\n<path fill=\"none\" stroke=\"black\" d=\"M2025,-222.91C2025,-214.65 2025,-205.86 2025,-197.3\"/>\n<polygon fill=\"black\" stroke=\"black\" points=\"2028.5,-197.02 2025,-187.02 2021.5,-197.02 2028.5,-197.02\"/>\n</g>\n<!-- 39 -->\n<g id=\"node40\" class=\"node\">\n<title>39</title>\n<path fill=\"#e58139\" stroke=\"black\" d=\"M2227.5,-179.5C2227.5,-179.5 2120.5,-179.5 2120.5,-179.5 2114.5,-179.5 2108.5,-173.5 2108.5,-167.5 2108.5,-167.5 2108.5,-123.5 2108.5,-123.5 2108.5,-117.5 2114.5,-111.5 2120.5,-111.5 2120.5,-111.5 2227.5,-111.5 2227.5,-111.5 2233.5,-111.5 2239.5,-117.5 2239.5,-123.5 2239.5,-123.5 2239.5,-167.5 2239.5,-167.5 2239.5,-173.5 2233.5,-179.5 2227.5,-179.5\"/>\n<text text-anchor=\"middle\" x=\"2174\" y=\"-164.3\" font-family=\"Helvetica,sans-Serif\" font-size=\"14.00\">gini = 0.0</text>\n<text text-anchor=\"middle\" x=\"2174\" y=\"-149.3\" font-family=\"Helvetica,sans-Serif\" font-size=\"14.00\">samples = 10</text>\n<text text-anchor=\"middle\" x=\"2174\" y=\"-134.3\" font-family=\"Helvetica,sans-Serif\" font-size=\"14.00\">value = [10, 0]</text>\n<text text-anchor=\"middle\" x=\"2174\" y=\"-119.3\" font-family=\"Helvetica,sans-Serif\" font-size=\"14.00\">class = Unsurvived</text>\n</g>\n<!-- 35&#45;&gt;39 -->\n<g id=\"edge39\" class=\"edge\">\n<title>35&#45;&gt;39</title>\n<path fill=\"none\" stroke=\"black\" d=\"M2076.69,-222.91C2091.87,-210.99 2108.45,-197.98 2123.54,-186.12\"/>\n<polygon fill=\"black\" stroke=\"black\" points=\"2126.06,-188.6 2131.76,-179.67 2121.74,-183.09 2126.06,-188.6\"/>\n</g>\n<!-- 37 -->\n<g id=\"node38\" class=\"node\">\n<title>37</title>\n<path fill=\"#e58139\" stroke=\"black\" d=\"M2078.5,-68C2078.5,-68 1971.5,-68 1971.5,-68 1965.5,-68 1959.5,-62 1959.5,-56 1959.5,-56 1959.5,-12 1959.5,-12 1959.5,-6 1965.5,0 1971.5,0 1971.5,0 2078.5,0 2078.5,0 2084.5,0 2090.5,-6 2090.5,-12 2090.5,-12 2090.5,-56 2090.5,-56 2090.5,-62 2084.5,-68 2078.5,-68\"/>\n<text text-anchor=\"middle\" x=\"2025\" y=\"-52.8\" font-family=\"Helvetica,sans-Serif\" font-size=\"14.00\">gini = 0.0</text>\n<text text-anchor=\"middle\" x=\"2025\" y=\"-37.8\" font-family=\"Helvetica,sans-Serif\" font-size=\"14.00\">samples = 4</text>\n<text text-anchor=\"middle\" x=\"2025\" y=\"-22.8\" font-family=\"Helvetica,sans-Serif\" font-size=\"14.00\">value = [4, 0]</text>\n<text text-anchor=\"middle\" x=\"2025\" y=\"-7.8\" font-family=\"Helvetica,sans-Serif\" font-size=\"14.00\">class = Unsurvived</text>\n</g>\n<!-- 36&#45;&gt;37 -->\n<g id=\"edge37\" class=\"edge\">\n<title>36&#45;&gt;37</title>\n<path fill=\"none\" stroke=\"black\" d=\"M2025,-103.73C2025,-95.52 2025,-86.86 2025,-78.56\"/>\n<polygon fill=\"black\" stroke=\"black\" points=\"2028.5,-78.3 2025,-68.3 2021.5,-78.3 2028.5,-78.3\"/>\n</g>\n<!-- 38 -->\n<g id=\"node39\" class=\"node\">\n<title>38</title>\n<path fill=\"#399de5\" stroke=\"black\" d=\"M2213,-68C2213,-68 2121,-68 2121,-68 2115,-68 2109,-62 2109,-56 2109,-56 2109,-12 2109,-12 2109,-6 2115,0 2121,0 2121,0 2213,0 2213,0 2219,0 2225,-6 2225,-12 2225,-12 2225,-56 2225,-56 2225,-62 2219,-68 2213,-68\"/>\n<text text-anchor=\"middle\" x=\"2167\" y=\"-52.8\" font-family=\"Helvetica,sans-Serif\" font-size=\"14.00\">gini = 0.0</text>\n<text text-anchor=\"middle\" x=\"2167\" y=\"-37.8\" font-family=\"Helvetica,sans-Serif\" font-size=\"14.00\">samples = 1</text>\n<text text-anchor=\"middle\" x=\"2167\" y=\"-22.8\" font-family=\"Helvetica,sans-Serif\" font-size=\"14.00\">value = [0, 1]</text>\n<text text-anchor=\"middle\" x=\"2167\" y=\"-7.8\" font-family=\"Helvetica,sans-Serif\" font-size=\"14.00\">class = Survived</text>\n</g>\n<!-- 36&#45;&gt;38 -->\n<g id=\"edge38\" class=\"edge\">\n<title>36&#45;&gt;38</title>\n<path fill=\"none\" stroke=\"black\" d=\"M2077.88,-103.73C2090.29,-94.15 2103.51,-83.96 2115.85,-74.44\"/>\n<polygon fill=\"black\" stroke=\"black\" points=\"2118.04,-77.18 2123.82,-68.3 2113.76,-71.63 2118.04,-77.18\"/>\n</g>\n<!-- 41 -->\n<g id=\"node42\" class=\"node\">\n<title>41</title>\n<path fill=\"#f3c3a1\" stroke=\"black\" d=\"M2586.5,-306C2586.5,-306 2479.5,-306 2479.5,-306 2473.5,-306 2467.5,-300 2467.5,-294 2467.5,-294 2467.5,-235 2467.5,-235 2467.5,-229 2473.5,-223 2479.5,-223 2479.5,-223 2586.5,-223 2586.5,-223 2592.5,-223 2598.5,-229 2598.5,-235 2598.5,-235 2598.5,-294 2598.5,-294 2598.5,-300 2592.5,-306 2586.5,-306\"/>\n<text text-anchor=\"middle\" x=\"2533\" y=\"-290.8\" font-family=\"Helvetica,sans-Serif\" font-size=\"14.00\">age &lt;= 53.5</text>\n<text text-anchor=\"middle\" x=\"2533\" y=\"-275.8\" font-family=\"Helvetica,sans-Serif\" font-size=\"14.00\">gini = 0.452</text>\n<text text-anchor=\"middle\" x=\"2533\" y=\"-260.8\" font-family=\"Helvetica,sans-Serif\" font-size=\"14.00\">samples = 139</text>\n<text text-anchor=\"middle\" x=\"2533\" y=\"-245.8\" font-family=\"Helvetica,sans-Serif\" font-size=\"14.00\">value = [91, 48]</text>\n<text text-anchor=\"middle\" x=\"2533\" y=\"-230.8\" font-family=\"Helvetica,sans-Serif\" font-size=\"14.00\">class = Unsurvived</text>\n</g>\n<!-- 40&#45;&gt;41 -->\n<g id=\"edge41\" class=\"edge\">\n<title>40&#45;&gt;41</title>\n<path fill=\"none\" stroke=\"black\" d=\"M2533,-341.91C2533,-333.65 2533,-324.86 2533,-316.3\"/>\n<polygon fill=\"black\" stroke=\"black\" points=\"2536.5,-316.02 2533,-306.02 2529.5,-316.02 2536.5,-316.02\"/>\n</g>\n<!-- 48 -->\n<g id=\"node49\" class=\"node\">\n<title>48</title>\n<path fill=\"#e99355\" stroke=\"black\" d=\"M3018.5,-306C3018.5,-306 2911.5,-306 2911.5,-306 2905.5,-306 2899.5,-300 2899.5,-294 2899.5,-294 2899.5,-235 2899.5,-235 2899.5,-229 2905.5,-223 2911.5,-223 2911.5,-223 3018.5,-223 3018.5,-223 3024.5,-223 3030.5,-229 3030.5,-235 3030.5,-235 3030.5,-294 3030.5,-294 3030.5,-300 3024.5,-306 3018.5,-306\"/>\n<text text-anchor=\"middle\" x=\"2965\" y=\"-290.8\" font-family=\"Helvetica,sans-Serif\" font-size=\"14.00\">age &lt;= 32.25</text>\n<text text-anchor=\"middle\" x=\"2965\" y=\"-275.8\" font-family=\"Helvetica,sans-Serif\" font-size=\"14.00\">gini = 0.219</text>\n<text text-anchor=\"middle\" x=\"2965\" y=\"-260.8\" font-family=\"Helvetica,sans-Serif\" font-size=\"14.00\">samples = 408</text>\n<text text-anchor=\"middle\" x=\"2965\" y=\"-245.8\" font-family=\"Helvetica,sans-Serif\" font-size=\"14.00\">value = [357, 51]</text>\n<text text-anchor=\"middle\" x=\"2965\" y=\"-230.8\" font-family=\"Helvetica,sans-Serif\" font-size=\"14.00\">class = Unsurvived</text>\n</g>\n<!-- 40&#45;&gt;48 -->\n<g id=\"edge48\" class=\"edge\">\n<title>40&#45;&gt;48</title>\n<path fill=\"none\" stroke=\"black\" d=\"M2598.61,-364.73C2676.86,-343.54 2807.39,-308.19 2889.69,-285.9\"/>\n<polygon fill=\"black\" stroke=\"black\" points=\"2890.74,-289.24 2899.48,-283.24 2888.91,-282.48 2890.74,-289.24\"/>\n</g>\n<!-- 42 -->\n<g id=\"node43\" class=\"node\">\n<title>42</title>\n<path fill=\"#f6d6be\" stroke=\"black\" d=\"M2511.5,-187C2511.5,-187 2404.5,-187 2404.5,-187 2398.5,-187 2392.5,-181 2392.5,-175 2392.5,-175 2392.5,-116 2392.5,-116 2392.5,-110 2398.5,-104 2404.5,-104 2404.5,-104 2511.5,-104 2511.5,-104 2517.5,-104 2523.5,-110 2523.5,-116 2523.5,-116 2523.5,-175 2523.5,-175 2523.5,-181 2517.5,-187 2511.5,-187\"/>\n<text text-anchor=\"middle\" x=\"2458\" y=\"-171.8\" font-family=\"Helvetica,sans-Serif\" font-size=\"14.00\">fare &lt;= 26.144</text>\n<text text-anchor=\"middle\" x=\"2458\" y=\"-156.8\" font-family=\"Helvetica,sans-Serif\" font-size=\"14.00\">gini = 0.481</text>\n<text text-anchor=\"middle\" x=\"2458\" y=\"-141.8\" font-family=\"Helvetica,sans-Serif\" font-size=\"14.00\">samples = 112</text>\n<text text-anchor=\"middle\" x=\"2458\" y=\"-126.8\" font-family=\"Helvetica,sans-Serif\" font-size=\"14.00\">value = [67, 45]</text>\n<text text-anchor=\"middle\" x=\"2458\" y=\"-111.8\" font-family=\"Helvetica,sans-Serif\" font-size=\"14.00\">class = Unsurvived</text>\n</g>\n<!-- 41&#45;&gt;42 -->\n<g id=\"edge42\" class=\"edge\">\n<title>41&#45;&gt;42</title>\n<path fill=\"none\" stroke=\"black\" d=\"M2506.98,-222.91C2501.34,-214.1 2495.31,-204.7 2489.48,-195.61\"/>\n<polygon fill=\"black\" stroke=\"black\" points=\"2492.32,-193.55 2483.97,-187.02 2486.43,-197.33 2492.32,-193.55\"/>\n</g>\n<!-- 45 -->\n<g id=\"node46\" class=\"node\">\n<title>45</title>\n<path fill=\"#e89152\" stroke=\"black\" d=\"M2660.5,-187C2660.5,-187 2553.5,-187 2553.5,-187 2547.5,-187 2541.5,-181 2541.5,-175 2541.5,-175 2541.5,-116 2541.5,-116 2541.5,-110 2547.5,-104 2553.5,-104 2553.5,-104 2660.5,-104 2660.5,-104 2666.5,-104 2672.5,-110 2672.5,-116 2672.5,-116 2672.5,-175 2672.5,-175 2672.5,-181 2666.5,-187 2660.5,-187\"/>\n<text text-anchor=\"middle\" x=\"2607\" y=\"-171.8\" font-family=\"Helvetica,sans-Serif\" font-size=\"14.00\">age &lt;= 75.5</text>\n<text text-anchor=\"middle\" x=\"2607\" y=\"-156.8\" font-family=\"Helvetica,sans-Serif\" font-size=\"14.00\">gini = 0.198</text>\n<text text-anchor=\"middle\" x=\"2607\" y=\"-141.8\" font-family=\"Helvetica,sans-Serif\" font-size=\"14.00\">samples = 27</text>\n<text text-anchor=\"middle\" x=\"2607\" y=\"-126.8\" font-family=\"Helvetica,sans-Serif\" font-size=\"14.00\">value = [24, 3]</text>\n<text text-anchor=\"middle\" x=\"2607\" y=\"-111.8\" font-family=\"Helvetica,sans-Serif\" font-size=\"14.00\">class = Unsurvived</text>\n</g>\n<!-- 41&#45;&gt;45 -->\n<g id=\"edge45\" class=\"edge\">\n<title>41&#45;&gt;45</title>\n<path fill=\"none\" stroke=\"black\" d=\"M2558.67,-222.91C2564.24,-214.1 2570.19,-204.7 2575.94,-195.61\"/>\n<polygon fill=\"black\" stroke=\"black\" points=\"2578.98,-197.34 2581.37,-187.02 2573.07,-193.6 2578.98,-197.34\"/>\n</g>\n<!-- 43 -->\n<g id=\"node44\" class=\"node\">\n<title>43</title>\n<path fill=\"#e88e4d\" stroke=\"black\" d=\"M2362.5,-68C2362.5,-68 2255.5,-68 2255.5,-68 2249.5,-68 2243.5,-62 2243.5,-56 2243.5,-56 2243.5,-12 2243.5,-12 2243.5,-6 2249.5,0 2255.5,0 2255.5,0 2362.5,0 2362.5,0 2368.5,0 2374.5,-6 2374.5,-12 2374.5,-12 2374.5,-56 2374.5,-56 2374.5,-62 2368.5,-68 2362.5,-68\"/>\n<text text-anchor=\"middle\" x=\"2309\" y=\"-52.8\" font-family=\"Helvetica,sans-Serif\" font-size=\"14.00\">gini = 0.165</text>\n<text text-anchor=\"middle\" x=\"2309\" y=\"-37.8\" font-family=\"Helvetica,sans-Serif\" font-size=\"14.00\">samples = 11</text>\n<text text-anchor=\"middle\" x=\"2309\" y=\"-22.8\" font-family=\"Helvetica,sans-Serif\" font-size=\"14.00\">value = [10, 1]</text>\n<text text-anchor=\"middle\" x=\"2309\" y=\"-7.8\" font-family=\"Helvetica,sans-Serif\" font-size=\"14.00\">class = Unsurvived</text>\n</g>\n<!-- 42&#45;&gt;43 -->\n<g id=\"edge43\" class=\"edge\">\n<title>42&#45;&gt;43</title>\n<path fill=\"none\" stroke=\"black\" d=\"M2402.52,-103.73C2389.49,-94.15 2375.62,-83.96 2362.67,-74.44\"/>\n<polygon fill=\"black\" stroke=\"black\" points=\"2364.44,-71.4 2354.31,-68.3 2360.3,-77.04 2364.44,-71.4\"/>\n</g>\n<!-- 44 -->\n<g id=\"node45\" class=\"node\">\n<title>44</title>\n<path fill=\"#f9e2d2\" stroke=\"black\" d=\"M2511.5,-68C2511.5,-68 2404.5,-68 2404.5,-68 2398.5,-68 2392.5,-62 2392.5,-56 2392.5,-56 2392.5,-12 2392.5,-12 2392.5,-6 2398.5,0 2404.5,0 2404.5,0 2511.5,0 2511.5,0 2517.5,0 2523.5,-6 2523.5,-12 2523.5,-12 2523.5,-56 2523.5,-56 2523.5,-62 2517.5,-68 2511.5,-68\"/>\n<text text-anchor=\"middle\" x=\"2458\" y=\"-52.8\" font-family=\"Helvetica,sans-Serif\" font-size=\"14.00\">gini = 0.492</text>\n<text text-anchor=\"middle\" x=\"2458\" y=\"-37.8\" font-family=\"Helvetica,sans-Serif\" font-size=\"14.00\">samples = 101</text>\n<text text-anchor=\"middle\" x=\"2458\" y=\"-22.8\" font-family=\"Helvetica,sans-Serif\" font-size=\"14.00\">value = [57, 44]</text>\n<text text-anchor=\"middle\" x=\"2458\" y=\"-7.8\" font-family=\"Helvetica,sans-Serif\" font-size=\"14.00\">class = Unsurvived</text>\n</g>\n<!-- 42&#45;&gt;44 -->\n<g id=\"edge44\" class=\"edge\">\n<title>42&#45;&gt;44</title>\n<path fill=\"none\" stroke=\"black\" d=\"M2458,-103.73C2458,-95.52 2458,-86.86 2458,-78.56\"/>\n<polygon fill=\"black\" stroke=\"black\" points=\"2461.5,-78.3 2458,-68.3 2454.5,-78.3 2461.5,-78.3\"/>\n</g>\n<!-- 46 -->\n<g id=\"node47\" class=\"node\">\n<title>46</title>\n<path fill=\"#e78c49\" stroke=\"black\" d=\"M2660.5,-68C2660.5,-68 2553.5,-68 2553.5,-68 2547.5,-68 2541.5,-62 2541.5,-56 2541.5,-56 2541.5,-12 2541.5,-12 2541.5,-6 2547.5,0 2553.5,0 2553.5,0 2660.5,0 2660.5,0 2666.5,0 2672.5,-6 2672.5,-12 2672.5,-12 2672.5,-56 2672.5,-56 2672.5,-62 2666.5,-68 2660.5,-68\"/>\n<text text-anchor=\"middle\" x=\"2607\" y=\"-52.8\" font-family=\"Helvetica,sans-Serif\" font-size=\"14.00\">gini = 0.142</text>\n<text text-anchor=\"middle\" x=\"2607\" y=\"-37.8\" font-family=\"Helvetica,sans-Serif\" font-size=\"14.00\">samples = 26</text>\n<text text-anchor=\"middle\" x=\"2607\" y=\"-22.8\" font-family=\"Helvetica,sans-Serif\" font-size=\"14.00\">value = [24, 2]</text>\n<text text-anchor=\"middle\" x=\"2607\" y=\"-7.8\" font-family=\"Helvetica,sans-Serif\" font-size=\"14.00\">class = Unsurvived</text>\n</g>\n<!-- 45&#45;&gt;46 -->\n<g id=\"edge46\" class=\"edge\">\n<title>45&#45;&gt;46</title>\n<path fill=\"none\" stroke=\"black\" d=\"M2607,-103.73C2607,-95.52 2607,-86.86 2607,-78.56\"/>\n<polygon fill=\"black\" stroke=\"black\" points=\"2610.5,-78.3 2607,-68.3 2603.5,-78.3 2610.5,-78.3\"/>\n</g>\n<!-- 47 -->\n<g id=\"node48\" class=\"node\">\n<title>47</title>\n<path fill=\"#399de5\" stroke=\"black\" d=\"M2795,-68C2795,-68 2703,-68 2703,-68 2697,-68 2691,-62 2691,-56 2691,-56 2691,-12 2691,-12 2691,-6 2697,0 2703,0 2703,0 2795,0 2795,0 2801,0 2807,-6 2807,-12 2807,-12 2807,-56 2807,-56 2807,-62 2801,-68 2795,-68\"/>\n<text text-anchor=\"middle\" x=\"2749\" y=\"-52.8\" font-family=\"Helvetica,sans-Serif\" font-size=\"14.00\">gini = 0.0</text>\n<text text-anchor=\"middle\" x=\"2749\" y=\"-37.8\" font-family=\"Helvetica,sans-Serif\" font-size=\"14.00\">samples = 1</text>\n<text text-anchor=\"middle\" x=\"2749\" y=\"-22.8\" font-family=\"Helvetica,sans-Serif\" font-size=\"14.00\">value = [0, 1]</text>\n<text text-anchor=\"middle\" x=\"2749\" y=\"-7.8\" font-family=\"Helvetica,sans-Serif\" font-size=\"14.00\">class = Survived</text>\n</g>\n<!-- 45&#45;&gt;47 -->\n<g id=\"edge47\" class=\"edge\">\n<title>45&#45;&gt;47</title>\n<path fill=\"none\" stroke=\"black\" d=\"M2659.88,-103.73C2672.29,-94.15 2685.51,-83.96 2697.85,-74.44\"/>\n<polygon fill=\"black\" stroke=\"black\" points=\"2700.04,-77.18 2705.82,-68.3 2695.76,-71.63 2700.04,-77.18\"/>\n</g>\n<!-- 49 -->\n<g id=\"node50\" class=\"node\">\n<title>49</title>\n<path fill=\"#ea985e\" stroke=\"black\" d=\"M3018.5,-187C3018.5,-187 2911.5,-187 2911.5,-187 2905.5,-187 2899.5,-181 2899.5,-175 2899.5,-175 2899.5,-116 2899.5,-116 2899.5,-110 2905.5,-104 2911.5,-104 2911.5,-104 3018.5,-104 3018.5,-104 3024.5,-104 3030.5,-110 3030.5,-116 3030.5,-116 3030.5,-175 3030.5,-175 3030.5,-181 3024.5,-187 3018.5,-187\"/>\n<text text-anchor=\"middle\" x=\"2965\" y=\"-171.8\" font-family=\"Helvetica,sans-Serif\" font-size=\"14.00\">fare &lt;= 7.837</text>\n<text text-anchor=\"middle\" x=\"2965\" y=\"-156.8\" font-family=\"Helvetica,sans-Serif\" font-size=\"14.00\">gini = 0.265</text>\n<text text-anchor=\"middle\" x=\"2965\" y=\"-141.8\" font-family=\"Helvetica,sans-Serif\" font-size=\"14.00\">samples = 280</text>\n<text text-anchor=\"middle\" x=\"2965\" y=\"-126.8\" font-family=\"Helvetica,sans-Serif\" font-size=\"14.00\">value = [236, 44]</text>\n<text text-anchor=\"middle\" x=\"2965\" y=\"-111.8\" font-family=\"Helvetica,sans-Serif\" font-size=\"14.00\">class = Unsurvived</text>\n</g>\n<!-- 48&#45;&gt;49 -->\n<g id=\"edge49\" class=\"edge\">\n<title>48&#45;&gt;49</title>\n<path fill=\"none\" stroke=\"black\" d=\"M2965,-222.91C2965,-214.65 2965,-205.86 2965,-197.3\"/>\n<polygon fill=\"black\" stroke=\"black\" points=\"2968.5,-197.02 2965,-187.02 2961.5,-197.02 2968.5,-197.02\"/>\n</g>\n<!-- 52 -->\n<g id=\"node53\" class=\"node\">\n<title>52</title>\n<path fill=\"#e78844\" stroke=\"black\" d=\"M3242.5,-187C3242.5,-187 3135.5,-187 3135.5,-187 3129.5,-187 3123.5,-181 3123.5,-175 3123.5,-175 3123.5,-116 3123.5,-116 3123.5,-110 3129.5,-104 3135.5,-104 3135.5,-104 3242.5,-104 3242.5,-104 3248.5,-104 3254.5,-110 3254.5,-116 3254.5,-116 3254.5,-175 3254.5,-175 3254.5,-181 3248.5,-187 3242.5,-187\"/>\n<text text-anchor=\"middle\" x=\"3189\" y=\"-171.8\" font-family=\"Helvetica,sans-Serif\" font-size=\"14.00\">age &lt;= 36.25</text>\n<text text-anchor=\"middle\" x=\"3189\" y=\"-156.8\" font-family=\"Helvetica,sans-Serif\" font-size=\"14.00\">gini = 0.103</text>\n<text text-anchor=\"middle\" x=\"3189\" y=\"-141.8\" font-family=\"Helvetica,sans-Serif\" font-size=\"14.00\">samples = 128</text>\n<text text-anchor=\"middle\" x=\"3189\" y=\"-126.8\" font-family=\"Helvetica,sans-Serif\" font-size=\"14.00\">value = [121, 7]</text>\n<text text-anchor=\"middle\" x=\"3189\" y=\"-111.8\" font-family=\"Helvetica,sans-Serif\" font-size=\"14.00\">class = Unsurvived</text>\n</g>\n<!-- 48&#45;&gt;52 -->\n<g id=\"edge52\" class=\"edge\">\n<title>48&#45;&gt;52</title>\n<path fill=\"none\" stroke=\"black\" d=\"M3030.69,-229.19C3056.91,-215.5 3087.23,-199.66 3114.27,-185.53\"/>\n<polygon fill=\"black\" stroke=\"black\" points=\"3116.06,-188.54 3123.31,-180.81 3112.82,-182.34 3116.06,-188.54\"/>\n</g>\n<!-- 50 -->\n<g id=\"node51\" class=\"node\">\n<title>50</title>\n<path fill=\"#eeae80\" stroke=\"black\" d=\"M2944.5,-68C2944.5,-68 2837.5,-68 2837.5,-68 2831.5,-68 2825.5,-62 2825.5,-56 2825.5,-56 2825.5,-12 2825.5,-12 2825.5,-6 2831.5,0 2837.5,0 2837.5,0 2944.5,0 2944.5,0 2950.5,0 2956.5,-6 2956.5,-12 2956.5,-12 2956.5,-56 2956.5,-56 2956.5,-62 2950.5,-68 2944.5,-68\"/>\n<text text-anchor=\"middle\" x=\"2891\" y=\"-52.8\" font-family=\"Helvetica,sans-Serif\" font-size=\"14.00\">gini = 0.389</text>\n<text text-anchor=\"middle\" x=\"2891\" y=\"-37.8\" font-family=\"Helvetica,sans-Serif\" font-size=\"14.00\">samples = 72</text>\n<text text-anchor=\"middle\" x=\"2891\" y=\"-22.8\" font-family=\"Helvetica,sans-Serif\" font-size=\"14.00\">value = [53, 19]</text>\n<text text-anchor=\"middle\" x=\"2891\" y=\"-7.8\" font-family=\"Helvetica,sans-Serif\" font-size=\"14.00\">class = Unsurvived</text>\n</g>\n<!-- 49&#45;&gt;50 -->\n<g id=\"edge50\" class=\"edge\">\n<title>49&#45;&gt;50</title>\n<path fill=\"none\" stroke=\"black\" d=\"M2937.45,-103.73C2931.47,-94.88 2925.13,-85.51 2919.13,-76.63\"/>\n<polygon fill=\"black\" stroke=\"black\" points=\"2922,-74.63 2913.5,-68.3 2916.2,-78.54 2922,-74.63\"/>\n</g>\n<!-- 51 -->\n<g id=\"node52\" class=\"node\">\n<title>51</title>\n<path fill=\"#e99254\" stroke=\"black\" d=\"M3093.5,-68C3093.5,-68 2986.5,-68 2986.5,-68 2980.5,-68 2974.5,-62 2974.5,-56 2974.5,-56 2974.5,-12 2974.5,-12 2974.5,-6 2980.5,0 2986.5,0 2986.5,0 3093.5,0 3093.5,0 3099.5,0 3105.5,-6 3105.5,-12 3105.5,-12 3105.5,-56 3105.5,-56 3105.5,-62 3099.5,-68 3093.5,-68\"/>\n<text text-anchor=\"middle\" x=\"3040\" y=\"-52.8\" font-family=\"Helvetica,sans-Serif\" font-size=\"14.00\">gini = 0.211</text>\n<text text-anchor=\"middle\" x=\"3040\" y=\"-37.8\" font-family=\"Helvetica,sans-Serif\" font-size=\"14.00\">samples = 208</text>\n<text text-anchor=\"middle\" x=\"3040\" y=\"-22.8\" font-family=\"Helvetica,sans-Serif\" font-size=\"14.00\">value = [183, 25]</text>\n<text text-anchor=\"middle\" x=\"3040\" y=\"-7.8\" font-family=\"Helvetica,sans-Serif\" font-size=\"14.00\">class = Unsurvived</text>\n</g>\n<!-- 49&#45;&gt;51 -->\n<g id=\"edge51\" class=\"edge\">\n<title>49&#45;&gt;51</title>\n<path fill=\"none\" stroke=\"black\" d=\"M2992.93,-103.73C2998.99,-94.88 3005.4,-85.51 3011.49,-76.63\"/>\n<polygon fill=\"black\" stroke=\"black\" points=\"3014.43,-78.53 3017.19,-68.3 3008.65,-74.57 3014.43,-78.53\"/>\n</g>\n<!-- 53 -->\n<g id=\"node54\" class=\"node\">\n<title>53</title>\n<path fill=\"#e58139\" stroke=\"black\" d=\"M3242.5,-68C3242.5,-68 3135.5,-68 3135.5,-68 3129.5,-68 3123.5,-62 3123.5,-56 3123.5,-56 3123.5,-12 3123.5,-12 3123.5,-6 3129.5,0 3135.5,0 3135.5,0 3242.5,0 3242.5,0 3248.5,0 3254.5,-6 3254.5,-12 3254.5,-12 3254.5,-56 3254.5,-56 3254.5,-62 3248.5,-68 3242.5,-68\"/>\n<text text-anchor=\"middle\" x=\"3189\" y=\"-52.8\" font-family=\"Helvetica,sans-Serif\" font-size=\"14.00\">gini = 0.0</text>\n<text text-anchor=\"middle\" x=\"3189\" y=\"-37.8\" font-family=\"Helvetica,sans-Serif\" font-size=\"14.00\">samples = 42</text>\n<text text-anchor=\"middle\" x=\"3189\" y=\"-22.8\" font-family=\"Helvetica,sans-Serif\" font-size=\"14.00\">value = [42, 0]</text>\n<text text-anchor=\"middle\" x=\"3189\" y=\"-7.8\" font-family=\"Helvetica,sans-Serif\" font-size=\"14.00\">class = Unsurvived</text>\n</g>\n<!-- 52&#45;&gt;53 -->\n<g id=\"edge53\" class=\"edge\">\n<title>52&#45;&gt;53</title>\n<path fill=\"none\" stroke=\"black\" d=\"M3189,-103.73C3189,-95.52 3189,-86.86 3189,-78.56\"/>\n<polygon fill=\"black\" stroke=\"black\" points=\"3192.5,-78.3 3189,-68.3 3185.5,-78.3 3192.5,-78.3\"/>\n</g>\n<!-- 54 -->\n<g id=\"node55\" class=\"node\">\n<title>54</title>\n<path fill=\"#e78c4b\" stroke=\"black\" d=\"M3391.5,-68C3391.5,-68 3284.5,-68 3284.5,-68 3278.5,-68 3272.5,-62 3272.5,-56 3272.5,-56 3272.5,-12 3272.5,-12 3272.5,-6 3278.5,0 3284.5,0 3284.5,0 3391.5,0 3391.5,0 3397.5,0 3403.5,-6 3403.5,-12 3403.5,-12 3403.5,-56 3403.5,-56 3403.5,-62 3397.5,-68 3391.5,-68\"/>\n<text text-anchor=\"middle\" x=\"3338\" y=\"-52.8\" font-family=\"Helvetica,sans-Serif\" font-size=\"14.00\">gini = 0.15</text>\n<text text-anchor=\"middle\" x=\"3338\" y=\"-37.8\" font-family=\"Helvetica,sans-Serif\" font-size=\"14.00\">samples = 86</text>\n<text text-anchor=\"middle\" x=\"3338\" y=\"-22.8\" font-family=\"Helvetica,sans-Serif\" font-size=\"14.00\">value = [79, 7]</text>\n<text text-anchor=\"middle\" x=\"3338\" y=\"-7.8\" font-family=\"Helvetica,sans-Serif\" font-size=\"14.00\">class = Unsurvived</text>\n</g>\n<!-- 52&#45;&gt;54 -->\n<g id=\"edge54\" class=\"edge\">\n<title>52&#45;&gt;54</title>\n<path fill=\"none\" stroke=\"black\" d=\"M3244.48,-103.73C3257.51,-94.15 3271.38,-83.96 3284.33,-74.44\"/>\n<polygon fill=\"black\" stroke=\"black\" points=\"3286.7,-77.04 3292.69,-68.3 3282.56,-71.4 3286.7,-77.04\"/>\n</g>\n</g>\n</svg>\n",
      "text/plain": [
       "<graphviz.sources.Source at 0x1629ba910>"
      ]
     },
     "execution_count": 26,
     "metadata": {},
     "output_type": "execute_result"
    }
   ],
   "source": [
    "from sklearn.tree import export_graphviz\n",
    "\n",
    "export_graphviz(\n",
    "        tree_clf,\n",
    "        out_file=\"titanic.dot\",\n",
    "        feature_names=['pclass', 'sex', 'age', 'sibsp', 'parch', 'fare'],\n",
    "        class_names=['Unsurvived','Survived'],\n",
    "        rounded=True,\n",
    "        filled=True\n",
    "    )\n",
    "\n",
    "import graphviz\n",
    "with open(\"titanic.dot\") as f:\n",
    "    dot_graph = f.read()\n",
    "dot = graphviz.Source(dot_graph)\n",
    "dot.format = 'png'\n",
    "dot.render(filename='titanic_tree', directory='images/decision_trees', cleanup=True)\n",
    "dot"
   ]
  },
  {
   "cell_type": "code",
   "execution_count": 27,
   "metadata": {},
   "outputs": [
    {
     "name": "stdout",
     "output_type": "stream",
     "text": [
      "Test accuracy is : 0.83\n"
     ]
    }
   ],
   "source": [
    "from sklearn.metrics import accuracy_score\n",
    "\n",
    "y_pred = tree_clf.predict(X_test)\n",
    "print(f'Test accuracy is : {accuracy_score(y_test, y_pred):.2f}')"
   ]
  },
  {
   "cell_type": "markdown",
   "metadata": {},
   "source": [
    "## 8. 디카프리오 생존 예측"
   ]
  },
  {
   "cell_type": "code",
   "execution_count": 28,
   "metadata": {},
   "outputs": [],
   "source": [
    "# pclass, sex, age, sibsp, parch, fare\n",
    "dicaprio = [3, 1, 19, 0, 0, 5] # 3등실, 남자, 19살, 형재자매X, 부모님X, 배삯 5\n",
    "winslet = [1, 0, 17, 1, 1, 100]"
   ]
  },
  {
   "cell_type": "code",
   "execution_count": 29,
   "metadata": {},
   "outputs": [
    {
     "data": {
      "text/plain": [
       "array([[0.00840336, 0.99159664]])"
      ]
     },
     "execution_count": 29,
     "metadata": {},
     "output_type": "execute_result"
    }
   ],
   "source": [
    "tree_clf.predict_proba([winslet]) # 생존 확률 100%에 가까움"
   ]
  },
  {
   "cell_type": "code",
   "execution_count": 30,
   "metadata": {},
   "outputs": [
    {
     "data": {
      "text/plain": [
       "array([[0.73611111, 0.26388889]])"
      ]
     },
     "execution_count": 30,
     "metadata": {},
     "output_type": "execute_result"
    }
   ],
   "source": [
    "# predict_proba 확률 : 전체 1 (=0.02419355 + 0.97580645)\n",
    "tree_clf.predict_proba([dicaprio])"
   ]
  },
  {
   "cell_type": "code",
   "execution_count": 31,
   "metadata": {},
   "outputs": [
    {
     "data": {
      "text/plain": [
       "array([[1., 0.]])"
      ]
     },
     "execution_count": 31,
     "metadata": {},
     "output_type": "execute_result"
    }
   ],
   "source": [
    "seondo = [3, 1, 33, 0, 1, 10] \n",
    "tree_clf.predict_proba([seondo])"
   ]
  },
  {
   "cell_type": "code",
   "execution_count": 32,
   "metadata": {},
   "outputs": [],
   "source": [
    "from sklearn.neighbors import KNeighborsClassifier\n",
    "from sklearn.ensemble import RandomForestClassifier"
   ]
  },
  {
   "cell_type": "code",
   "execution_count": 33,
   "metadata": {},
   "outputs": [
    {
     "name": "stdout",
     "output_type": "stream",
     "text": [
      "Score : 0.77\n"
     ]
    }
   ],
   "source": [
    "knn_clf = KNeighborsClassifier(n_neighbors=5)\n",
    "knn_clf.fit(X_train, y_train)\n",
    "print(f'Score : {knn_clf.score(X_train, y_train):.2f}')"
   ]
  },
  {
   "cell_type": "code",
   "execution_count": 34,
   "metadata": {},
   "outputs": [
    {
     "name": "stdout",
     "output_type": "stream",
     "text": [
      "Score : 0.97\n"
     ]
    }
   ],
   "source": [
    "Ran_clf = RandomForestClassifier(n_estimators=13)\n",
    "Ran_clf.fit(X_train, y_train)\n",
    "print(f'Score : {Ran_clf.score(X_train, y_train):.2f}')"
   ]
  },
  {
   "cell_type": "code",
   "execution_count": 35,
   "metadata": {},
   "outputs": [],
   "source": [
    "from sklearn.model_selection import KFold, cross_val_score\n",
    "\n",
    "k_fold = KFold(n_splits=10, shuffle=True, random_state=0)"
   ]
  },
  {
   "cell_type": "code",
   "execution_count": 36,
   "metadata": {},
   "outputs": [
    {
     "name": "stdout",
     "output_type": "stream",
     "text": [
      "[0.70212766 0.75531915 0.82978723 0.70212766 0.74468085 0.72340426\n",
      " 0.73404255 0.77659574 0.72340426 0.77659574]\n",
      "<class 'numpy.ndarray'>\n"
     ]
    }
   ],
   "source": [
    "kf_tree_clf = DecisionTreeClassifier()\n",
    "sco = 'accuracy'\n",
    "score = cross_val_score(kf_tree_clf, X_train, y_train, cv=k_fold, scoring=sco)\n",
    "print(score)\n",
    "print(type(score))"
   ]
  },
  {
   "cell_type": "code",
   "execution_count": 37,
   "metadata": {},
   "outputs": [
    {
     "data": {
      "text/plain": [
       "74.68"
      ]
     },
     "execution_count": 37,
     "metadata": {},
     "output_type": "execute_result"
    }
   ],
   "source": [
    "round(np.mean(score)*100 , 2)"
   ]
  },
  {
   "cell_type": "code",
   "execution_count": null,
   "metadata": {},
   "outputs": [],
   "source": []
  }
 ],
 "metadata": {
  "kernelspec": {
   "display_name": "Python 3.8.13 ('sesac')",
   "language": "python",
   "name": "python3"
  },
  "language_info": {
   "codemirror_mode": {
    "name": "ipython",
    "version": 3
   },
   "file_extension": ".py",
   "mimetype": "text/x-python",
   "name": "python",
   "nbconvert_exporter": "python",
   "pygments_lexer": "ipython3",
   "version": "3.8.13"
  },
  "orig_nbformat": 4,
  "vscode": {
   "interpreter": {
    "hash": "d72e5c5dab5ddceff39d1d4ea410d21d6d20b42ab1bd7a6e025ed96f0364e9ea"
   }
  }
 },
 "nbformat": 4,
 "nbformat_minor": 2
}
