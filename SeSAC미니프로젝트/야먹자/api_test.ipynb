{
 "cells": [
  {
   "cell_type": "code",
   "execution_count": 68,
   "metadata": {},
   "outputs": [],
   "source": [
    "import requests\n",
    "import json\n",
    "from pprint import pprint as p\n",
    "import tqdm\n",
    "import time"
   ]
  },
  {
   "cell_type": "code",
   "execution_count": 58,
   "metadata": {},
   "outputs": [],
   "source": [
    "api = '60431c4ff260df1ad8a231a5339088e3'\n",
    "headers = f'KakaoAK {api}'\n",
    "url = f'https://dapi.kakao.com/v2/local/search/keyword.json'\n",
    "params = {\n",
    "    'query': '영등포 맛집',\n",
    "    'page' : 2,\n",
    "    'size' : 10\n",
    "}\n",
    "\n",
    "# url에 json 형태로 찾을 내용을 입력\n",
    "headers = {'Authorization' : headers}\n",
    "response = requests.get(url, headers=headers, params=params)"
   ]
  },
  {
   "cell_type": "code",
   "execution_count": 59,
   "metadata": {},
   "outputs": [
    {
     "name": "stdout",
     "output_type": "stream",
     "text": [
      "dict_keys(['documents', 'meta'])\n"
     ]
    }
   ],
   "source": [
    "p(json.loads(response.text).keys())"
   ]
  },
  {
   "cell_type": "code",
   "execution_count": 60,
   "metadata": {},
   "outputs": [],
   "source": [
    "a = json.loads(response.text)"
   ]
  },
  {
   "cell_type": "code",
   "execution_count": 66,
   "metadata": {},
   "outputs": [
    {
     "data": {
      "text/plain": [
       "'원조호수삼계탕 본점'"
      ]
     },
     "execution_count": 66,
     "metadata": {},
     "output_type": "execute_result"
    }
   ],
   "source": [
    "a['documents'][0]['place_name']"
   ]
  },
  {
   "cell_type": "code",
   "execution_count": null,
   "metadata": {},
   "outputs": [],
   "source": [
    "title = []\n",
    "page = 1\n",
    "for x in tqdm(range(1, 100)):\n",
    "    params = { 'query': '영등포 맛집', 'page' : x, 'size' : 10}\n",
    "    temp = requests.get(url, params=params, headers=headers).text\n",
    "    json.loads(temp)['documents'][x]\n",
    "    time.sleep(0.5)\n"
   ]
  },
  {
   "cell_type": "code",
   "execution_count": null,
   "metadata": {},
   "outputs": [],
   "source": []
  }
 ],
 "metadata": {
  "kernelspec": {
   "display_name": "Python 3.7.13 ('sesac')",
   "language": "python",
   "name": "python3"
  },
  "language_info": {
   "codemirror_mode": {
    "name": "ipython",
    "version": 3
   },
   "file_extension": ".py",
   "mimetype": "text/x-python",
   "name": "python",
   "nbconvert_exporter": "python",
   "pygments_lexer": "ipython3",
   "version": "3.7.13"
  },
  "orig_nbformat": 4,
  "vscode": {
   "interpreter": {
    "hash": "10c5266451461070ab9a582399e8bb66b03430da1ac04dd839d1878132a9a125"
   }
  }
 },
 "nbformat": 4,
 "nbformat_minor": 2
}
