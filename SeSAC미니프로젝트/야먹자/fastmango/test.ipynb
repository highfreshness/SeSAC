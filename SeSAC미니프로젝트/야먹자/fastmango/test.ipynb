{
 "cells": [
  {
   "cell_type": "code",
   "execution_count": 74,
   "metadata": {},
   "outputs": [],
   "source": [
    "from bs4 import BeautifulSoup\n",
    "from fake_useragent import UserAgent\n",
    "import requests\n",
    "import pandas as pd"
   ]
  },
  {
   "cell_type": "code",
   "execution_count": 31,
   "metadata": {},
   "outputs": [],
   "source": [
    "ua = UserAgent(verify_ssl=False)\n",
    "userAgent = ua.random\n",
    "headers = {\"User-Agent\" : userAgent}\n",
    "\n",
    "BASE_URL = \"https://www.mangoplate.com/search/\""
   ]
  },
  {
   "cell_type": "code",
   "execution_count": 52,
   "metadata": {},
   "outputs": [],
   "source": [
    "keyword = '한림'\n",
    "res = requests.get(f\"{BASE_URL}{keyword}?keyword={keyword}&page={5}\", headers=headers)\n",
    "soup = BeautifulSoup(res.text, \"html.parser\")\n",
    "data = soup.find(\"ul\", \"list-restaurants\")\n",
    "title = data.find_all(\"h2\", \"title\")\n",
    "place_url = data.find_all(\"a\", \"only-desktop_not\")\n",
    "rating = data.find_all(\"strong\", \"search_point\")\n",
    "etc = data.find_all(\"p\", \"etc\")"
   ]
  },
  {
   "cell_type": "code",
   "execution_count": 53,
   "metadata": {},
   "outputs": [],
   "source": [
    "titles = [x.get_text().replace(\"\\n\", \"\").replace(\" \", \"\") for x in title]\n",
    "place_urls = [\"https://www.mangoplate.com/\"+x['href'][1:] for x in place_url]\n",
    "ratings = [x.text for x in rating]\n",
    "locations = [x.text.split(\"-\")[0].strip() for x in etc]\n",
    "categories = [x.text.split(\"-\")[1].replace(\" \", \"\") for x in etc]"
   ]
  },
  {
   "cell_type": "code",
   "execution_count": 77,
   "metadata": {},
   "outputs": [],
   "source": [
    "df = pd.DataFrame(zip(titles, place_urls, ratings, locations, categories), columns = [\"title\", \"place_url\", \"rating\", \"location\", \"category\"])"
   ]
  },
  {
   "cell_type": "code",
   "execution_count": 78,
   "metadata": {},
   "outputs": [
    {
     "data": {
      "text/html": [
       "<div>\n",
       "<style scoped>\n",
       "    .dataframe tbody tr th:only-of-type {\n",
       "        vertical-align: middle;\n",
       "    }\n",
       "\n",
       "    .dataframe tbody tr th {\n",
       "        vertical-align: top;\n",
       "    }\n",
       "\n",
       "    .dataframe thead th {\n",
       "        text-align: right;\n",
       "    }\n",
       "</style>\n",
       "<table border=\"1\" class=\"dataframe\">\n",
       "  <thead>\n",
       "    <tr style=\"text-align: right;\">\n",
       "      <th></th>\n",
       "      <th>title</th>\n",
       "      <th>place_url</th>\n",
       "      <th>rating</th>\n",
       "      <th>location</th>\n",
       "      <th>category</th>\n",
       "    </tr>\n",
       "  </thead>\n",
       "  <tbody>\n",
       "    <tr>\n",
       "      <th>0</th>\n",
       "      <td>인생밥집</td>\n",
       "      <td>https://www.mangoplate.com/restaurants/m2vpOK-...</td>\n",
       "      <td>3.4</td>\n",
       "      <td>제주 한림/애월</td>\n",
       "      <td>한정식/백반/정통한식</td>\n",
       "    </tr>\n",
       "    <tr>\n",
       "      <th>1</th>\n",
       "      <td>이춘옥원조고등어쌈밥</td>\n",
       "      <td>https://www.mangoplate.com/restaurants/zxADnrqHrc</td>\n",
       "      <td>3.4</td>\n",
       "      <td>제주 한림/애월</td>\n",
       "      <td>한정식/백반/정통한식</td>\n",
       "    </tr>\n",
       "    <tr>\n",
       "      <th>2</th>\n",
       "      <td>봄날</td>\n",
       "      <td>https://www.mangoplate.com/restaurants/E6KwYS0B1A</td>\n",
       "      <td>3.3</td>\n",
       "      <td>제주 한림/애월</td>\n",
       "      <td>카페/디저트</td>\n",
       "    </tr>\n",
       "    <tr>\n",
       "      <th>3</th>\n",
       "      <td>장인의집</td>\n",
       "      <td>https://www.mangoplate.com/restaurants/Ea1VO0_...</td>\n",
       "      <td>3.3</td>\n",
       "      <td>제주 한림/애월</td>\n",
       "      <td>탕/찌개/전골</td>\n",
       "    </tr>\n",
       "    <tr>\n",
       "      <th>4</th>\n",
       "      <td>망고레이(본점)</td>\n",
       "      <td>https://www.mangoplate.com/restaurants/ly8CLo28o3</td>\n",
       "      <td>3.3</td>\n",
       "      <td>제주 한림/애월</td>\n",
       "      <td>카페/디저트</td>\n",
       "    </tr>\n",
       "  </tbody>\n",
       "</table>\n",
       "</div>"
      ],
      "text/plain": [
       "        title                                          place_url rating  \\\n",
       "0        인생밥집  https://www.mangoplate.com/restaurants/m2vpOK-...    3.4   \n",
       "1  이춘옥원조고등어쌈밥  https://www.mangoplate.com/restaurants/zxADnrqHrc    3.4   \n",
       "2          봄날  https://www.mangoplate.com/restaurants/E6KwYS0B1A    3.3   \n",
       "3        장인의집  https://www.mangoplate.com/restaurants/Ea1VO0_...    3.3   \n",
       "4    망고레이(본점)  https://www.mangoplate.com/restaurants/ly8CLo28o3    3.3   \n",
       "\n",
       "   location     category  \n",
       "0  제주 한림/애월  한정식/백반/정통한식  \n",
       "1  제주 한림/애월  한정식/백반/정통한식  \n",
       "2  제주 한림/애월       카페/디저트  \n",
       "3  제주 한림/애월      탕/찌개/전골  \n",
       "4  제주 한림/애월       카페/디저트  "
      ]
     },
     "execution_count": 78,
     "metadata": {},
     "output_type": "execute_result"
    }
   ],
   "source": [
    "df.head()"
   ]
  },
  {
   "cell_type": "code",
   "execution_count": null,
   "metadata": {},
   "outputs": [],
   "source": []
  }
 ],
 "metadata": {
  "kernelspec": {
   "display_name": "Python 3.7.13 ('fastmango')",
   "language": "python",
   "name": "python3"
  },
  "language_info": {
   "codemirror_mode": {
    "name": "ipython",
    "version": 3
   },
   "file_extension": ".py",
   "mimetype": "text/x-python",
   "name": "python",
   "nbconvert_exporter": "python",
   "pygments_lexer": "ipython3",
   "version": "3.7.13"
  },
  "orig_nbformat": 4,
  "vscode": {
   "interpreter": {
    "hash": "922d69f9151f7822c35975b90956ed15b16c830041e5da8ad2e87b387761840e"
   }
  }
 },
 "nbformat": 4,
 "nbformat_minor": 2
}
