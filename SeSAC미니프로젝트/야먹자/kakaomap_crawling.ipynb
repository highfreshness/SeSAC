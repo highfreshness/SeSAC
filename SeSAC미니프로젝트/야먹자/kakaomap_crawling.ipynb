{
 "cells": [
  {
   "cell_type": "code",
   "execution_count": 19,
   "metadata": {},
   "outputs": [],
   "source": [
    "from selenium import webdriver\n",
    "from selenium.webdriver.common.by import By\n",
    "from selenium.webdriver.common.keys import Keys\n",
    "from selenium.common.exceptions import NoSuchElementException\n",
    "from webdriver_manager.chrome import ChromeDriverManager\n",
    "from tqdm import tqdm\n",
    "from bs4 import BeautifulSoup\n",
    "\n",
    "import pandas as pd\n",
    "import numpy as np\n",
    "import requests\n",
    "import time\n",
    "import re"
   ]
  },
  {
   "cell_type": "code",
   "execution_count": 20,
   "metadata": {},
   "outputs": [
    {
     "name": "stderr",
     "output_type": "stream",
     "text": [
      "c:\\Users\\sesac\\.conda\\envs\\sesac\\lib\\site-packages\\ipykernel_launcher.py:3: DeprecationWarning: executable_path has been deprecated, please pass in a Service object\n",
      "  This is separate from the ipykernel package so we can avoid doing imports until\n"
     ]
    }
   ],
   "source": [
    "options = webdriver.ChromeOptions()\n",
    "options.add_argument(\"user-agent=Mozilla/5.0 (Windows NT 6.1; WOW64; Trident/7.0; rv:11.0) like Gecko\")\n",
    "driver = webdriver.Chrome(ChromeDriverManager().install(), options=options)"
   ]
  },
  {
   "cell_type": "code",
   "execution_count": 21,
   "metadata": {},
   "outputs": [],
   "source": [
    "delay = 1\n",
    "driver.get('https://map.kakao.com/')\n",
    "time.sleep(delay)"
   ]
  },
  {
   "cell_type": "code",
   "execution_count": 179,
   "metadata": {},
   "outputs": [],
   "source": [
    "# driver.close()"
   ]
  },
  {
   "cell_type": "code",
   "execution_count": 22,
   "metadata": {},
   "outputs": [],
   "source": [
    "title = [] # x.find('a', 'link_name').get_text()\n",
    "category = [] # x.find('span', 'subcategory').get_text()\n",
    "rating = [] # x.find('em', 'num').get_text()\n",
    "review_count = [] #x.find('a', 'numberofscore').get_text()\n",
    "address = [] # x.find('p')['title']\n",
    "phone_number = [] # x.find('span', 'phone').get_text()\n",
    "place_url = [] # x.find('a', 'moreview')['href']"
   ]
  },
  {
   "cell_type": "code",
   "execution_count": 23,
   "metadata": {},
   "outputs": [],
   "source": [
    "element = driver.find_element(By.ID, 'search.keyword.query')\n",
    "element.send_keys(\"영등포 맛집\")\n",
    "time.sleep(delay)\n",
    "element.send_keys(Keys.ENTER)\n",
    "# time.sleep(0.5)\n",
    "# driver.find_element(By.ID, 'search.keyword.submit').click()\n"
   ]
  },
  {
   "cell_type": "code",
   "execution_count": 24,
   "metadata": {},
   "outputs": [],
   "source": [
    "# 1페이지\n",
    "html = driver.page_source\n",
    "soup = BeautifulSoup(html, 'html.parser')\n",
    "data = soup.find_all('li', 'PlaceItem')\n",
    "\n",
    "# print(x.find().get_text())\n",
    "for x in data:\n",
    "    title.append(x.find('a', 'link_name').get_text())\n",
    "    category.append(x.find('span', 'subcategory').get_text())\n",
    "    rating.append(x.find('em', 'num').get_text())\n",
    "    review_count.append(x.find('a', 'numberofscore').get_text())\n",
    "    address.append(x.find('p')['title'])\n",
    "    phone_number.append(x.find('span', 'phone').get_text())\n",
    "    place_url.append(x.find('a', 'moreview')['href'])"
   ]
  },
  {
   "cell_type": "code",
   "execution_count": 25,
   "metadata": {},
   "outputs": [],
   "source": [
    "# 장소 더보기 -> 2페이지 진입\n",
    "driver.find_element(By.CSS_SELECTOR, '#info\\.search\\.place\\.more').send_keys(Keys.ENTER)\n",
    "time.sleep(delay)\n",
    "html = driver.page_source\n",
    "soup = BeautifulSoup(html, 'html.parser')\n",
    "data = soup.find_all('li', 'PlaceItem')\n",
    "\n",
    "for x in data:\n",
    "    title.append(x.find('a', 'link_name').get_text())\n",
    "    category.append(x.find('span', 'subcategory').get_text())\n",
    "    rating.append(x.find('em', 'num').get_text())\n",
    "    review_count.append(x.find('a', 'numberofscore').get_text())\n",
    "    address.append(x.find('p')['title'])\n",
    "    phone_number.append(x.find('span', 'phone').get_text())\n",
    "    place_url.append(x.find('a', 'moreview')['href'])"
   ]
  },
  {
   "cell_type": "code",
   "execution_count": 26,
   "metadata": {},
   "outputs": [
    {
     "data": {
      "text/plain": [
       "2"
      ]
     },
     "execution_count": 26,
     "metadata": {},
     "output_type": "execute_result"
    }
   ],
   "source": [
    "page_iter = [1,2,3,4,5]\n",
    "page_range = 40\n",
    "page_iter.extend(page_iter*int(page_range/5))\n",
    "ia = iter(page_iter)\n",
    "next(ia)\n",
    "next(ia)"
   ]
  },
  {
   "cell_type": "code",
   "execution_count": null,
   "metadata": {},
   "outputs": [],
   "source": [
    "try:\n",
    "    for _ in tqdm(range(page_range)):\n",
    "        idx = next(ia)\n",
    "        driver.find_element(By.ID, f'info.search.page.no{idx}').click()\n",
    "        time.sleep(delay)\n",
    "        html = driver.page_source\n",
    "        soup = BeautifulSoup(html, 'html.parser')\n",
    "        data = soup.find_all('li', 'PlaceItem')\n",
    "        \n",
    "        for x in data:\n",
    "            title.append(x.find('a', 'link_name').get_text())\n",
    "            category.append(x.find('span', 'subcategory').get_text())\n",
    "            rating.append(x.find('em', 'num').get_text())\n",
    "            review_count.append(x.find('a', 'numberofscore').get_text())\n",
    "            address.append(x.find('p')['title'])\n",
    "            phone_number.append(x.find('span', 'phone').get_text())\n",
    "            place_url.append(x.find('a', 'moreview')['href'])\n",
    "        \n",
    "        if (idx % 5) == 0:\n",
    "            driver.find_element(By.CSS_SELECTOR, '#info\\.search\\.page\\.next').send_keys(Keys.ENTER)\n",
    "except:\n",
    "    print(f'{next(ia)-1} 페이지에서 문제가 생겼습니다.')\n",
    "    \n",
    "finally:\n",
    "    driver.close()"
   ]
  },
  {
   "cell_type": "code",
   "execution_count": 28,
   "metadata": {},
   "outputs": [
    {
     "name": "stdout",
     "output_type": "stream",
     "text": [
      "485 485 485 485 485 485 485\n"
     ]
    }
   ],
   "source": [
    "print(len(title), len(category), len(rating), len(review_count), len(address), len(phone_number), len(place_url))"
   ]
  },
  {
   "cell_type": "code",
   "execution_count": null,
   "metadata": {},
   "outputs": [],
   "source": []
  }
 ],
 "metadata": {
  "kernelspec": {
   "display_name": "Python 3.7.13 ('sesac')",
   "language": "python",
   "name": "python3"
  },
  "language_info": {
   "codemirror_mode": {
    "name": "ipython",
    "version": 3
   },
   "file_extension": ".py",
   "mimetype": "text/x-python",
   "name": "python",
   "nbconvert_exporter": "python",
   "pygments_lexer": "ipython3",
   "version": "3.7.13"
  },
  "orig_nbformat": 4,
  "vscode": {
   "interpreter": {
    "hash": "10c5266451461070ab9a582399e8bb66b03430da1ac04dd839d1878132a9a125"
   }
  }
 },
 "nbformat": 4,
 "nbformat_minor": 2
}
