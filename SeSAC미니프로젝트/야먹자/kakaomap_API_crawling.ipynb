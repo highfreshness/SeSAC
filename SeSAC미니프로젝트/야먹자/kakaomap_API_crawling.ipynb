{
 "cells": [
  {
   "cell_type": "code",
<<<<<<< HEAD
   "execution_count": 10,
=======
   "execution_count": 36,
>>>>>>> 69aa0db576ab4eea04d309a0fd34dd450201d37e
   "metadata": {},
   "outputs": [],
   "source": [
    "from selenium import webdriver\n",
    "from selenium.webdriver.common.by import By\n",
    "from selenium.webdriver.common.keys import Keys\n",
    "from selenium.common.exceptions import NoSuchElementException\n",
    "from webdriver_manager.chrome import ChromeDriverManager\n",
    "from tqdm import tqdm\n",
    "from bs4 import BeautifulSoup\n",
    "\n",
    "\n",
    "import pandas as pd\n",
    "import numpy as np\n",
    "import requests\n",
    "import time\n",
    "import re"
   ]
  },
  {
   "cell_type": "code",
<<<<<<< HEAD
   "execution_count": 11,
   "metadata": {},
   "outputs": [],
   "source": [
    "df = pd.read_csv('kakao_영등포구맛집 (1).csv')"
=======
   "execution_count": 37,
   "metadata": {},
   "outputs": [],
   "source": [
    "df = pd.read_csv('kakaoAPI_data.csv', encoding='utf-8')"
>>>>>>> 69aa0db576ab4eea04d309a0fd34dd450201d37e
   ]
  },
  {
   "cell_type": "code",
<<<<<<< HEAD
   "execution_count": 12,
=======
   "execution_count": 38,
>>>>>>> 69aa0db576ab4eea04d309a0fd34dd450201d37e
   "metadata": {},
   "outputs": [
    {
     "data": {
      "text/html": [
       "<div>\n",
       "<style scoped>\n",
       "    .dataframe tbody tr th:only-of-type {\n",
       "        vertical-align: middle;\n",
       "    }\n",
       "\n",
       "    .dataframe tbody tr th {\n",
       "        vertical-align: top;\n",
       "    }\n",
       "\n",
       "    .dataframe thead th {\n",
       "        text-align: right;\n",
       "    }\n",
       "</style>\n",
       "<table border=\"1\" class=\"dataframe\">\n",
       "  <thead>\n",
       "    <tr style=\"text-align: right;\">\n",
       "      <th></th>\n",
       "      <th>ID</th>\n",
       "      <th>stores</th>\n",
       "      <th>X</th>\n",
       "      <th>Y</th>\n",
       "      <th>road_address</th>\n",
       "      <th>place_url</th>\n",
       "    </tr>\n",
       "  </thead>\n",
       "  <tbody>\n",
       "    <tr>\n",
       "      <th>0</th>\n",
       "      <td>20908598</td>\n",
       "      <td>공차 영등포구청점</td>\n",
       "      <td>126.897061</td>\n",
       "      <td>37.526699</td>\n",
       "      <td>서울 영등포구 당산로 136</td>\n",
       "      <td>http://place.map.kakao.com/20908598</td>\n",
       "    </tr>\n",
       "    <tr>\n",
       "      <th>1</th>\n",
       "      <td>1714644708</td>\n",
       "      <td>이도숙성회</td>\n",
       "      <td>126.896237</td>\n",
       "      <td>37.526695</td>\n",
       "      <td>서울 영등포구 당산로31길 4</td>\n",
       "      <td>http://place.map.kakao.com/1714644708</td>\n",
       "    </tr>\n",
       "    <tr>\n",
       "      <th>2</th>\n",
       "      <td>27527233</td>\n",
       "      <td>까치네분식</td>\n",
       "      <td>126.896689</td>\n",
       "      <td>37.527085</td>\n",
       "      <td>서울 영등포구 당산로 139</td>\n",
       "      <td>http://place.map.kakao.com/27527233</td>\n",
       "    </tr>\n",
       "    <tr>\n",
       "      <th>3</th>\n",
       "      <td>22246273</td>\n",
       "      <td>푸른농장 해바라기생고기정육식당 영등포점</td>\n",
       "      <td>126.896155</td>\n",
       "      <td>37.527045</td>\n",
       "      <td>서울 영등포구 당산로33길 5</td>\n",
       "      <td>http://place.map.kakao.com/22246273</td>\n",
       "    </tr>\n",
       "    <tr>\n",
       "      <th>4</th>\n",
       "      <td>19609040</td>\n",
       "      <td>사조참치 영등포구청점</td>\n",
       "      <td>126.896554</td>\n",
       "      <td>37.526706</td>\n",
       "      <td>서울 영등포구 당산로 133</td>\n",
       "      <td>http://place.map.kakao.com/19609040</td>\n",
       "    </tr>\n",
       "  </tbody>\n",
       "</table>\n",
       "</div>"
      ],
      "text/plain": [
       "           ID                 stores           X          Y      road_address  \\\n",
       "0    20908598              공차 영등포구청점  126.897061  37.526699   서울 영등포구 당산로 136   \n",
       "1  1714644708                  이도숙성회  126.896237  37.526695  서울 영등포구 당산로31길 4   \n",
       "2    27527233                  까치네분식  126.896689  37.527085   서울 영등포구 당산로 139   \n",
       "3    22246273  푸른농장 해바라기생고기정육식당 영등포점  126.896155  37.527045  서울 영등포구 당산로33길 5   \n",
       "4    19609040            사조참치 영등포구청점  126.896554  37.526706   서울 영등포구 당산로 133   \n",
       "\n",
       "                               place_url  \n",
       "0    http://place.map.kakao.com/20908598  \n",
       "1  http://place.map.kakao.com/1714644708  \n",
       "2    http://place.map.kakao.com/27527233  \n",
       "3    http://place.map.kakao.com/22246273  \n",
       "4    http://place.map.kakao.com/19609040  "
      ]
     },
<<<<<<< HEAD
     "execution_count": 12,
=======
     "execution_count": 38,
>>>>>>> 69aa0db576ab4eea04d309a0fd34dd450201d37e
     "metadata": {},
     "output_type": "execute_result"
    }
   ],
   "source": [
    "df.drop(['Unnamed: 0', 'Unnamed: 0.1'], inplace=True, axis=1)\n",
    "df.head()"
   ]
  },
  {
   "cell_type": "code",
<<<<<<< HEAD
   "execution_count": 14,
=======
   "execution_count": 39,
>>>>>>> 69aa0db576ab4eea04d309a0fd34dd450201d37e
   "metadata": {},
   "outputs": [
    {
     "name": "stderr",
     "output_type": "stream",
     "text": [
<<<<<<< HEAD
      "/var/folders/6b/s1063_qj51s2xh9qm5l7ntq40000gn/T/ipykernel_3692/2928635203.py:3: DeprecationWarning: executable_path has been deprecated, please pass in a Service object\n",
      "  driver = webdriver.Chrome(ChromeDriverManager().install(), options=options)\n"
=======
      "c:\\Users\\sesac\\.conda\\envs\\sesac\\lib\\site-packages\\ipykernel_launcher.py:3: DeprecationWarning: executable_path has been deprecated, please pass in a Service object\n",
      "  This is separate from the ipykernel package so we can avoid doing imports until\n"
>>>>>>> 69aa0db576ab4eea04d309a0fd34dd450201d37e
     ]
    }
   ],
   "source": [
    "options = webdriver.ChromeOptions()\n",
    "options.add_argument(\"user-agent=Mozilla/5.0 (Windows NT 6.1; WOW64; Trident/7.0; rv:11.0) like Gecko\")\n",
    "driver = webdriver.Chrome(ChromeDriverManager().install(), options=options)"
   ]
  },
  {
   "cell_type": "code",
<<<<<<< HEAD
   "execution_count": 16,
=======
   "execution_count": 40,
>>>>>>> 69aa0db576ab4eea04d309a0fd34dd450201d37e
   "metadata": {},
   "outputs": [],
   "source": [
    "# 수집할 정보\n",
    "menu = []\n",
    "category = []\n",
    "business_hours = []\n",
    "break_time = [] \n",
    "rating = []\n",
    "review_count = []\n",
    "phone_number = [] \n",
    "last_update = []\n",
<<<<<<< HEAD
    "delay = 0.1"
=======
    "delay = 2\n",
    "\n",
    "p = re.compile('[a-zA-Z]+')"
   ]
  },
  {
   "cell_type": "code",
   "execution_count": 41,
   "metadata": {},
   "outputs": [
    {
     "name": "stderr",
     "output_type": "stream",
     "text": [
      "  8%|▊         | 112/1412 [04:05<47:27,  2.19s/it]\n"
     ]
    },
    {
     "ename": "UnexpectedAlertPresentException",
     "evalue": "Alert Text: 접속이 원활하지 않습니다.\n잠시 후 다시 이용해주세요.\nMessage: unexpected alert open: {Alert text : 접속이 원활하지 않습니다.\n잠시 후 다시 이용해주세요.}\n  (Session info: chrome=104.0.5112.102)\nStacktrace:\nBacktrace:\n\tOrdinal0 [0x008178B3+2193587]\n\tOrdinal0 [0x007B0681+1771137]\n\tOrdinal0 [0x006C41A8+803240]\n\tOrdinal0 [0x0071D952+1169746]\n\tOrdinal0 [0x0070D5C6+1103302]\n\tOrdinal0 [0x006E77E0+948192]\n\tOrdinal0 [0x006E86E6+952038]\n\tGetHandleVerifier [0x00AC0CB2+2738370]\n\tGetHandleVerifier [0x00AB21B8+2678216]\n\tGetHandleVerifier [0x008A17AA+512954]\n\tGetHandleVerifier [0x008A0856+509030]\n\tOrdinal0 [0x007B743B+1799227]\n\tOrdinal0 [0x007BBB68+1817448]\n\tOrdinal0 [0x007BBC55+1817685]\n\tOrdinal0 [0x007C5230+1856048]\n\tBaseThreadInitThunk [0x762BFA29+25]\n\tRtlGetAppContainerNamedObjectPath [0x77267A9E+286]\n\tRtlGetAppContainerNamedObjectPath [0x77267A6E+238]\n",
     "output_type": "error",
     "traceback": [
      "\u001b[1;31m---------------------------------------------------------------------------\u001b[0m",
      "\u001b[1;31mUnexpectedAlertPresentException\u001b[0m           Traceback (most recent call last)",
      "\u001b[1;32m~\\AppData\\Local\\Temp\\ipykernel_7068\\3860878983.py\u001b[0m in \u001b[0;36m<module>\u001b[1;34m\u001b[0m\n\u001b[0;32m      2\u001b[0m     \u001b[0mdriver\u001b[0m\u001b[1;33m.\u001b[0m\u001b[0mget\u001b[0m\u001b[1;33m(\u001b[0m\u001b[0murl\u001b[0m\u001b[1;33m)\u001b[0m\u001b[1;33m\u001b[0m\u001b[1;33m\u001b[0m\u001b[0m\n\u001b[0;32m      3\u001b[0m     \u001b[0mtime\u001b[0m\u001b[1;33m.\u001b[0m\u001b[0msleep\u001b[0m\u001b[1;33m(\u001b[0m\u001b[0mdelay\u001b[0m\u001b[1;33m)\u001b[0m\u001b[1;33m\u001b[0m\u001b[1;33m\u001b[0m\u001b[0m\n\u001b[1;32m----> 4\u001b[1;33m     \u001b[0mhtml\u001b[0m \u001b[1;33m=\u001b[0m \u001b[0mdriver\u001b[0m\u001b[1;33m.\u001b[0m\u001b[0mpage_source\u001b[0m\u001b[1;33m\u001b[0m\u001b[1;33m\u001b[0m\u001b[0m\n\u001b[0m\u001b[0;32m      5\u001b[0m     \u001b[0msoup\u001b[0m \u001b[1;33m=\u001b[0m \u001b[0mBeautifulSoup\u001b[0m\u001b[1;33m(\u001b[0m\u001b[0mhtml\u001b[0m\u001b[1;33m,\u001b[0m \u001b[1;34m'html.parser'\u001b[0m\u001b[1;33m)\u001b[0m\u001b[1;33m\u001b[0m\u001b[1;33m\u001b[0m\u001b[0m\n\u001b[0;32m      6\u001b[0m     \u001b[0mdata\u001b[0m \u001b[1;33m=\u001b[0m \u001b[0msoup\u001b[0m\u001b[1;33m.\u001b[0m\u001b[0mfind_all\u001b[0m\u001b[1;33m(\u001b[0m\u001b[1;34m'div'\u001b[0m\u001b[1;33m,\u001b[0m \u001b[1;34m'mArticle'\u001b[0m\u001b[1;33m)\u001b[0m\u001b[1;33m\u001b[0m\u001b[1;33m\u001b[0m\u001b[0m\n",
      "\u001b[1;32mc:\\Users\\sesac\\.conda\\envs\\sesac\\lib\\site-packages\\selenium\\webdriver\\remote\\webdriver.py\u001b[0m in \u001b[0;36mpage_source\u001b[1;34m(self)\u001b[0m\n\u001b[0;32m    539\u001b[0m                 \u001b[0mdriver\u001b[0m\u001b[1;33m.\u001b[0m\u001b[0mpage_source\u001b[0m\u001b[1;33m\u001b[0m\u001b[1;33m\u001b[0m\u001b[0m\n\u001b[0;32m    540\u001b[0m         \"\"\"\n\u001b[1;32m--> 541\u001b[1;33m         \u001b[1;32mreturn\u001b[0m \u001b[0mself\u001b[0m\u001b[1;33m.\u001b[0m\u001b[0mexecute\u001b[0m\u001b[1;33m(\u001b[0m\u001b[0mCommand\u001b[0m\u001b[1;33m.\u001b[0m\u001b[0mGET_PAGE_SOURCE\u001b[0m\u001b[1;33m)\u001b[0m\u001b[1;33m[\u001b[0m\u001b[1;34m'value'\u001b[0m\u001b[1;33m]\u001b[0m\u001b[1;33m\u001b[0m\u001b[1;33m\u001b[0m\u001b[0m\n\u001b[0m\u001b[0;32m    542\u001b[0m \u001b[1;33m\u001b[0m\u001b[0m\n\u001b[0;32m    543\u001b[0m     \u001b[1;32mdef\u001b[0m \u001b[0mclose\u001b[0m\u001b[1;33m(\u001b[0m\u001b[0mself\u001b[0m\u001b[1;33m)\u001b[0m \u001b[1;33m->\u001b[0m \u001b[1;32mNone\u001b[0m\u001b[1;33m:\u001b[0m\u001b[1;33m\u001b[0m\u001b[1;33m\u001b[0m\u001b[0m\n",
      "\u001b[1;32mc:\\Users\\sesac\\.conda\\envs\\sesac\\lib\\site-packages\\selenium\\webdriver\\remote\\webdriver.py\u001b[0m in \u001b[0;36mexecute\u001b[1;34m(self, driver_command, params)\u001b[0m\n\u001b[0;32m    433\u001b[0m         \u001b[0mresponse\u001b[0m \u001b[1;33m=\u001b[0m \u001b[0mself\u001b[0m\u001b[1;33m.\u001b[0m\u001b[0mcommand_executor\u001b[0m\u001b[1;33m.\u001b[0m\u001b[0mexecute\u001b[0m\u001b[1;33m(\u001b[0m\u001b[0mdriver_command\u001b[0m\u001b[1;33m,\u001b[0m \u001b[0mparams\u001b[0m\u001b[1;33m)\u001b[0m\u001b[1;33m\u001b[0m\u001b[1;33m\u001b[0m\u001b[0m\n\u001b[0;32m    434\u001b[0m         \u001b[1;32mif\u001b[0m \u001b[0mresponse\u001b[0m\u001b[1;33m:\u001b[0m\u001b[1;33m\u001b[0m\u001b[1;33m\u001b[0m\u001b[0m\n\u001b[1;32m--> 435\u001b[1;33m             \u001b[0mself\u001b[0m\u001b[1;33m.\u001b[0m\u001b[0merror_handler\u001b[0m\u001b[1;33m.\u001b[0m\u001b[0mcheck_response\u001b[0m\u001b[1;33m(\u001b[0m\u001b[0mresponse\u001b[0m\u001b[1;33m)\u001b[0m\u001b[1;33m\u001b[0m\u001b[1;33m\u001b[0m\u001b[0m\n\u001b[0m\u001b[0;32m    436\u001b[0m             response['value'] = self._unwrap_value(\n\u001b[0;32m    437\u001b[0m                 response.get('value', None))\n",
      "\u001b[1;32mc:\\Users\\sesac\\.conda\\envs\\sesac\\lib\\site-packages\\selenium\\webdriver\\remote\\errorhandler.py\u001b[0m in \u001b[0;36mcheck_response\u001b[1;34m(self, response)\u001b[0m\n\u001b[0;32m    244\u001b[0m             \u001b[1;32melif\u001b[0m \u001b[1;34m'alert'\u001b[0m \u001b[1;32min\u001b[0m \u001b[0mvalue\u001b[0m\u001b[1;33m:\u001b[0m\u001b[1;33m\u001b[0m\u001b[1;33m\u001b[0m\u001b[0m\n\u001b[0;32m    245\u001b[0m                 \u001b[0malert_text\u001b[0m \u001b[1;33m=\u001b[0m \u001b[0mvalue\u001b[0m\u001b[1;33m[\u001b[0m\u001b[1;34m'alert'\u001b[0m\u001b[1;33m]\u001b[0m\u001b[1;33m.\u001b[0m\u001b[0mget\u001b[0m\u001b[1;33m(\u001b[0m\u001b[1;34m'text'\u001b[0m\u001b[1;33m)\u001b[0m\u001b[1;33m\u001b[0m\u001b[1;33m\u001b[0m\u001b[0m\n\u001b[1;32m--> 246\u001b[1;33m             \u001b[1;32mraise\u001b[0m \u001b[0mexception_class\u001b[0m\u001b[1;33m(\u001b[0m\u001b[0mmessage\u001b[0m\u001b[1;33m,\u001b[0m \u001b[0mscreen\u001b[0m\u001b[1;33m,\u001b[0m \u001b[0mstacktrace\u001b[0m\u001b[1;33m,\u001b[0m \u001b[0malert_text\u001b[0m\u001b[1;33m)\u001b[0m  \u001b[1;31m# type: ignore[call-arg]  # mypy is not smart enough here\u001b[0m\u001b[1;33m\u001b[0m\u001b[1;33m\u001b[0m\u001b[0m\n\u001b[0m\u001b[0;32m    247\u001b[0m         \u001b[1;32mraise\u001b[0m \u001b[0mexception_class\u001b[0m\u001b[1;33m(\u001b[0m\u001b[0mmessage\u001b[0m\u001b[1;33m,\u001b[0m \u001b[0mscreen\u001b[0m\u001b[1;33m,\u001b[0m \u001b[0mstacktrace\u001b[0m\u001b[1;33m)\u001b[0m\u001b[1;33m\u001b[0m\u001b[1;33m\u001b[0m\u001b[0m\n\u001b[0;32m    248\u001b[0m \u001b[1;33m\u001b[0m\u001b[0m\n",
      "\u001b[1;31mUnexpectedAlertPresentException\u001b[0m: Alert Text: 접속이 원활하지 않습니다.\n잠시 후 다시 이용해주세요.\nMessage: unexpected alert open: {Alert text : 접속이 원활하지 않습니다.\n잠시 후 다시 이용해주세요.}\n  (Session info: chrome=104.0.5112.102)\nStacktrace:\nBacktrace:\n\tOrdinal0 [0x008178B3+2193587]\n\tOrdinal0 [0x007B0681+1771137]\n\tOrdinal0 [0x006C41A8+803240]\n\tOrdinal0 [0x0071D952+1169746]\n\tOrdinal0 [0x0070D5C6+1103302]\n\tOrdinal0 [0x006E77E0+948192]\n\tOrdinal0 [0x006E86E6+952038]\n\tGetHandleVerifier [0x00AC0CB2+2738370]\n\tGetHandleVerifier [0x00AB21B8+2678216]\n\tGetHandleVerifier [0x008A17AA+512954]\n\tGetHandleVerifier [0x008A0856+509030]\n\tOrdinal0 [0x007B743B+1799227]\n\tOrdinal0 [0x007BBB68+1817448]\n\tOrdinal0 [0x007BBC55+1817685]\n\tOrdinal0 [0x007C5230+1856048]\n\tBaseThreadInitThunk [0x762BFA29+25]\n\tRtlGetAppContainerNamedObjectPath [0x77267A9E+286]\n\tRtlGetAppContainerNamedObjectPath [0x77267A6E+238]\n"
     ]
    }
   ],
   "source": [
    "for url in tqdm(df['place_url']):\n",
    "    driver.get(url)\n",
    "    time.sleep(delay)\n",
    "    html = driver.page_source\n",
    "    soup = BeautifulSoup(html, 'html.parser')\n",
    "    data = soup.find_all('div', 'mArticle')\n",
    "    for x in data:\n",
    "        category.append(x.find('span', 'txt_location').text)\n",
    "        business_hours.append(x.find('span', 'txt_operation').text)\n",
    "        break_time.append(x.find('span', 'txt_operation').text)\n",
    "        rating.append(x.find('span', 'color_b').text)\n",
    "        phone_number.append(x.find('span', 'txt_contact').text)\n",
    "        last_update.append(x.find('span', 'date_revise').text)\n",
    "        menues = soup.find_all('div', 'info_menu')\n",
    "    \n",
    "        menu_temp = []\n",
    "        for y in menues:\n",
    "            menu_temp.append(y.find('span', 'loss_word').text)\n",
    "        menu.append(menu_temp)\n",
    "        \n",
    "        review_temp = x.find_all('span', 'color_g')\n",
    "        if p.match(review_temp[0]) == None:\n",
    "            review_count.append(review_temp[0].text)\n",
    "        else:\n",
    "            review_count.append(review_temp[1].text)\n",
    "    time.sleep(delay)"
   ]
  },
  {
   "cell_type": "code",
   "execution_count": null,
   "metadata": {},
   "outputs": [],
   "source": [
    "for x in data:\n",
    "    category.append(x.find('span', 'txt_location').text)\n",
    "    business_hours.append(x.find('span', 'txt_operation').text)\n",
    "    break_time.append(x.find('span', 'txt_operation').text)\n",
    "    rating.append(x.find('span', 'color_b').text)\n",
    "    phone_number.append(x.find('span', 'txt_contact').text)\n",
    "    last_update.append(x.find('span', 'date_revise').text)\n",
    "    menues = soup.find_all('div', 'info_menu')\n",
    "    \n",
    "    menu_temp = []\n",
    "    for y in menues:\n",
    "        menu_temp.append(y.find('span', 'loss_word').text)\n",
    "    menu.append(menu_temp)\n",
    "    \n",
    "    review_temp = x.find_all('span', 'color_g')\n",
    "    if p.match(review_temp[0]) == None:\n",
    "        review_count.append(review_temp[0].text)\n",
    "    else:\n",
    "        review_count.append(review_temp[1].text)"
>>>>>>> 69aa0db576ab4eea04d309a0fd34dd450201d37e
   ]
  },
  {
   "cell_type": "code",
   "execution_count": 18,
   "metadata": {},
   "outputs": [
    {
     "name": "stderr",
     "output_type": "stream",
     "text": [
      "  0%|          | 0/1412 [00:01<?, ?it/s]\n"
     ]
    },
    {
     "ename": "AttributeError",
     "evalue": "'list' object has no attribute 'text'",
     "output_type": "error",
     "traceback": [
      "\u001b[0;31m---------------------------------------------------------------------------\u001b[0m",
      "\u001b[0;31mAttributeError\u001b[0m                            Traceback (most recent call last)",
      "\u001b[1;32m/Users/seondo/Downloads/sesac/SeSAC미니프로젝트/야먹자/kakaomap_API_crawling.ipynb 셀 6\u001b[0m in \u001b[0;36m<cell line: 1>\u001b[0;34m()\u001b[0m\n\u001b[1;32m     <a href='vscode-notebook-cell:/Users/seondo/Downloads/sesac/SeSAC%EB%AF%B8%EB%8B%88%ED%94%84%EB%A1%9C%EC%A0%9D%ED%8A%B8/%EC%95%BC%EB%A8%B9%EC%9E%90/kakaomap_API_crawling.ipynb#W5sZmlsZQ%3D%3D?line=28'>29</a>\u001b[0m review_temp \u001b[39m=\u001b[39m driver\u001b[39m.\u001b[39mfind_elements(By\u001b[39m.\u001b[39mCLASS_NAME, \u001b[39m'\u001b[39m\u001b[39mcolor_g\u001b[39m\u001b[39m'\u001b[39m)\n\u001b[1;32m     <a href='vscode-notebook-cell:/Users/seondo/Downloads/sesac/SeSAC%EB%AF%B8%EB%8B%88%ED%94%84%EB%A1%9C%EC%A0%9D%ED%8A%B8/%EC%95%BC%EB%A8%B9%EC%9E%90/kakaomap_API_crawling.ipynb#W5sZmlsZQ%3D%3D?line=29'>30</a>\u001b[0m \u001b[39m# review_temp[0]이 영문으로 되어있으면 [1]번을 정제해서 추가 아니면 [0]번을 추가\u001b[39;00m\n\u001b[0;32m---> <a href='vscode-notebook-cell:/Users/seondo/Downloads/sesac/SeSAC%EB%AF%B8%EB%8B%88%ED%94%84%EB%A1%9C%EC%A0%9D%ED%8A%B8/%EC%95%BC%EB%A8%B9%EC%9E%90/kakaomap_API_crawling.ipynb#W5sZmlsZQ%3D%3D?line=30'>31</a>\u001b[0m \u001b[39mif\u001b[39;00m p\u001b[39m.\u001b[39mmatch(review_temp\u001b[39m.\u001b[39;49mtext[\u001b[39m0\u001b[39m]) \u001b[39m==\u001b[39m \u001b[39mNone\u001b[39;00m :\n\u001b[1;32m     <a href='vscode-notebook-cell:/Users/seondo/Downloads/sesac/SeSAC%EB%AF%B8%EB%8B%88%ED%94%84%EB%A1%9C%EC%A0%9D%ED%8A%B8/%EC%95%BC%EB%A8%B9%EC%9E%90/kakaomap_API_crawling.ipynb#W5sZmlsZQ%3D%3D?line=31'>32</a>\u001b[0m     review_count\u001b[39m.\u001b[39mappend(re\u001b[39m.\u001b[39msub(\u001b[39m'\u001b[39m\u001b[39m[(0-9)]\u001b[39m\u001b[39m'\u001b[39m, \u001b[39m'\u001b[39m\u001b[39m'\u001b[39m, review_temp[\u001b[39m1\u001b[39m]\u001b[39m.\u001b[39mtext))\n\u001b[1;32m     <a href='vscode-notebook-cell:/Users/seondo/Downloads/sesac/SeSAC%EB%AF%B8%EB%8B%88%ED%94%84%EB%A1%9C%EC%A0%9D%ED%8A%B8/%EC%95%BC%EB%A8%B9%EC%9E%90/kakaomap_API_crawling.ipynb#W5sZmlsZQ%3D%3D?line=32'>33</a>\u001b[0m     time\u001b[39m.\u001b[39msleep(delay)\n",
      "\u001b[0;31mAttributeError\u001b[0m: 'list' object has no attribute 'text'"
     ]
    }
   ],
   "source": [
    "for x in tqdm(df['place_url']):\n",
    "    driver.get(x)\n",
    "    time.sleep(1)\n",
    "    try:\n",
    "        business_hours.append(driver.find_element(By.CLASS_NAME, 'txt_operation').text) # 영업시간\n",
    "        time.sleep(delay)\n",
    "    except NoSuchElementException:\n",
    "        business_hours.append('-')\n",
    "        time.sleep(delay)\n",
    "    \n",
    "    try:\n",
    "        # 같은 class를 공유해 작성되는 다른 요소가 있으나 제일 첫번째 요소에 해당되어 별도 처리는 하지 않았음\n",
    "        rating.append(driver.find_elements(By.CLASS_NAME, 'color_b'))\n",
    "        time.sleep(delay)\n",
    "    except NoSuchElementException:\n",
    "        rating.append('-')\n",
    "        time.sleep(delay)\n",
    "    \n",
    "    try:\n",
    "        category.append(driver.find_element(By.CLASS_NAME, 'txt_location').text) # 카테고리\n",
    "        time.sleep(delay)\n",
    "    except NoSuchElementException:\n",
    "        category.append('-')\n",
    "        time.sleep(delay)\n",
    "    \n",
    "    try:\n",
    "        # 같은 class를 공유해 생성되는 음식점이 있어 if를 통해 요소가 3개 이상 수집된 경우 처리\n",
    "        p = re.compile('[a-zA-Z]+')\n",
    "        review_temp = driver.find_elements(By.CLASS_NAME, 'color_g')\n",
    "        # review_temp[0]이 영문으로 되어있으면 [1]번을 정제해서 추가하고 반복문 탈출 아니면 [0]번을 추가\n",
    "        for x in review_temp:\n",
    "            if p.match(x.text) == None :\n",
    "                review_count.append(re.sub('[(0-9)]', '', x.text))\n",
    "                time.sleep(delay)\n",
    "                break\n",
    "            else:\n",
    "                review_count.append(re.sub('[(0-9)]', '', x.text))\n",
    "                time.sleep(delay)\n",
    "            \n",
    "    except NoSuchElementException:\n",
    "        review_count.append('-')\n",
    "        time.sleep(delay)\n",
    "    \n",
    "    try:\n",
    "        phone_number.append(driver.find_element(By.CLASS_NAME, 'txt_contact').text) # 대표번호\n",
    "        time.sleep(delay)\n",
    "    except NoSuchElementException:\n",
    "        phone_number.append('-')\n",
    "        time.sleep(delay)\n",
    "    \n",
    "    try:\n",
    "        last_update.append(driver.find_element(By.CLASS_NAME, 'date_revise').text) # 최종 업데이트 날짜\n",
    "        time.sleep(delay)\n",
    "    except NoSuchElementException:\n",
    "        last_update.append('-')\n",
    "        time.sleep(delay)\n",
    "    \n",
    "    # 메뉴 펼치기\n",
    "    try:\n",
    "        driver.find_element(By.XPATH, '//*[@id=\"mArticle\"]/div[3]/a/span[1]').click()\n",
    "        time.sleep(delay)\n",
    "    except NoSuchElementException:\n",
    "        pass\n",
    "    \n",
    "    menu_temp = []\n",
    "    price_temp = []\n",
    "    # photo_menu 확인\n",
    "    photo_menues = driver.find_elements(By.CLASS_NAME, 'photo_type')\n",
    "    if len(photo_menues) == 0:\n",
    "        pass\n",
    "    else :\n",
    "        for y in photo_menues:\n",
    "            y = y.text.split('\\n')\n",
    "            try:\n",
    "                menu_temp.append(y[0])\n",
    "                price_temp.append(y[1])\n",
    "            except:\n",
    "                if y[0] != None: # 메뉴는 존재하지만 가격이 없는 경우 공란으로 처리\n",
    "                    menu_temp.append(y[0])\n",
    "                    price_temp.append('-')\n",
    "                else:\n",
    "                    pass\n",
    "                \n",
    "    time.sleep(delay)\n",
    "            \n",
    "    normal_menues = driver.find_elements(By.CLASS_NAME, 'nophoto_type')\n",
    "    if len(normal_menues) == 0:\n",
    "        pass\n",
    "    else :\n",
    "        for z in normal_menues:\n",
    "            z = z.text.split('\\n')\n",
    "            try:\n",
    "                menu_temp.append(y[0])\n",
    "                price_temp.append(y[1])\n",
    "            except:\n",
    "                if y[0] != None: # 메뉴는 존재하지만 가격이 없는 경우 공란으로 처리\n",
    "                    menu_temp.append(y[0])\n",
    "                    price_temp.append('-')\n",
    "                else:\n",
    "                    pass\n",
    "    # key가 존재하면 생성하고 아니면 공란으로 대체\n",
    "    menu_price.append({ '' if key == None else key : value for key, value in zip(menu_temp, price_temp)}) \n",
    "    time.sleep(1)"
   ]
  },
  {
   "cell_type": "code",
   "execution_count": null,
   "metadata": {},
   "outputs": [
    {
     "ename": "ValueError",
     "evalue": "Length of values (12) does not match length of index (1412)",
     "output_type": "error",
     "traceback": [
      "\u001b[1;31m---------------------------------------------------------------------------\u001b[0m",
      "\u001b[1;31mValueError\u001b[0m                                Traceback (most recent call last)",
      "\u001b[1;32m~\\AppData\\Local\\Temp\\ipykernel_23376\\1395039287.py\u001b[0m in \u001b[0;36m<module>\u001b[1;34m\u001b[0m\n\u001b[0;32m      2\u001b[0m \u001b[0mdf\u001b[0m\u001b[1;33m[\u001b[0m\u001b[1;34m'category'\u001b[0m\u001b[1;33m]\u001b[0m \u001b[1;33m=\u001b[0m \u001b[0mcategory\u001b[0m\u001b[1;33m\u001b[0m\u001b[1;33m\u001b[0m\u001b[0m\n\u001b[0;32m      3\u001b[0m \u001b[0mdf\u001b[0m\u001b[1;33m[\u001b[0m\u001b[1;34m'business_hours'\u001b[0m\u001b[1;33m]\u001b[0m \u001b[1;33m=\u001b[0m \u001b[0mbusiness_hours\u001b[0m\u001b[1;33m\u001b[0m\u001b[1;33m\u001b[0m\u001b[0m\n\u001b[1;32m----> 4\u001b[1;33m \u001b[0mdf\u001b[0m\u001b[1;33m[\u001b[0m\u001b[1;34m'rating'\u001b[0m\u001b[1;33m]\u001b[0m \u001b[1;33m=\u001b[0m \u001b[0mrating\u001b[0m\u001b[1;33m\u001b[0m\u001b[1;33m\u001b[0m\u001b[0m\n\u001b[0m\u001b[0;32m      5\u001b[0m \u001b[0mdf\u001b[0m\u001b[1;33m[\u001b[0m\u001b[1;34m'review_count'\u001b[0m\u001b[1;33m]\u001b[0m \u001b[1;33m=\u001b[0m \u001b[0mreview_count\u001b[0m\u001b[1;33m\u001b[0m\u001b[1;33m\u001b[0m\u001b[0m\n\u001b[0;32m      6\u001b[0m \u001b[0mdf\u001b[0m\u001b[1;33m[\u001b[0m\u001b[1;34m'phone_number'\u001b[0m\u001b[1;33m]\u001b[0m \u001b[1;33m=\u001b[0m \u001b[0mphone_number\u001b[0m\u001b[1;33m\u001b[0m\u001b[1;33m\u001b[0m\u001b[0m\n",
      "\u001b[1;32mc:\\Users\\meteo\\anaconda3\\envs\\sesac\\lib\\site-packages\\pandas\\core\\frame.py\u001b[0m in \u001b[0;36m__setitem__\u001b[1;34m(self, key, value)\u001b[0m\n\u001b[0;32m   3610\u001b[0m         \u001b[1;32melse\u001b[0m\u001b[1;33m:\u001b[0m\u001b[1;33m\u001b[0m\u001b[1;33m\u001b[0m\u001b[0m\n\u001b[0;32m   3611\u001b[0m             \u001b[1;31m# set column\u001b[0m\u001b[1;33m\u001b[0m\u001b[1;33m\u001b[0m\u001b[1;33m\u001b[0m\u001b[0m\n\u001b[1;32m-> 3612\u001b[1;33m             \u001b[0mself\u001b[0m\u001b[1;33m.\u001b[0m\u001b[0m_set_item\u001b[0m\u001b[1;33m(\u001b[0m\u001b[0mkey\u001b[0m\u001b[1;33m,\u001b[0m \u001b[0mvalue\u001b[0m\u001b[1;33m)\u001b[0m\u001b[1;33m\u001b[0m\u001b[1;33m\u001b[0m\u001b[0m\n\u001b[0m\u001b[0;32m   3613\u001b[0m \u001b[1;33m\u001b[0m\u001b[0m\n\u001b[0;32m   3614\u001b[0m     \u001b[1;32mdef\u001b[0m \u001b[0m_setitem_slice\u001b[0m\u001b[1;33m(\u001b[0m\u001b[0mself\u001b[0m\u001b[1;33m,\u001b[0m \u001b[0mkey\u001b[0m\u001b[1;33m:\u001b[0m \u001b[0mslice\u001b[0m\u001b[1;33m,\u001b[0m \u001b[0mvalue\u001b[0m\u001b[1;33m)\u001b[0m\u001b[1;33m:\u001b[0m\u001b[1;33m\u001b[0m\u001b[1;33m\u001b[0m\u001b[0m\n",
      "\u001b[1;32mc:\\Users\\meteo\\anaconda3\\envs\\sesac\\lib\\site-packages\\pandas\\core\\frame.py\u001b[0m in \u001b[0;36m_set_item\u001b[1;34m(self, key, value)\u001b[0m\n\u001b[0;32m   3782\u001b[0m         \u001b[0mensure\u001b[0m \u001b[0mhomogeneity\u001b[0m\u001b[1;33m.\u001b[0m\u001b[1;33m\u001b[0m\u001b[1;33m\u001b[0m\u001b[0m\n\u001b[0;32m   3783\u001b[0m         \"\"\"\n\u001b[1;32m-> 3784\u001b[1;33m         \u001b[0mvalue\u001b[0m \u001b[1;33m=\u001b[0m \u001b[0mself\u001b[0m\u001b[1;33m.\u001b[0m\u001b[0m_sanitize_column\u001b[0m\u001b[1;33m(\u001b[0m\u001b[0mvalue\u001b[0m\u001b[1;33m)\u001b[0m\u001b[1;33m\u001b[0m\u001b[1;33m\u001b[0m\u001b[0m\n\u001b[0m\u001b[0;32m   3785\u001b[0m \u001b[1;33m\u001b[0m\u001b[0m\n\u001b[0;32m   3786\u001b[0m         if (\n",
      "\u001b[1;32mc:\\Users\\meteo\\anaconda3\\envs\\sesac\\lib\\site-packages\\pandas\\core\\frame.py\u001b[0m in \u001b[0;36m_sanitize_column\u001b[1;34m(self, value)\u001b[0m\n\u001b[0;32m   4507\u001b[0m \u001b[1;33m\u001b[0m\u001b[0m\n\u001b[0;32m   4508\u001b[0m         \u001b[1;32mif\u001b[0m \u001b[0mis_list_like\u001b[0m\u001b[1;33m(\u001b[0m\u001b[0mvalue\u001b[0m\u001b[1;33m)\u001b[0m\u001b[1;33m:\u001b[0m\u001b[1;33m\u001b[0m\u001b[1;33m\u001b[0m\u001b[0m\n\u001b[1;32m-> 4509\u001b[1;33m             \u001b[0mcom\u001b[0m\u001b[1;33m.\u001b[0m\u001b[0mrequire_length_match\u001b[0m\u001b[1;33m(\u001b[0m\u001b[0mvalue\u001b[0m\u001b[1;33m,\u001b[0m \u001b[0mself\u001b[0m\u001b[1;33m.\u001b[0m\u001b[0mindex\u001b[0m\u001b[1;33m)\u001b[0m\u001b[1;33m\u001b[0m\u001b[1;33m\u001b[0m\u001b[0m\n\u001b[0m\u001b[0;32m   4510\u001b[0m         \u001b[1;32mreturn\u001b[0m \u001b[0msanitize_array\u001b[0m\u001b[1;33m(\u001b[0m\u001b[0mvalue\u001b[0m\u001b[1;33m,\u001b[0m \u001b[0mself\u001b[0m\u001b[1;33m.\u001b[0m\u001b[0mindex\u001b[0m\u001b[1;33m,\u001b[0m \u001b[0mcopy\u001b[0m\u001b[1;33m=\u001b[0m\u001b[1;32mTrue\u001b[0m\u001b[1;33m,\u001b[0m \u001b[0mallow_2d\u001b[0m\u001b[1;33m=\u001b[0m\u001b[1;32mTrue\u001b[0m\u001b[1;33m)\u001b[0m\u001b[1;33m\u001b[0m\u001b[1;33m\u001b[0m\u001b[0m\n\u001b[0;32m   4511\u001b[0m \u001b[1;33m\u001b[0m\u001b[0m\n",
      "\u001b[1;32mc:\\Users\\meteo\\anaconda3\\envs\\sesac\\lib\\site-packages\\pandas\\core\\common.py\u001b[0m in \u001b[0;36mrequire_length_match\u001b[1;34m(data, index)\u001b[0m\n\u001b[0;32m    530\u001b[0m     \u001b[1;32mif\u001b[0m \u001b[0mlen\u001b[0m\u001b[1;33m(\u001b[0m\u001b[0mdata\u001b[0m\u001b[1;33m)\u001b[0m \u001b[1;33m!=\u001b[0m \u001b[0mlen\u001b[0m\u001b[1;33m(\u001b[0m\u001b[0mindex\u001b[0m\u001b[1;33m)\u001b[0m\u001b[1;33m:\u001b[0m\u001b[1;33m\u001b[0m\u001b[1;33m\u001b[0m\u001b[0m\n\u001b[0;32m    531\u001b[0m         raise ValueError(\n\u001b[1;32m--> 532\u001b[1;33m             \u001b[1;34m\"Length of values \"\u001b[0m\u001b[1;33m\u001b[0m\u001b[1;33m\u001b[0m\u001b[0m\n\u001b[0m\u001b[0;32m    533\u001b[0m             \u001b[1;34mf\"({len(data)}) \"\u001b[0m\u001b[1;33m\u001b[0m\u001b[1;33m\u001b[0m\u001b[0m\n\u001b[0;32m    534\u001b[0m             \u001b[1;34m\"does not match length of index \"\u001b[0m\u001b[1;33m\u001b[0m\u001b[1;33m\u001b[0m\u001b[0m\n",
      "\u001b[1;31mValueError\u001b[0m: Length of values (12) does not match length of index (1412)"
     ]
    }
   ],
   "source": [
    "df['menu_price'] = menu_price\n",
    "df['category'] = category\n",
    "df['business_hours'] = business_hours \n",
    "df['rating'] = rating\n",
    "df['review_count'] = review_count\n",
    "df['phone_number'] = phone_number\n",
    "df['last_update'] = last_update\n",
    "df.to_csv('kakaomapAPI_crawling(selenium).csv', encoding='utf-8-sig', index=False)"
   ]
  },
  {
   "cell_type": "code",
   "execution_count": 35,
   "metadata": {},
   "outputs": [
    {
     "name": "stdout",
     "output_type": "stream",
     "text": [
      "브라운슈가 치즈폼 스무디(L)\n",
      "브라운슈가 쥬얼리 밀크티(L)\n",
      "망고 스무디(L)\n",
      "망고 요구르트(L)\n",
      "망고 주스(L)\n",
      "블랙 밀크티(L)\n",
      "블랙티(L)\n",
      "아메리카노(L)\n",
      "얼그레이 밀크티(L)\n",
      "얼그레이티(L)\n",
      "우롱 밀크티(L)\n",
      "우롱티(L)\n",
      "자스민 그린티(L)\n",
      "제주 그린티 스무디(L)\n",
      "청포도 스무디(L)\n",
      "초콜렛 쿠키 & 크림 스무디(L)\n",
      "초콜렛 밀크티(L)\n",
      "카페라떼(L)\n",
      "타로 밀크티(L)\n"
     ]
    }
   ],
   "source": [
    "for x in soup.find_all('div', 'info_menu'):\n",
    "    print(x.find('span', 'loss_word').get_text())"
   ]
  },
  {
   "cell_type": "code",
   "execution_count": null,
   "metadata": {},
   "outputs": [],
   "source": []
  }
 ],
 "metadata": {
  "kernelspec": {
   "display_name": "Python 3.8.13 ('sesac')",
   "language": "python",
   "name": "python3"
  },
  "language_info": {
   "codemirror_mode": {
    "name": "ipython",
    "version": 3
   },
   "file_extension": ".py",
   "mimetype": "text/x-python",
   "name": "python",
   "nbconvert_exporter": "python",
   "pygments_lexer": "ipython3",
   "version": "3.8.13"
  },
  "orig_nbformat": 4,
  "vscode": {
   "interpreter": {
    "hash": "d72e5c5dab5ddceff39d1d4ea410d21d6d20b42ab1bd7a6e025ed96f0364e9ea"
   }
  }
 },
 "nbformat": 4,
 "nbformat_minor": 2
}
