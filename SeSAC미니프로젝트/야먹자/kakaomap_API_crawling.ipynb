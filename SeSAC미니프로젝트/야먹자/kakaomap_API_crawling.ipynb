{
 "cells": [
  {
   "cell_type": "code",
   "execution_count": 28,
   "metadata": {},
   "outputs": [],
   "source": [
    "from selenium import webdriver\n",
    "from selenium.webdriver.common.by import By\n",
    "from selenium.webdriver.common.keys import Keys\n",
    "from selenium.common.exceptions import NoSuchElementException\n",
    "from webdriver_manager.chrome import ChromeDriverManager\n",
    "from tqdm import tqdm\n",
    "from bs4 import BeautifulSoup\n",
    "\n",
    "\n",
    "import pandas as pd\n",
    "import numpy as np\n",
    "import requests\n",
    "import time\n",
    "import re"
   ]
  },
  {
   "cell_type": "code",
   "execution_count": 29,
   "metadata": {},
   "outputs": [],
   "source": [
    "df = pd.read_csv('kakaoAPI_data.csv', encoding='utf-8')"
   ]
  },
  {
   "cell_type": "code",
   "execution_count": 30,
   "metadata": {},
   "outputs": [
    {
     "data": {
      "text/html": [
       "<div>\n",
       "<style scoped>\n",
       "    .dataframe tbody tr th:only-of-type {\n",
       "        vertical-align: middle;\n",
       "    }\n",
       "\n",
       "    .dataframe tbody tr th {\n",
       "        vertical-align: top;\n",
       "    }\n",
       "\n",
       "    .dataframe thead th {\n",
       "        text-align: right;\n",
       "    }\n",
       "</style>\n",
       "<table border=\"1\" class=\"dataframe\">\n",
       "  <thead>\n",
       "    <tr style=\"text-align: right;\">\n",
       "      <th></th>\n",
       "      <th>ID</th>\n",
       "      <th>stores</th>\n",
       "      <th>X</th>\n",
       "      <th>Y</th>\n",
       "      <th>road_address</th>\n",
       "      <th>place_url</th>\n",
       "    </tr>\n",
       "  </thead>\n",
       "  <tbody>\n",
       "    <tr>\n",
       "      <th>0</th>\n",
       "      <td>20908598</td>\n",
       "      <td>공차 영등포구청점</td>\n",
       "      <td>126.897061</td>\n",
       "      <td>37.526699</td>\n",
       "      <td>서울 영등포구 당산로 136</td>\n",
       "      <td>http://place.map.kakao.com/20908598</td>\n",
       "    </tr>\n",
       "    <tr>\n",
       "      <th>1</th>\n",
       "      <td>1714644708</td>\n",
       "      <td>이도숙성회</td>\n",
       "      <td>126.896237</td>\n",
       "      <td>37.526695</td>\n",
       "      <td>서울 영등포구 당산로31길 4</td>\n",
       "      <td>http://place.map.kakao.com/1714644708</td>\n",
       "    </tr>\n",
       "    <tr>\n",
       "      <th>2</th>\n",
       "      <td>27527233</td>\n",
       "      <td>까치네분식</td>\n",
       "      <td>126.896689</td>\n",
       "      <td>37.527085</td>\n",
       "      <td>서울 영등포구 당산로 139</td>\n",
       "      <td>http://place.map.kakao.com/27527233</td>\n",
       "    </tr>\n",
       "    <tr>\n",
       "      <th>3</th>\n",
       "      <td>22246273</td>\n",
       "      <td>푸른농장 해바라기생고기정육식당 영등포점</td>\n",
       "      <td>126.896155</td>\n",
       "      <td>37.527045</td>\n",
       "      <td>서울 영등포구 당산로33길 5</td>\n",
       "      <td>http://place.map.kakao.com/22246273</td>\n",
       "    </tr>\n",
       "    <tr>\n",
       "      <th>4</th>\n",
       "      <td>19609040</td>\n",
       "      <td>사조참치 영등포구청점</td>\n",
       "      <td>126.896554</td>\n",
       "      <td>37.526706</td>\n",
       "      <td>서울 영등포구 당산로 133</td>\n",
       "      <td>http://place.map.kakao.com/19609040</td>\n",
       "    </tr>\n",
       "  </tbody>\n",
       "</table>\n",
       "</div>"
      ],
      "text/plain": [
       "           ID                 stores           X          Y      road_address  \\\n",
       "0    20908598              공차 영등포구청점  126.897061  37.526699   서울 영등포구 당산로 136   \n",
       "1  1714644708                  이도숙성회  126.896237  37.526695  서울 영등포구 당산로31길 4   \n",
       "2    27527233                  까치네분식  126.896689  37.527085   서울 영등포구 당산로 139   \n",
       "3    22246273  푸른농장 해바라기생고기정육식당 영등포점  126.896155  37.527045  서울 영등포구 당산로33길 5   \n",
       "4    19609040            사조참치 영등포구청점  126.896554  37.526706   서울 영등포구 당산로 133   \n",
       "\n",
       "                               place_url  \n",
       "0    http://place.map.kakao.com/20908598  \n",
       "1  http://place.map.kakao.com/1714644708  \n",
       "2    http://place.map.kakao.com/27527233  \n",
       "3    http://place.map.kakao.com/22246273  \n",
       "4    http://place.map.kakao.com/19609040  "
      ]
     },
     "execution_count": 30,
     "metadata": {},
     "output_type": "execute_result"
    }
   ],
   "source": [
    "df.drop(['Unnamed: 0', 'Unnamed: 0.1'], inplace=True, axis=1)\n",
    "df.head()"
   ]
  },
  {
   "cell_type": "code",
   "execution_count": 31,
   "metadata": {},
   "outputs": [
    {
     "name": "stderr",
     "output_type": "stream",
     "text": [
      "/var/folders/6b/s1063_qj51s2xh9qm5l7ntq40000gn/T/ipykernel_1972/1284927200.py:3: DeprecationWarning: executable_path has been deprecated, please pass in a Service object\n",
      "  driver = webdriver.Chrome(ChromeDriverManager().install(), options=options)\n"
     ]
    }
   ],
   "source": [
    "options = webdriver.ChromeOptions()\n",
    "options.add_argument(\"user-agent=Mozilla/5.0 (Macintosh; Intel Mac OS X 10_15_7) AppleWebKit/537.36 (KHTML, like Gecko) Chrome/104.0.0.0 Safari/537.36\")\n",
    "driver = webdriver.Chrome(ChromeDriverManager().install(), options=options)"
   ]
  },
  {
   "cell_type": "code",
   "execution_count": 32,
   "metadata": {},
   "outputs": [],
   "source": [
    "# 수집할 정보\n",
    "menu = []\n",
    "category = []\n",
    "business_hours = []\n",
    "break_time = [] \n",
    "rating = []\n",
    "review_count = []\n",
    "phone_number = [] \n",
    "last_update = []\n",
    "delay = 2\n",
    "\n",
    "p = re.compile('[a-zA-Z]+')"
   ]
  },
  {
   "cell_type": "code",
   "execution_count": 33,
   "metadata": {},
   "outputs": [
    {
     "name": "stderr",
     "output_type": "stream",
     "text": [
      "100%|██████████| 1412/1412 [1:41:53<00:00,  4.33s/it]\n"
     ]
    }
   ],
   "source": [
    "for url in tqdm(df['place_url']):\n",
    "    driver.get(url)\n",
    "    time.sleep(delay)\n",
    "    html = driver.page_source\n",
    "    soup = BeautifulSoup(html, 'html.parser')\n",
    "    data = soup.find_all('div', 'mArticle')\n",
    "    for x in data:\n",
    "        category.append(x.find('span', 'txt_location').text)\n",
    "        business_hours.append(x.find('span', 'txt_operation').text)\n",
    "        break_time.append(x.find('span', 'txt_operation').text)\n",
    "        rating.append(x.find('span', 'color_b').text)\n",
    "        phone_number.append(x.find('span', 'txt_contact').text)\n",
    "        last_update.append(x.find('span', 'date_revise').text)\n",
    "        menues = soup.find_all('div', 'info_menu')\n",
    "    \n",
    "        menu_temp = []\n",
    "        for y in menues:\n",
    "            menu_temp.append(y.find('span', 'loss_word').text)\n",
    "        menu.append(menu_temp)\n",
    "        \n",
    "        review_temp = x.find_all('span', 'color_g')\n",
    "        if p.match(review_temp[0]) == None:\n",
    "            review_count.append(review_temp[0].text)\n",
    "        else:\n",
    "            review_count.append(review_temp[1].text)\n",
    "    time.sleep(delay)"
   ]
  },
  {
   "cell_type": "code",
   "execution_count": 34,
   "metadata": {},
   "outputs": [
    {
     "ename": "ValueError",
     "evalue": "Length of values (0) does not match length of index (1412)",
     "output_type": "error",
     "traceback": [
      "\u001b[0;31m---------------------------------------------------------------------------\u001b[0m",
      "\u001b[0;31mValueError\u001b[0m                                Traceback (most recent call last)",
      "\u001b[1;32m/Users/seondo/Downloads/sesac/SeSAC미니프로젝트/야먹자/kakaomap_API_crawling.ipynb 셀 7\u001b[0m in \u001b[0;36m<cell line: 1>\u001b[0;34m()\u001b[0m\n\u001b[0;32m----> <a href='vscode-notebook-cell:/Users/seondo/Downloads/sesac/SeSAC%EB%AF%B8%EB%8B%88%ED%94%84%EB%A1%9C%EC%A0%9D%ED%8A%B8/%EC%95%BC%EB%A8%B9%EC%9E%90/kakaomap_API_crawling.ipynb#X11sZmlsZQ%3D%3D?line=0'>1</a>\u001b[0m df[\u001b[39m'\u001b[39;49m\u001b[39mmenu\u001b[39;49m\u001b[39m'\u001b[39;49m] \u001b[39m=\u001b[39m menu\n\u001b[1;32m      <a href='vscode-notebook-cell:/Users/seondo/Downloads/sesac/SeSAC%EB%AF%B8%EB%8B%88%ED%94%84%EB%A1%9C%EC%A0%9D%ED%8A%B8/%EC%95%BC%EB%A8%B9%EC%9E%90/kakaomap_API_crawling.ipynb#X11sZmlsZQ%3D%3D?line=1'>2</a>\u001b[0m df[\u001b[39m'\u001b[39m\u001b[39mcategory\u001b[39m\u001b[39m'\u001b[39m] \u001b[39m=\u001b[39m category\n\u001b[1;32m      <a href='vscode-notebook-cell:/Users/seondo/Downloads/sesac/SeSAC%EB%AF%B8%EB%8B%88%ED%94%84%EB%A1%9C%EC%A0%9D%ED%8A%B8/%EC%95%BC%EB%A8%B9%EC%9E%90/kakaomap_API_crawling.ipynb#X11sZmlsZQ%3D%3D?line=2'>3</a>\u001b[0m df[\u001b[39m'\u001b[39m\u001b[39mbusiness_hours\u001b[39m\u001b[39m'\u001b[39m] \u001b[39m=\u001b[39m business_hours \n",
      "File \u001b[0;32m/opt/homebrew/Caskroom/miniforge/base/envs/sesac/lib/python3.8/site-packages/pandas/core/frame.py:3612\u001b[0m, in \u001b[0;36mDataFrame.__setitem__\u001b[0;34m(self, key, value)\u001b[0m\n\u001b[1;32m   3609\u001b[0m     \u001b[39mself\u001b[39m\u001b[39m.\u001b[39m_setitem_array([key], value)\n\u001b[1;32m   3610\u001b[0m \u001b[39melse\u001b[39;00m:\n\u001b[1;32m   3611\u001b[0m     \u001b[39m# set column\u001b[39;00m\n\u001b[0;32m-> 3612\u001b[0m     \u001b[39mself\u001b[39;49m\u001b[39m.\u001b[39;49m_set_item(key, value)\n",
      "File \u001b[0;32m/opt/homebrew/Caskroom/miniforge/base/envs/sesac/lib/python3.8/site-packages/pandas/core/frame.py:3784\u001b[0m, in \u001b[0;36mDataFrame._set_item\u001b[0;34m(self, key, value)\u001b[0m\n\u001b[1;32m   3774\u001b[0m \u001b[39mdef\u001b[39;00m \u001b[39m_set_item\u001b[39m(\u001b[39mself\u001b[39m, key, value) \u001b[39m-\u001b[39m\u001b[39m>\u001b[39m \u001b[39mNone\u001b[39;00m:\n\u001b[1;32m   3775\u001b[0m     \u001b[39m\"\"\"\u001b[39;00m\n\u001b[1;32m   3776\u001b[0m \u001b[39m    Add series to DataFrame in specified column.\u001b[39;00m\n\u001b[1;32m   3777\u001b[0m \n\u001b[0;32m   (...)\u001b[0m\n\u001b[1;32m   3782\u001b[0m \u001b[39m    ensure homogeneity.\u001b[39;00m\n\u001b[1;32m   3783\u001b[0m \u001b[39m    \"\"\"\u001b[39;00m\n\u001b[0;32m-> 3784\u001b[0m     value \u001b[39m=\u001b[39m \u001b[39mself\u001b[39;49m\u001b[39m.\u001b[39;49m_sanitize_column(value)\n\u001b[1;32m   3786\u001b[0m     \u001b[39mif\u001b[39;00m (\n\u001b[1;32m   3787\u001b[0m         key \u001b[39min\u001b[39;00m \u001b[39mself\u001b[39m\u001b[39m.\u001b[39mcolumns\n\u001b[1;32m   3788\u001b[0m         \u001b[39mand\u001b[39;00m value\u001b[39m.\u001b[39mndim \u001b[39m==\u001b[39m \u001b[39m1\u001b[39m\n\u001b[1;32m   3789\u001b[0m         \u001b[39mand\u001b[39;00m \u001b[39mnot\u001b[39;00m is_extension_array_dtype(value)\n\u001b[1;32m   3790\u001b[0m     ):\n\u001b[1;32m   3791\u001b[0m         \u001b[39m# broadcast across multiple columns if necessary\u001b[39;00m\n\u001b[1;32m   3792\u001b[0m         \u001b[39mif\u001b[39;00m \u001b[39mnot\u001b[39;00m \u001b[39mself\u001b[39m\u001b[39m.\u001b[39mcolumns\u001b[39m.\u001b[39mis_unique \u001b[39mor\u001b[39;00m \u001b[39misinstance\u001b[39m(\u001b[39mself\u001b[39m\u001b[39m.\u001b[39mcolumns, MultiIndex):\n",
      "File \u001b[0;32m/opt/homebrew/Caskroom/miniforge/base/envs/sesac/lib/python3.8/site-packages/pandas/core/frame.py:4509\u001b[0m, in \u001b[0;36mDataFrame._sanitize_column\u001b[0;34m(self, value)\u001b[0m\n\u001b[1;32m   4506\u001b[0m     \u001b[39mreturn\u001b[39;00m _reindex_for_setitem(value, \u001b[39mself\u001b[39m\u001b[39m.\u001b[39mindex)\n\u001b[1;32m   4508\u001b[0m \u001b[39mif\u001b[39;00m is_list_like(value):\n\u001b[0;32m-> 4509\u001b[0m     com\u001b[39m.\u001b[39;49mrequire_length_match(value, \u001b[39mself\u001b[39;49m\u001b[39m.\u001b[39;49mindex)\n\u001b[1;32m   4510\u001b[0m \u001b[39mreturn\u001b[39;00m sanitize_array(value, \u001b[39mself\u001b[39m\u001b[39m.\u001b[39mindex, copy\u001b[39m=\u001b[39m\u001b[39mTrue\u001b[39;00m, allow_2d\u001b[39m=\u001b[39m\u001b[39mTrue\u001b[39;00m)\n",
      "File \u001b[0;32m/opt/homebrew/Caskroom/miniforge/base/envs/sesac/lib/python3.8/site-packages/pandas/core/common.py:531\u001b[0m, in \u001b[0;36mrequire_length_match\u001b[0;34m(data, index)\u001b[0m\n\u001b[1;32m    527\u001b[0m \u001b[39m\"\"\"\u001b[39;00m\n\u001b[1;32m    528\u001b[0m \u001b[39mCheck the length of data matches the length of the index.\u001b[39;00m\n\u001b[1;32m    529\u001b[0m \u001b[39m\"\"\"\u001b[39;00m\n\u001b[1;32m    530\u001b[0m \u001b[39mif\u001b[39;00m \u001b[39mlen\u001b[39m(data) \u001b[39m!=\u001b[39m \u001b[39mlen\u001b[39m(index):\n\u001b[0;32m--> 531\u001b[0m     \u001b[39mraise\u001b[39;00m \u001b[39mValueError\u001b[39;00m(\n\u001b[1;32m    532\u001b[0m         \u001b[39m\"\u001b[39m\u001b[39mLength of values \u001b[39m\u001b[39m\"\u001b[39m\n\u001b[1;32m    533\u001b[0m         \u001b[39mf\u001b[39m\u001b[39m\"\u001b[39m\u001b[39m(\u001b[39m\u001b[39m{\u001b[39;00m\u001b[39mlen\u001b[39m(data)\u001b[39m}\u001b[39;00m\u001b[39m) \u001b[39m\u001b[39m\"\u001b[39m\n\u001b[1;32m    534\u001b[0m         \u001b[39m\"\u001b[39m\u001b[39mdoes not match length of index \u001b[39m\u001b[39m\"\u001b[39m\n\u001b[1;32m    535\u001b[0m         \u001b[39mf\u001b[39m\u001b[39m\"\u001b[39m\u001b[39m(\u001b[39m\u001b[39m{\u001b[39;00m\u001b[39mlen\u001b[39m(index)\u001b[39m}\u001b[39;00m\u001b[39m)\u001b[39m\u001b[39m\"\u001b[39m\n\u001b[1;32m    536\u001b[0m     )\n",
      "\u001b[0;31mValueError\u001b[0m: Length of values (0) does not match length of index (1412)"
     ]
    }
   ],
   "source": [
    "df['menu'] = menu\n",
    "df['category'] = category\n",
    "df['business_hours'] = business_hours \n",
    "df['rating'] = rating\n",
    "df['review_count'] = review_count\n",
    "df['phone_number'] = phone_number\n",
    "df['last_update'] = last_update\n",
    "df['break_time'] = break_time\n",
    "df.to_csv('kakaomapAPI_crawling(selenium).csv', encoding='utf-8-sig', index=False)"
   ]
  },
  {
   "cell_type": "code",
   "execution_count": 35,
   "metadata": {},
   "outputs": [
    {
     "name": "stdout",
     "output_type": "stream",
     "text": [
      "0\n"
     ]
    }
   ],
   "source": [
    "print(len(menu))"
   ]
  },
  {
   "cell_type": "code",
   "execution_count": null,
   "metadata": {},
   "outputs": [],
   "source": []
  }
 ],
 "metadata": {
  "kernelspec": {
   "display_name": "Python 3.8.13 ('sesac')",
   "language": "python",
   "name": "python3"
  },
  "language_info": {
   "codemirror_mode": {
    "name": "ipython",
    "version": 3
   },
   "file_extension": ".py",
   "mimetype": "text/x-python",
   "name": "python",
   "nbconvert_exporter": "python",
   "pygments_lexer": "ipython3",
   "version": "3.8.13"
  },
  "orig_nbformat": 4,
  "vscode": {
   "interpreter": {
    "hash": "d72e5c5dab5ddceff39d1d4ea410d21d6d20b42ab1bd7a6e025ed96f0364e9ea"
   }
  }
 },
 "nbformat": 4,
 "nbformat_minor": 2
}
