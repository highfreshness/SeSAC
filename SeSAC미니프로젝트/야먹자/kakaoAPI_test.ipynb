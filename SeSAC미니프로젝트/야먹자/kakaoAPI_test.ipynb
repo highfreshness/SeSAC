{
 "cells": [
  {
   "cell_type": "code",
   "execution_count": 28,
   "metadata": {},
   "outputs": [],
   "source": [
    "import requests\n",
    "import json\n",
    "from pprint import pprint as p\n",
    "from tqdm import tqdm\n",
    "import time"
   ]
  },
  {
   "cell_type": "code",
   "execution_count": 29,
   "metadata": {},
   "outputs": [],
   "source": [
    "api = ''\n",
    "headers = f'KakaoAK {api}'\n",
    "url = f'https://dapi.kakao.com/v2/local/search/keyword.json'\n",
    "headers = {'Authorization' : headers}"
   ]
  },
  {
   "cell_type": "code",
   "execution_count": 30,
   "metadata": {},
   "outputs": [],
   "source": [
    "place_name = []\n",
    "address = []\n",
    "category = []\n",
    "phone = []\n",
    "X = []\n",
    "Y = []\n",
    "place_url = []"
   ]
  },
  {
   "cell_type": "code",
   "execution_count": 31,
   "metadata": {},
   "outputs": [
    {
     "name": "stderr",
     "output_type": "stream",
     "text": [
      "100%|██████████| 45/45 [00:04<00:00,  9.73it/s]\n"
     ]
    }
   ],
   "source": [
    "# 별도 조건을 주지 않았으면 페이지 45개 까지만 API 데이터를 제공한다\n",
    "for page in tqdm(range(1, 46)):\n",
    "    params = { 'query': '영등포 맛집', 'page' : page, 'size' : 10 }\n",
    "    response = requests.get(url, headers=headers, params=params) # url에 json 형태로 찾을 내용을 입력\n",
    "    docs = json.loads(response.text)\n",
    "    \n",
    "    for x in docs['documents']:\n",
    "        place_name.append(x['place_name'])\n",
    "        address.append(x['address_name'])\n",
    "        category.append(x['category_name'])\n",
    "        phone.append(x['phone'])\n",
    "        X.append(x['x'])\n",
    "        Y.append(x['y'])\n",
    "        place_url.append(x['place_url'])"
   ]
  },
  {
   "cell_type": "code",
   "execution_count": 32,
   "metadata": {},
   "outputs": [
    {
     "data": {
      "text/plain": [
       "245"
      ]
     },
     "execution_count": 32,
     "metadata": {},
     "output_type": "execute_result"
    }
   ],
   "source": [
    "len(place_name)"
   ]
  }
 ],
 "metadata": {
  "kernelspec": {
   "display_name": "Python 3.7.13 ('sesac')",
   "language": "python",
   "name": "python3"
  },
  "language_info": {
   "codemirror_mode": {
    "name": "ipython",
    "version": 3
   },
   "file_extension": ".py",
   "mimetype": "text/x-python",
   "name": "python",
   "nbconvert_exporter": "python",
   "pygments_lexer": "ipython3",
   "version": "3.7.13"
  },
  "orig_nbformat": 4,
  "vscode": {
   "interpreter": {
    "hash": "10c5266451461070ab9a582399e8bb66b03430da1ac04dd839d1878132a9a125"
   }
  }
 },
 "nbformat": 4,
 "nbformat_minor": 2
}
