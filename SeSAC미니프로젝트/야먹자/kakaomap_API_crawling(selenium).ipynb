{
 "cells": [
  {
   "cell_type": "code",
   "execution_count": 36,
   "metadata": {},
   "outputs": [],
   "source": [
    "from selenium import webdriver\n",
    "from selenium.webdriver.common.by import By\n",
    "from selenium.webdriver.common.keys import Keys\n",
    "from selenium.common.exceptions import NoSuchElementException\n",
    "from webdriver_manager.chrome import ChromeDriverManager\n",
    "from tqdm import tqdm\n",
    "from bs4 import BeautifulSoup\n",
    "\n",
    "\n",
    "import pandas as pd\n",
    "import numpy as np\n",
    "import requests\n",
    "import time\n",
    "import re"
   ]
  },
  {
   "cell_type": "code",
   "execution_count": 37,
   "metadata": {},
   "outputs": [],
   "source": [
    "df = pd.read_csv('kakaoAPI_data.csv', encoding='utf-8')"
   ]
  },
  {
   "cell_type": "code",
   "execution_count": 38,
   "metadata": {},
   "outputs": [
    {
     "data": {
      "text/html": [
       "<div>\n",
       "<style scoped>\n",
       "    .dataframe tbody tr th:only-of-type {\n",
       "        vertical-align: middle;\n",
       "    }\n",
       "\n",
       "    .dataframe tbody tr th {\n",
       "        vertical-align: top;\n",
       "    }\n",
       "\n",
       "    .dataframe thead th {\n",
       "        text-align: right;\n",
       "    }\n",
       "</style>\n",
       "<table border=\"1\" class=\"dataframe\">\n",
       "  <thead>\n",
       "    <tr style=\"text-align: right;\">\n",
       "      <th></th>\n",
       "      <th>ID</th>\n",
       "      <th>stores</th>\n",
       "      <th>X</th>\n",
       "      <th>Y</th>\n",
       "      <th>road_address</th>\n",
       "      <th>place_url</th>\n",
       "    </tr>\n",
       "  </thead>\n",
       "  <tbody>\n",
       "    <tr>\n",
       "      <th>0</th>\n",
       "      <td>20908598</td>\n",
       "      <td>공차 영등포구청점</td>\n",
       "      <td>126.897061</td>\n",
       "      <td>37.526699</td>\n",
       "      <td>서울 영등포구 당산로 136</td>\n",
       "      <td>http://place.map.kakao.com/20908598</td>\n",
       "    </tr>\n",
       "    <tr>\n",
       "      <th>1</th>\n",
       "      <td>1714644708</td>\n",
       "      <td>이도숙성회</td>\n",
       "      <td>126.896237</td>\n",
       "      <td>37.526695</td>\n",
       "      <td>서울 영등포구 당산로31길 4</td>\n",
       "      <td>http://place.map.kakao.com/1714644708</td>\n",
       "    </tr>\n",
       "    <tr>\n",
       "      <th>2</th>\n",
       "      <td>27527233</td>\n",
       "      <td>까치네분식</td>\n",
       "      <td>126.896689</td>\n",
       "      <td>37.527085</td>\n",
       "      <td>서울 영등포구 당산로 139</td>\n",
       "      <td>http://place.map.kakao.com/27527233</td>\n",
       "    </tr>\n",
       "    <tr>\n",
       "      <th>3</th>\n",
       "      <td>22246273</td>\n",
       "      <td>푸른농장 해바라기생고기정육식당 영등포점</td>\n",
       "      <td>126.896155</td>\n",
       "      <td>37.527045</td>\n",
       "      <td>서울 영등포구 당산로33길 5</td>\n",
       "      <td>http://place.map.kakao.com/22246273</td>\n",
       "    </tr>\n",
       "    <tr>\n",
       "      <th>4</th>\n",
       "      <td>19609040</td>\n",
       "      <td>사조참치 영등포구청점</td>\n",
       "      <td>126.896554</td>\n",
       "      <td>37.526706</td>\n",
       "      <td>서울 영등포구 당산로 133</td>\n",
       "      <td>http://place.map.kakao.com/19609040</td>\n",
       "    </tr>\n",
       "  </tbody>\n",
       "</table>\n",
       "</div>"
      ],
      "text/plain": [
       "           ID                 stores           X          Y      road_address  \\\n",
       "0    20908598              공차 영등포구청점  126.897061  37.526699   서울 영등포구 당산로 136   \n",
       "1  1714644708                  이도숙성회  126.896237  37.526695  서울 영등포구 당산로31길 4   \n",
       "2    27527233                  까치네분식  126.896689  37.527085   서울 영등포구 당산로 139   \n",
       "3    22246273  푸른농장 해바라기생고기정육식당 영등포점  126.896155  37.527045  서울 영등포구 당산로33길 5   \n",
       "4    19609040            사조참치 영등포구청점  126.896554  37.526706   서울 영등포구 당산로 133   \n",
       "\n",
       "                               place_url  \n",
       "0    http://place.map.kakao.com/20908598  \n",
       "1  http://place.map.kakao.com/1714644708  \n",
       "2    http://place.map.kakao.com/27527233  \n",
       "3    http://place.map.kakao.com/22246273  \n",
       "4    http://place.map.kakao.com/19609040  "
      ]
     },
     "execution_count": 38,
     "metadata": {},
     "output_type": "execute_result"
    }
   ],
   "source": [
    "df.drop(['Unnamed: 0', 'Unnamed: 0.1'], inplace=True, axis=1)\n",
    "df.head()"
   ]
  },
  {
   "cell_type": "code",
   "execution_count": 39,
   "metadata": {},
   "outputs": [
    {
     "name": "stderr",
     "output_type": "stream",
     "text": [
      "c:\\Users\\sesac\\.conda\\envs\\sesac\\lib\\site-packages\\ipykernel_launcher.py:3: DeprecationWarning: executable_path has been deprecated, please pass in a Service object\n",
      "  This is separate from the ipykernel package so we can avoid doing imports until\n"
     ]
    }
   ],
   "source": [
    "options = webdriver.ChromeOptions()\n",
    "options.add_argument(\"user-agent=Mozilla/5.0 (Windows NT 10.0; Win64; x64) AppleWebKit/537.36 (KHTML, like Gecko) Chrome/104.0.0.0 Safari/537.36\")\n",
    "driver = webdriver.Chrome(ChromeDriverManager().install(), options=options)"
   ]
  },
  {
   "cell_type": "code",
   "execution_count": 89,
   "metadata": {},
   "outputs": [],
   "source": [
    "# 수집할 정보\n",
    "menu = []\n",
    "category = []\n",
    "business_hours = []\n",
    "rating = []\n",
    "phone_number = [] \n",
    "last_update = []\n",
    "delay = 0.5\n",
    "\n",
    "p = re.compile('[0-9]{2}')"
   ]
  },
  {
   "cell_type": "code",
   "execution_count": 90,
   "metadata": {},
   "outputs": [
    {
     "name": "stderr",
     "output_type": "stream",
     "text": [
      " 54%|█████▍    | 763/1412 [34:16<29:08,  2.69s/it] \n"
     ]
    },
    {
     "ename": "UnexpectedAlertPresentException",
     "evalue": "Alert Text: 접속이 원활하지 않습니다.\n잠시 후 다시 이용해주세요.\nMessage: unexpected alert open: {Alert text : 접속이 원활하지 않습니다.\n잠시 후 다시 이용해주세요.}\n  (Session info: chrome=104.0.5112.102)\nStacktrace:\nBacktrace:\n\tOrdinal0 [0x012178B3+2193587]\n\tOrdinal0 [0x011B0681+1771137]\n\tOrdinal0 [0x010C41A8+803240]\n\tOrdinal0 [0x0111D952+1169746]\n\tOrdinal0 [0x0110D5C6+1103302]\n\tOrdinal0 [0x010E77E0+948192]\n\tOrdinal0 [0x010E86E6+952038]\n\tGetHandleVerifier [0x014C0CB2+2738370]\n\tGetHandleVerifier [0x014B21B8+2678216]\n\tGetHandleVerifier [0x012A17AA+512954]\n\tGetHandleVerifier [0x012A0856+509030]\n\tOrdinal0 [0x011B743B+1799227]\n\tOrdinal0 [0x011BBB68+1817448]\n\tOrdinal0 [0x011BBC55+1817685]\n\tOrdinal0 [0x011C5230+1856048]\n\tBaseThreadInitThunk [0x7687FA29+25]\n\tRtlGetAppContainerNamedObjectPath [0x77607A9E+286]\n\tRtlGetAppContainerNamedObjectPath [0x77607A6E+238]\n",
     "output_type": "error",
     "traceback": [
      "\u001b[1;31m---------------------------------------------------------------------------\u001b[0m",
      "\u001b[1;31mUnexpectedAlertPresentException\u001b[0m           Traceback (most recent call last)",
      "\u001b[1;32m~\\AppData\\Local\\Temp\\ipykernel_9468\\3685649183.py\u001b[0m in \u001b[0;36m<module>\u001b[1;34m\u001b[0m\n\u001b[0;32m      2\u001b[0m     \u001b[0mdriver\u001b[0m\u001b[1;33m.\u001b[0m\u001b[0mget\u001b[0m\u001b[1;33m(\u001b[0m\u001b[0murl\u001b[0m\u001b[1;33m)\u001b[0m\u001b[1;33m\u001b[0m\u001b[1;33m\u001b[0m\u001b[0m\n\u001b[0;32m      3\u001b[0m     \u001b[0mtime\u001b[0m\u001b[1;33m.\u001b[0m\u001b[0msleep\u001b[0m\u001b[1;33m(\u001b[0m\u001b[1;36m1.5\u001b[0m\u001b[1;33m)\u001b[0m\u001b[1;33m\u001b[0m\u001b[1;33m\u001b[0m\u001b[0m\n\u001b[1;32m----> 4\u001b[1;33m     \u001b[0mhtml\u001b[0m \u001b[1;33m=\u001b[0m \u001b[0mdriver\u001b[0m\u001b[1;33m.\u001b[0m\u001b[0mpage_source\u001b[0m\u001b[1;33m\u001b[0m\u001b[1;33m\u001b[0m\u001b[0m\n\u001b[0m\u001b[0;32m      5\u001b[0m     \u001b[0msoup\u001b[0m \u001b[1;33m=\u001b[0m \u001b[0mBeautifulSoup\u001b[0m\u001b[1;33m(\u001b[0m\u001b[0mhtml\u001b[0m\u001b[1;33m,\u001b[0m \u001b[1;34m'html.parser'\u001b[0m\u001b[1;33m)\u001b[0m\u001b[1;33m\u001b[0m\u001b[1;33m\u001b[0m\u001b[0m\n\u001b[0;32m      6\u001b[0m \u001b[1;33m\u001b[0m\u001b[0m\n",
      "\u001b[1;32mc:\\Users\\sesac\\.conda\\envs\\sesac\\lib\\site-packages\\selenium\\webdriver\\remote\\webdriver.py\u001b[0m in \u001b[0;36mpage_source\u001b[1;34m(self)\u001b[0m\n\u001b[0;32m    539\u001b[0m                 \u001b[0mdriver\u001b[0m\u001b[1;33m.\u001b[0m\u001b[0mpage_source\u001b[0m\u001b[1;33m\u001b[0m\u001b[1;33m\u001b[0m\u001b[0m\n\u001b[0;32m    540\u001b[0m         \"\"\"\n\u001b[1;32m--> 541\u001b[1;33m         \u001b[1;32mreturn\u001b[0m \u001b[0mself\u001b[0m\u001b[1;33m.\u001b[0m\u001b[0mexecute\u001b[0m\u001b[1;33m(\u001b[0m\u001b[0mCommand\u001b[0m\u001b[1;33m.\u001b[0m\u001b[0mGET_PAGE_SOURCE\u001b[0m\u001b[1;33m)\u001b[0m\u001b[1;33m[\u001b[0m\u001b[1;34m'value'\u001b[0m\u001b[1;33m]\u001b[0m\u001b[1;33m\u001b[0m\u001b[1;33m\u001b[0m\u001b[0m\n\u001b[0m\u001b[0;32m    542\u001b[0m \u001b[1;33m\u001b[0m\u001b[0m\n\u001b[0;32m    543\u001b[0m     \u001b[1;32mdef\u001b[0m \u001b[0mclose\u001b[0m\u001b[1;33m(\u001b[0m\u001b[0mself\u001b[0m\u001b[1;33m)\u001b[0m \u001b[1;33m->\u001b[0m \u001b[1;32mNone\u001b[0m\u001b[1;33m:\u001b[0m\u001b[1;33m\u001b[0m\u001b[1;33m\u001b[0m\u001b[0m\n",
      "\u001b[1;32mc:\\Users\\sesac\\.conda\\envs\\sesac\\lib\\site-packages\\selenium\\webdriver\\remote\\webdriver.py\u001b[0m in \u001b[0;36mexecute\u001b[1;34m(self, driver_command, params)\u001b[0m\n\u001b[0;32m    433\u001b[0m         \u001b[0mresponse\u001b[0m \u001b[1;33m=\u001b[0m \u001b[0mself\u001b[0m\u001b[1;33m.\u001b[0m\u001b[0mcommand_executor\u001b[0m\u001b[1;33m.\u001b[0m\u001b[0mexecute\u001b[0m\u001b[1;33m(\u001b[0m\u001b[0mdriver_command\u001b[0m\u001b[1;33m,\u001b[0m \u001b[0mparams\u001b[0m\u001b[1;33m)\u001b[0m\u001b[1;33m\u001b[0m\u001b[1;33m\u001b[0m\u001b[0m\n\u001b[0;32m    434\u001b[0m         \u001b[1;32mif\u001b[0m \u001b[0mresponse\u001b[0m\u001b[1;33m:\u001b[0m\u001b[1;33m\u001b[0m\u001b[1;33m\u001b[0m\u001b[0m\n\u001b[1;32m--> 435\u001b[1;33m             \u001b[0mself\u001b[0m\u001b[1;33m.\u001b[0m\u001b[0merror_handler\u001b[0m\u001b[1;33m.\u001b[0m\u001b[0mcheck_response\u001b[0m\u001b[1;33m(\u001b[0m\u001b[0mresponse\u001b[0m\u001b[1;33m)\u001b[0m\u001b[1;33m\u001b[0m\u001b[1;33m\u001b[0m\u001b[0m\n\u001b[0m\u001b[0;32m    436\u001b[0m             response['value'] = self._unwrap_value(\n\u001b[0;32m    437\u001b[0m                 response.get('value', None))\n",
      "\u001b[1;32mc:\\Users\\sesac\\.conda\\envs\\sesac\\lib\\site-packages\\selenium\\webdriver\\remote\\errorhandler.py\u001b[0m in \u001b[0;36mcheck_response\u001b[1;34m(self, response)\u001b[0m\n\u001b[0;32m    244\u001b[0m             \u001b[1;32melif\u001b[0m \u001b[1;34m'alert'\u001b[0m \u001b[1;32min\u001b[0m \u001b[0mvalue\u001b[0m\u001b[1;33m:\u001b[0m\u001b[1;33m\u001b[0m\u001b[1;33m\u001b[0m\u001b[0m\n\u001b[0;32m    245\u001b[0m                 \u001b[0malert_text\u001b[0m \u001b[1;33m=\u001b[0m \u001b[0mvalue\u001b[0m\u001b[1;33m[\u001b[0m\u001b[1;34m'alert'\u001b[0m\u001b[1;33m]\u001b[0m\u001b[1;33m.\u001b[0m\u001b[0mget\u001b[0m\u001b[1;33m(\u001b[0m\u001b[1;34m'text'\u001b[0m\u001b[1;33m)\u001b[0m\u001b[1;33m\u001b[0m\u001b[1;33m\u001b[0m\u001b[0m\n\u001b[1;32m--> 246\u001b[1;33m             \u001b[1;32mraise\u001b[0m \u001b[0mexception_class\u001b[0m\u001b[1;33m(\u001b[0m\u001b[0mmessage\u001b[0m\u001b[1;33m,\u001b[0m \u001b[0mscreen\u001b[0m\u001b[1;33m,\u001b[0m \u001b[0mstacktrace\u001b[0m\u001b[1;33m,\u001b[0m \u001b[0malert_text\u001b[0m\u001b[1;33m)\u001b[0m  \u001b[1;31m# type: ignore[call-arg]  # mypy is not smart enough here\u001b[0m\u001b[1;33m\u001b[0m\u001b[1;33m\u001b[0m\u001b[0m\n\u001b[0m\u001b[0;32m    247\u001b[0m         \u001b[1;32mraise\u001b[0m \u001b[0mexception_class\u001b[0m\u001b[1;33m(\u001b[0m\u001b[0mmessage\u001b[0m\u001b[1;33m,\u001b[0m \u001b[0mscreen\u001b[0m\u001b[1;33m,\u001b[0m \u001b[0mstacktrace\u001b[0m\u001b[1;33m)\u001b[0m\u001b[1;33m\u001b[0m\u001b[1;33m\u001b[0m\u001b[0m\n\u001b[0;32m    248\u001b[0m \u001b[1;33m\u001b[0m\u001b[0m\n",
      "\u001b[1;31mUnexpectedAlertPresentException\u001b[0m: Alert Text: 접속이 원활하지 않습니다.\n잠시 후 다시 이용해주세요.\nMessage: unexpected alert open: {Alert text : 접속이 원활하지 않습니다.\n잠시 후 다시 이용해주세요.}\n  (Session info: chrome=104.0.5112.102)\nStacktrace:\nBacktrace:\n\tOrdinal0 [0x012178B3+2193587]\n\tOrdinal0 [0x011B0681+1771137]\n\tOrdinal0 [0x010C41A8+803240]\n\tOrdinal0 [0x0111D952+1169746]\n\tOrdinal0 [0x0110D5C6+1103302]\n\tOrdinal0 [0x010E77E0+948192]\n\tOrdinal0 [0x010E86E6+952038]\n\tGetHandleVerifier [0x014C0CB2+2738370]\n\tGetHandleVerifier [0x014B21B8+2678216]\n\tGetHandleVerifier [0x012A17AA+512954]\n\tGetHandleVerifier [0x012A0856+509030]\n\tOrdinal0 [0x011B743B+1799227]\n\tOrdinal0 [0x011BBB68+1817448]\n\tOrdinal0 [0x011BBC55+1817685]\n\tOrdinal0 [0x011C5230+1856048]\n\tBaseThreadInitThunk [0x7687FA29+25]\n\tRtlGetAppContainerNamedObjectPath [0x77607A9E+286]\n\tRtlGetAppContainerNamedObjectPath [0x77607A6E+238]\n"
     ]
    }
   ],
   "source": [
    "for url in tqdm(df['place_url']):\n",
    "    driver.get(url)\n",
    "    time.sleep(1.5)\n",
    "    html = driver.page_source\n",
    "    soup = BeautifulSoup(html, 'html.parser')\n",
    "    \n",
    "# 기본 정보와 메뉴가 구역으로 분리되어 있어 각각 변수를 만들어 진행\n",
    "    basic = soup.find('div', 'cont_essential') # 기본 정보 모음\n",
    "################################################ 기본 정보 수집 ################################################\n",
    "    try:\n",
    "        category.append(basic.find('span', 'txt_location').text.split(':')[1].strip()) # 분류: 회\n",
    "    except :\n",
    "        category.append(np.NaN)\n",
    "    try:\n",
    "        business_hours.append(basic.find('span', 'txt_operation').text[:-1]) # '월~토 11:00 ~ 22:00\\n'\n",
    "    except :\n",
    "        business_hours.append(np.NaN)\n",
    "    try:\n",
    "        rating.append(basic.find('span', 'color_b').text[:-1]) # 3.9점\n",
    "    except :\n",
    "        rating.append(np.NaN)\n",
    "    try:\n",
    "        phone_number.append(basic.find('span', 'txt_contact').text)\n",
    "    except :\n",
    "        phone_number.append(np.NaN)\n",
    "    try:\n",
    "        last_update.append(basic.find('span', 'date_revise').text)\n",
    "    except :\n",
    "        last_update.append(np.NaN)\n",
    "    \n",
    "    time.sleep(delay)\n",
    "    \n",
    "    ################################################ 메뉴 정보 수집 ################################################\n",
    "    try:\n",
    "        cont_menu = soup.find('div', 'cont_menu') # 메뉴 정보 모음\n",
    "        menues = cont_menu.find_all('li')\n",
    "        menu_temp = []\n",
    "        for x in menues:\n",
    "            menu_temp.append(x.find('span', 'loss_word').text)\n",
    "        menu.append(menu_temp)\n",
    "    except :\n",
    "        menu.append(np.NaN)    \n",
    "    time.sleep(delay)"
   ]
  },
  {
   "cell_type": "code",
   "execution_count": 16,
   "metadata": {},
   "outputs": [],
   "source": [
    "# driver.close()"
   ]
  },
  {
   "cell_type": "code",
   "execution_count": 86,
   "metadata": {},
   "outputs": [
    {
     "name": "stdout",
     "output_type": "stream",
     "text": [
      "10 10 10 10 10 10\n"
     ]
    }
   ],
   "source": [
    "print(len(category), len(business_hours), len(rating), len(phone_number), len(last_update), len(menu))"
   ]
  },
  {
   "cell_type": "code",
   "execution_count": 12,
   "metadata": {},
   "outputs": [],
   "source": [
    "df['menu'] = menu\n",
    "df['category'] = category\n",
    "df['business_hours'] = business_hours \n",
    "df['rating'] = rating\n",
    "df['review_count'] = review_count\n",
    "df['phone_number'] = phone_number\n",
    "df['last_update'] = last_update\n",
    "df.to_csv('kakaomapAPI_crawling(selenium).csv', encoding='utf-8-sig', index=False)"
   ]
  },
  {
   "cell_type": "code",
   "execution_count": 13,
   "metadata": {},
   "outputs": [
    {
     "data": {
      "text/plain": [
       "'http://place.map.kakao.com/15796377'"
      ]
     },
     "execution_count": 13,
     "metadata": {},
     "output_type": "execute_result"
    }
   ],
   "source": [
    "df['place_url'][507]"
   ]
  },
  {
   "cell_type": "code",
   "execution_count": null,
   "metadata": {},
   "outputs": [],
   "source": []
  }
 ],
 "metadata": {
  "kernelspec": {
   "display_name": "Python 3.7.13 ('sesac')",
   "language": "python",
   "name": "python3"
  },
  "language_info": {
   "codemirror_mode": {
    "name": "ipython",
    "version": 3
   },
   "file_extension": ".py",
   "mimetype": "text/x-python",
   "name": "python",
   "nbconvert_exporter": "python",
   "pygments_lexer": "ipython3",
   "version": "3.7.13"
  },
  "orig_nbformat": 4,
  "vscode": {
   "interpreter": {
    "hash": "10c5266451461070ab9a582399e8bb66b03430da1ac04dd839d1878132a9a125"
   }
  }
 },
 "nbformat": 4,
 "nbformat_minor": 2
}
