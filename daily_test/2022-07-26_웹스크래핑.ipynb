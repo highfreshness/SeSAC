{
 "cells": [
  {
   "cell_type": "markdown",
   "metadata": {},
   "source": [
    "# 2022년 4월 1일부터 100일간 평점이 높았던 영화 1~5위 "
   ]
  },
  {
   "cell_type": "code",
   "execution_count": 1,
   "metadata": {},
   "outputs": [],
   "source": [
    "import pandas as pd\n",
    "import numpy as np\n",
    "from urllib.request import urlopen\n",
    "from tqdm import tqdm\n",
    "from bs4 import BeautifulSoup"
   ]
  },
  {
   "cell_type": "code",
   "execution_count": 2,
   "metadata": {},
   "outputs": [
    {
     "data": {
      "text/plain": [
       "DatetimeIndex(['2022-04-01', '2022-04-02', '2022-04-03', '2022-04-04',\n",
       "               '2022-04-05', '2022-04-06', '2022-04-07', '2022-04-08',\n",
       "               '2022-04-09', '2022-04-10', '2022-04-11', '2022-04-12',\n",
       "               '2022-04-13', '2022-04-14', '2022-04-15', '2022-04-16',\n",
       "               '2022-04-17', '2022-04-18', '2022-04-19', '2022-04-20',\n",
       "               '2022-04-21', '2022-04-22', '2022-04-23', '2022-04-24',\n",
       "               '2022-04-25', '2022-04-26', '2022-04-27', '2022-04-28',\n",
       "               '2022-04-29', '2022-04-30', '2022-05-01', '2022-05-02',\n",
       "               '2022-05-03', '2022-05-04', '2022-05-05', '2022-05-06',\n",
       "               '2022-05-07', '2022-05-08', '2022-05-09', '2022-05-10',\n",
       "               '2022-05-11', '2022-05-12', '2022-05-13', '2022-05-14',\n",
       "               '2022-05-15', '2022-05-16', '2022-05-17', '2022-05-18',\n",
       "               '2022-05-19', '2022-05-20', '2022-05-21', '2022-05-22',\n",
       "               '2022-05-23', '2022-05-24', '2022-05-25', '2022-05-26',\n",
       "               '2022-05-27', '2022-05-28', '2022-05-29', '2022-05-30',\n",
       "               '2022-05-31', '2022-06-01', '2022-06-02', '2022-06-03',\n",
       "               '2022-06-04', '2022-06-05', '2022-06-06', '2022-06-07',\n",
       "               '2022-06-08', '2022-06-09', '2022-06-10', '2022-06-11',\n",
       "               '2022-06-12', '2022-06-13', '2022-06-14', '2022-06-15',\n",
       "               '2022-06-16', '2022-06-17', '2022-06-18', '2022-06-19',\n",
       "               '2022-06-20', '2022-06-21', '2022-06-22', '2022-06-23',\n",
       "               '2022-06-24', '2022-06-25', '2022-06-26', '2022-06-27',\n",
       "               '2022-06-28', '2022-06-29', '2022-06-30', '2022-07-01',\n",
       "               '2022-07-02', '2022-07-03', '2022-07-04', '2022-07-05',\n",
       "               '2022-07-06', '2022-07-07', '2022-07-08', '2022-07-09'],\n",
       "              dtype='datetime64[ns]', freq='D')"
      ]
     },
     "execution_count": 2,
     "metadata": {},
     "output_type": "execute_result"
    }
   ],
   "source": [
    "# 2022년 4월 1일 부터 100개를 생성 freq='D'는 일자 기준\n",
    "date = pd.date_range('2022-4-1', periods=100, freq='D')\n",
    "date"
   ]
  },
  {
   "cell_type": "code",
   "execution_count": 3,
   "metadata": {},
   "outputs": [
    {
     "name": "stderr",
     "output_type": "stream",
     "text": [
      "100%|██████████| 100/100 [00:33<00:00,  3.02it/s]\n"
     ]
    }
   ],
   "source": [
    "movie_date = []\n",
    "movie_name = []\n",
    "movie_point = []\n",
    "\n",
    "for today in tqdm(date):\n",
    "    html = 'https://movie.naver.com' + '/movie/sdb/rank/rmovie.naver?sel=cur&date=' + today.strftime('%Y%m%d')\n",
    "    response = urlopen(html)\n",
    "    soup = BeautifulSoup(response, 'html.parser')\n",
    "    end = len(soup.find_all('td', 'point'))\n",
    "    \n",
    "    movie_date.extend([today for _ in range(0, end)])\n",
    "    movie_name.extend([soup.find_all('div','tit5')[n].a.string for n in range(0, end)])\n",
    "    movie_point.extend([soup.find_all('td','point')[n].string for n in range(0, end)])    "
   ]
  },
  {
   "cell_type": "code",
   "execution_count": 4,
   "metadata": {},
   "outputs": [
    {
     "name": "stdout",
     "output_type": "stream",
     "text": [
      "3947 3947 3947\n"
     ]
    }
   ],
   "source": [
    "print(len(movie_date), len(movie_name), len(movie_point))"
   ]
  },
  {
   "cell_type": "code",
   "execution_count": 5,
   "metadata": {},
   "outputs": [
    {
     "data": {
      "text/html": [
       "<div>\n",
       "<style scoped>\n",
       "    .dataframe tbody tr th:only-of-type {\n",
       "        vertical-align: middle;\n",
       "    }\n",
       "\n",
       "    .dataframe tbody tr th {\n",
       "        vertical-align: top;\n",
       "    }\n",
       "\n",
       "    .dataframe thead th {\n",
       "        text-align: right;\n",
       "    }\n",
       "</style>\n",
       "<table border=\"1\" class=\"dataframe\">\n",
       "  <thead>\n",
       "    <tr style=\"text-align: right;\">\n",
       "      <th></th>\n",
       "      <th>date</th>\n",
       "      <th>name</th>\n",
       "      <th>point</th>\n",
       "    </tr>\n",
       "  </thead>\n",
       "  <tbody>\n",
       "    <tr>\n",
       "      <th>0</th>\n",
       "      <td>2022-04-01</td>\n",
       "      <td>씽2게더</td>\n",
       "      <td>9.41</td>\n",
       "    </tr>\n",
       "    <tr>\n",
       "      <th>1</th>\n",
       "      <td>2022-04-01</td>\n",
       "      <td>패왕별희 디 오리지널</td>\n",
       "      <td>9.31</td>\n",
       "    </tr>\n",
       "    <tr>\n",
       "      <th>2</th>\n",
       "      <td>2022-04-01</td>\n",
       "      <td>극장판 주술회전 0</td>\n",
       "      <td>9.27</td>\n",
       "    </tr>\n",
       "    <tr>\n",
       "      <th>3</th>\n",
       "      <td>2022-04-01</td>\n",
       "      <td>해피 투게더</td>\n",
       "      <td>9.19</td>\n",
       "    </tr>\n",
       "    <tr>\n",
       "      <th>4</th>\n",
       "      <td>2022-04-01</td>\n",
       "      <td>코다</td>\n",
       "      <td>9.16</td>\n",
       "    </tr>\n",
       "  </tbody>\n",
       "</table>\n",
       "</div>"
      ],
      "text/plain": [
       "        date         name point\n",
       "0 2022-04-01         씽2게더  9.41\n",
       "1 2022-04-01  패왕별희 디 오리지널  9.31\n",
       "2 2022-04-01   극장판 주술회전 0  9.27\n",
       "3 2022-04-01       해피 투게더  9.19\n",
       "4 2022-04-01           코다  9.16"
      ]
     },
     "execution_count": 5,
     "metadata": {},
     "output_type": "execute_result"
    }
   ],
   "source": [
    "movie = pd.DataFrame({'date':movie_date, 'name':movie_name, 'point':movie_point})\n",
    "movie.head()"
   ]
  },
  {
   "cell_type": "code",
   "execution_count": 6,
   "metadata": {},
   "outputs": [
    {
     "name": "stdout",
     "output_type": "stream",
     "text": [
      "<class 'pandas.core.frame.DataFrame'>\n",
      "RangeIndex: 3947 entries, 0 to 3946\n",
      "Data columns (total 3 columns):\n",
      " #   Column  Non-Null Count  Dtype         \n",
      "---  ------  --------------  -----         \n",
      " 0   date    3947 non-null   datetime64[ns]\n",
      " 1   name    3947 non-null   object        \n",
      " 2   point   3947 non-null   object        \n",
      "dtypes: datetime64[ns](1), object(2)\n",
      "memory usage: 92.6+ KB\n"
     ]
    }
   ],
   "source": [
    "movie.info()"
   ]
  },
  {
   "cell_type": "code",
   "execution_count": 7,
   "metadata": {},
   "outputs": [],
   "source": [
    "movie['point'] = movie['point'].astype('float')"
   ]
  },
  {
   "cell_type": "code",
   "execution_count": 8,
   "metadata": {},
   "outputs": [
    {
     "name": "stdout",
     "output_type": "stream",
     "text": [
      "<class 'pandas.core.frame.DataFrame'>\n",
      "RangeIndex: 3947 entries, 0 to 3946\n",
      "Data columns (total 3 columns):\n",
      " #   Column  Non-Null Count  Dtype         \n",
      "---  ------  --------------  -----         \n",
      " 0   date    3947 non-null   datetime64[ns]\n",
      " 1   name    3947 non-null   object        \n",
      " 2   point   3947 non-null   float64       \n",
      "dtypes: datetime64[ns](1), float64(1), object(1)\n",
      "memory usage: 92.6+ KB\n"
     ]
    }
   ],
   "source": [
    "movie.info()"
   ]
  },
  {
   "cell_type": "code",
   "execution_count": 9,
   "metadata": {},
   "outputs": [
    {
     "data": {
      "text/html": [
       "<div>\n",
       "<style scoped>\n",
       "    .dataframe tbody tr th:only-of-type {\n",
       "        vertical-align: middle;\n",
       "    }\n",
       "\n",
       "    .dataframe tbody tr th {\n",
       "        vertical-align: top;\n",
       "    }\n",
       "\n",
       "    .dataframe thead th {\n",
       "        text-align: right;\n",
       "    }\n",
       "</style>\n",
       "<table border=\"1\" class=\"dataframe\">\n",
       "  <thead>\n",
       "    <tr style=\"text-align: right;\">\n",
       "      <th></th>\n",
       "      <th>point</th>\n",
       "    </tr>\n",
       "    <tr>\n",
       "      <th>name</th>\n",
       "      <th></th>\n",
       "    </tr>\n",
       "  </thead>\n",
       "  <tbody>\n",
       "    <tr>\n",
       "      <th>극장판 주술회전 0</th>\n",
       "      <td>925.38</td>\n",
       "    </tr>\n",
       "    <tr>\n",
       "      <th>코다</th>\n",
       "      <td>913.57</td>\n",
       "    </tr>\n",
       "    <tr>\n",
       "      <th>드라이브 마이 카</th>\n",
       "      <td>783.20</td>\n",
       "    </tr>\n",
       "    <tr>\n",
       "      <th>중경삼림</th>\n",
       "      <td>720.93</td>\n",
       "    </tr>\n",
       "    <tr>\n",
       "      <th>씽2게더</th>\n",
       "      <td>704.49</td>\n",
       "    </tr>\n",
       "  </tbody>\n",
       "</table>\n",
       "</div>"
      ],
      "text/plain": [
       "             point\n",
       "name              \n",
       "극장판 주술회전 0  925.38\n",
       "코다          913.57\n",
       "드라이브 마이 카   783.20\n",
       "중경삼림        720.93\n",
       "씽2게더        704.49"
      ]
     },
     "execution_count": 9,
     "metadata": {},
     "output_type": "execute_result"
    }
   ],
   "source": [
    "movie_unique = pd.pivot_table(movie, index=['name'], aggfunc=np.sum) #영화별 평점 합산\n",
    "movie_best = movie_unique.sort_values(by='point', ascending=False) # 합산된 평점을 내림차순 정렬\n",
    "movie_best.head()"
   ]
  },
  {
   "cell_type": "code",
   "execution_count": 10,
   "metadata": {},
   "outputs": [
    {
     "data": {
      "text/plain": [
       "0    극장판 주술회전 0\n",
       "1            코다\n",
       "2     드라이브 마이 카\n",
       "3          중경삼림\n",
       "4          씽2게더\n",
       "Name: name, dtype: object"
      ]
     },
     "execution_count": 10,
     "metadata": {},
     "output_type": "execute_result"
    }
   ],
   "source": [
    "movie_best.reset_index()['name'][:5]"
   ]
  },
  {
   "cell_type": "markdown",
   "metadata": {},
   "source": [
    "# 날짜별 평점 변화를 그래프로 그려보세요."
   ]
  },
  {
   "cell_type": "code",
   "execution_count": 43,
   "metadata": {},
   "outputs": [],
   "source": [
    "import matplotlib.pyplot as plt\n",
    "import seaborn as sns\n",
    "# notebook 표기\n",
    "%matplotlib inline\n",
    "\n",
    "import platform\n",
    "\n",
    "# - 깨짐 방지\n",
    "from matplotlib import font_manager, rc\n",
    "plt.rcParams['axes.unicode_minus'] = False\n",
    "\n",
    "# 한글 폰트 깨짐 방지\n",
    "if( platform.system() =='Darwin' ):\n",
    "    rc( 'font', family='AppleGothic' )\n",
    "elif( platform.system() == 'Windows' ):\n",
    "    path='c:/Windows/Fonts/malgun.ttf'\n",
    "    font_name= font_manager.FontProperties( fname=path ).get_name()\n",
    "    rc('font',family=font_name)\n",
    "else: \n",
    "    print('error')"
   ]
  },
  {
   "cell_type": "code",
   "execution_count": 12,
   "metadata": {},
   "outputs": [
    {
     "data": {
      "text/plain": [
       "['극장판 주술회전 0', '코다', '드라이브 마이 카', '중경삼림', '씽2게더']"
      ]
     },
     "execution_count": 12,
     "metadata": {},
     "output_type": "execute_result"
    }
   ],
   "source": [
    "movie_top5_col = [x for x in movie_best.reset_index()['name'][:5]]\n",
    "movie_top5_col"
   ]
  },
  {
   "cell_type": "code",
   "execution_count": 13,
   "metadata": {},
   "outputs": [
    {
     "data": {
      "text/html": [
       "<div>\n",
       "<style scoped>\n",
       "    .dataframe tbody tr th:only-of-type {\n",
       "        vertical-align: middle;\n",
       "    }\n",
       "\n",
       "    .dataframe tbody tr th {\n",
       "        vertical-align: top;\n",
       "    }\n",
       "\n",
       "    .dataframe thead th {\n",
       "        text-align: right;\n",
       "    }\n",
       "</style>\n",
       "<table border=\"1\" class=\"dataframe\">\n",
       "  <thead>\n",
       "    <tr style=\"text-align: right;\">\n",
       "      <th></th>\n",
       "      <th>date</th>\n",
       "      <th>name</th>\n",
       "      <th>point</th>\n",
       "    </tr>\n",
       "  </thead>\n",
       "  <tbody>\n",
       "    <tr>\n",
       "      <th>0</th>\n",
       "      <td>2022-04-01</td>\n",
       "      <td>씽2게더</td>\n",
       "      <td>9.41</td>\n",
       "    </tr>\n",
       "    <tr>\n",
       "      <th>2</th>\n",
       "      <td>2022-04-01</td>\n",
       "      <td>극장판 주술회전 0</td>\n",
       "      <td>9.27</td>\n",
       "    </tr>\n",
       "    <tr>\n",
       "      <th>4</th>\n",
       "      <td>2022-04-01</td>\n",
       "      <td>코다</td>\n",
       "      <td>9.16</td>\n",
       "    </tr>\n",
       "    <tr>\n",
       "      <th>13</th>\n",
       "      <td>2022-04-01</td>\n",
       "      <td>드라이브 마이 카</td>\n",
       "      <td>8.44</td>\n",
       "    </tr>\n",
       "    <tr>\n",
       "      <th>30</th>\n",
       "      <td>2022-04-02</td>\n",
       "      <td>씽2게더</td>\n",
       "      <td>9.41</td>\n",
       "    </tr>\n",
       "    <tr>\n",
       "      <th>...</th>\n",
       "      <td>...</td>\n",
       "      <td>...</td>\n",
       "      <td>...</td>\n",
       "    </tr>\n",
       "    <tr>\n",
       "      <th>3896</th>\n",
       "      <td>2022-07-08</td>\n",
       "      <td>드라이브 마이 카</td>\n",
       "      <td>8.41</td>\n",
       "    </tr>\n",
       "    <tr>\n",
       "      <th>3917</th>\n",
       "      <td>2022-07-09</td>\n",
       "      <td>극장판 주술회전 0</td>\n",
       "      <td>9.24</td>\n",
       "    </tr>\n",
       "    <tr>\n",
       "      <th>3918</th>\n",
       "      <td>2022-07-09</td>\n",
       "      <td>코다</td>\n",
       "      <td>9.12</td>\n",
       "    </tr>\n",
       "    <tr>\n",
       "      <th>3923</th>\n",
       "      <td>2022-07-09</td>\n",
       "      <td>중경삼림</td>\n",
       "      <td>8.90</td>\n",
       "    </tr>\n",
       "    <tr>\n",
       "      <th>3930</th>\n",
       "      <td>2022-07-09</td>\n",
       "      <td>드라이브 마이 카</td>\n",
       "      <td>8.41</td>\n",
       "    </tr>\n",
       "  </tbody>\n",
       "</table>\n",
       "<p>449 rows × 3 columns</p>\n",
       "</div>"
      ],
      "text/plain": [
       "           date        name  point\n",
       "0    2022-04-01        씽2게더   9.41\n",
       "2    2022-04-01  극장판 주술회전 0   9.27\n",
       "4    2022-04-01          코다   9.16\n",
       "13   2022-04-01   드라이브 마이 카   8.44\n",
       "30   2022-04-02        씽2게더   9.41\n",
       "...         ...         ...    ...\n",
       "3896 2022-07-08   드라이브 마이 카   8.41\n",
       "3917 2022-07-09  극장판 주술회전 0   9.24\n",
       "3918 2022-07-09          코다   9.12\n",
       "3923 2022-07-09        중경삼림   8.90\n",
       "3930 2022-07-09   드라이브 마이 카   8.41\n",
       "\n",
       "[449 rows x 3 columns]"
      ]
     },
     "execution_count": 13,
     "metadata": {},
     "output_type": "execute_result"
    }
   ],
   "source": [
    "movie_top5 = movie[movie['name'].str.contains('|'.join(movie_top5_col))]\n",
    "movie_top5"
   ]
  },
  {
   "cell_type": "code",
   "execution_count": 14,
   "metadata": {},
   "outputs": [
    {
     "data": {
      "text/html": [
       "<div>\n",
       "<style scoped>\n",
       "    .dataframe tbody tr th:only-of-type {\n",
       "        vertical-align: middle;\n",
       "    }\n",
       "\n",
       "    .dataframe tbody tr th {\n",
       "        vertical-align: top;\n",
       "    }\n",
       "\n",
       "    .dataframe thead tr th {\n",
       "        text-align: left;\n",
       "    }\n",
       "\n",
       "    .dataframe thead tr:last-of-type th {\n",
       "        text-align: right;\n",
       "    }\n",
       "</style>\n",
       "<table border=\"1\" class=\"dataframe\">\n",
       "  <thead>\n",
       "    <tr>\n",
       "      <th></th>\n",
       "      <th colspan=\"5\" halign=\"left\">point</th>\n",
       "    </tr>\n",
       "    <tr>\n",
       "      <th>name</th>\n",
       "      <th>극장판 주술회전 0</th>\n",
       "      <th>드라이브 마이 카</th>\n",
       "      <th>씽2게더</th>\n",
       "      <th>중경삼림</th>\n",
       "      <th>코다</th>\n",
       "    </tr>\n",
       "    <tr>\n",
       "      <th>date</th>\n",
       "      <th></th>\n",
       "      <th></th>\n",
       "      <th></th>\n",
       "      <th></th>\n",
       "      <th></th>\n",
       "    </tr>\n",
       "  </thead>\n",
       "  <tbody>\n",
       "    <tr>\n",
       "      <th>2022-04-01</th>\n",
       "      <td>9.27</td>\n",
       "      <td>8.44</td>\n",
       "      <td>9.41</td>\n",
       "      <td>NaN</td>\n",
       "      <td>9.16</td>\n",
       "    </tr>\n",
       "    <tr>\n",
       "      <th>2022-04-02</th>\n",
       "      <td>9.27</td>\n",
       "      <td>8.44</td>\n",
       "      <td>9.41</td>\n",
       "      <td>NaN</td>\n",
       "      <td>9.15</td>\n",
       "    </tr>\n",
       "    <tr>\n",
       "      <th>2022-04-03</th>\n",
       "      <td>9.27</td>\n",
       "      <td>8.44</td>\n",
       "      <td>9.41</td>\n",
       "      <td>NaN</td>\n",
       "      <td>9.15</td>\n",
       "    </tr>\n",
       "    <tr>\n",
       "      <th>2022-04-04</th>\n",
       "      <td>9.26</td>\n",
       "      <td>8.43</td>\n",
       "      <td>9.41</td>\n",
       "      <td>NaN</td>\n",
       "      <td>9.15</td>\n",
       "    </tr>\n",
       "    <tr>\n",
       "      <th>2022-04-05</th>\n",
       "      <td>9.25</td>\n",
       "      <td>8.44</td>\n",
       "      <td>9.41</td>\n",
       "      <td>NaN</td>\n",
       "      <td>9.15</td>\n",
       "    </tr>\n",
       "    <tr>\n",
       "      <th>...</th>\n",
       "      <td>...</td>\n",
       "      <td>...</td>\n",
       "      <td>...</td>\n",
       "      <td>...</td>\n",
       "      <td>...</td>\n",
       "    </tr>\n",
       "    <tr>\n",
       "      <th>2022-07-05</th>\n",
       "      <td>9.24</td>\n",
       "      <td>8.40</td>\n",
       "      <td>NaN</td>\n",
       "      <td>8.9</td>\n",
       "      <td>9.13</td>\n",
       "    </tr>\n",
       "    <tr>\n",
       "      <th>2022-07-06</th>\n",
       "      <td>9.24</td>\n",
       "      <td>8.40</td>\n",
       "      <td>NaN</td>\n",
       "      <td>8.9</td>\n",
       "      <td>9.13</td>\n",
       "    </tr>\n",
       "    <tr>\n",
       "      <th>2022-07-07</th>\n",
       "      <td>9.25</td>\n",
       "      <td>8.40</td>\n",
       "      <td>NaN</td>\n",
       "      <td>8.9</td>\n",
       "      <td>9.13</td>\n",
       "    </tr>\n",
       "    <tr>\n",
       "      <th>2022-07-08</th>\n",
       "      <td>9.25</td>\n",
       "      <td>8.41</td>\n",
       "      <td>NaN</td>\n",
       "      <td>8.9</td>\n",
       "      <td>9.12</td>\n",
       "    </tr>\n",
       "    <tr>\n",
       "      <th>2022-07-09</th>\n",
       "      <td>9.24</td>\n",
       "      <td>8.41</td>\n",
       "      <td>NaN</td>\n",
       "      <td>8.9</td>\n",
       "      <td>9.12</td>\n",
       "    </tr>\n",
       "  </tbody>\n",
       "</table>\n",
       "<p>100 rows × 5 columns</p>\n",
       "</div>"
      ],
      "text/plain": [
       "                point                           \n",
       "name       극장판 주술회전 0 드라이브 마이 카  씽2게더 중경삼림    코다\n",
       "date                                            \n",
       "2022-04-01       9.27      8.44  9.41  NaN  9.16\n",
       "2022-04-02       9.27      8.44  9.41  NaN  9.15\n",
       "2022-04-03       9.27      8.44  9.41  NaN  9.15\n",
       "2022-04-04       9.26      8.43  9.41  NaN  9.15\n",
       "2022-04-05       9.25      8.44  9.41  NaN  9.15\n",
       "...               ...       ...   ...  ...   ...\n",
       "2022-07-05       9.24      8.40   NaN  8.9  9.13\n",
       "2022-07-06       9.24      8.40   NaN  8.9  9.13\n",
       "2022-07-07       9.25      8.40   NaN  8.9  9.13\n",
       "2022-07-08       9.25      8.41   NaN  8.9  9.12\n",
       "2022-07-09       9.24      8.41   NaN  8.9  9.12\n",
       "\n",
       "[100 rows x 5 columns]"
      ]
     },
     "execution_count": 14,
     "metadata": {},
     "output_type": "execute_result"
    }
   ],
   "source": [
    "movie_top5_pivot = pd.pivot_table(movie_top5, index=['date'], columns=['name'], values=['point'])\n",
    "movie_top5_pivot"
   ]
  },
  {
   "cell_type": "code",
   "execution_count": 15,
   "metadata": {},
   "outputs": [
    {
     "data": {
      "image/png": "[encoded data removed]",
      "text/plain": [
       "<Figure size 864x432 with 1 Axes>"
      ]
     },
     "metadata": {
      "needs_background": "light"
     },
     "output_type": "display_data"
    }
   ],
   "source": [
    "plt.figure(figsize=(12,6))\n",
    "plt.plot(movie_top5_pivot)\n",
    "plt.legend(movie_top5_col)\n",
    "plt.grid()\n",
    "plt.show()"
   ]
  },
  {
   "cell_type": "markdown",
   "metadata": {},
   "source": [
    "## 2차 테스트"
   ]
  },
  {
   "cell_type": "code",
   "execution_count": 25,
   "metadata": {},
   "outputs": [
    {
     "data": {
      "text/html": [
       "<div>\n",
       "<style scoped>\n",
       "    .dataframe tbody tr th:only-of-type {\n",
       "        vertical-align: middle;\n",
       "    }\n",
       "\n",
       "    .dataframe tbody tr th {\n",
       "        vertical-align: top;\n",
       "    }\n",
       "\n",
       "    .dataframe thead th {\n",
       "        text-align: right;\n",
       "    }\n",
       "</style>\n",
       "<table border=\"1\" class=\"dataframe\">\n",
       "  <thead>\n",
       "    <tr style=\"text-align: right;\">\n",
       "      <th></th>\n",
       "      <th>date</th>\n",
       "      <th>name</th>\n",
       "      <th>point</th>\n",
       "    </tr>\n",
       "  </thead>\n",
       "  <tbody>\n",
       "    <tr>\n",
       "      <th>0</th>\n",
       "      <td>2022-04-01</td>\n",
       "      <td>씽2게더</td>\n",
       "      <td>9.41</td>\n",
       "    </tr>\n",
       "    <tr>\n",
       "      <th>2</th>\n",
       "      <td>2022-04-01</td>\n",
       "      <td>극장판 주술회전 0</td>\n",
       "      <td>9.27</td>\n",
       "    </tr>\n",
       "    <tr>\n",
       "      <th>4</th>\n",
       "      <td>2022-04-01</td>\n",
       "      <td>코다</td>\n",
       "      <td>9.16</td>\n",
       "    </tr>\n",
       "    <tr>\n",
       "      <th>13</th>\n",
       "      <td>2022-04-01</td>\n",
       "      <td>드라이브 마이 카</td>\n",
       "      <td>8.44</td>\n",
       "    </tr>\n",
       "    <tr>\n",
       "      <th>30</th>\n",
       "      <td>2022-04-02</td>\n",
       "      <td>씽2게더</td>\n",
       "      <td>9.41</td>\n",
       "    </tr>\n",
       "  </tbody>\n",
       "</table>\n",
       "</div>"
      ],
      "text/plain": [
       "         date        name  point\n",
       "0  2022-04-01        씽2게더   9.41\n",
       "2  2022-04-01  극장판 주술회전 0   9.27\n",
       "4  2022-04-01          코다   9.16\n",
       "13 2022-04-01   드라이브 마이 카   8.44\n",
       "30 2022-04-02        씽2게더   9.41"
      ]
     },
     "execution_count": 25,
     "metadata": {},
     "output_type": "execute_result"
    }
   ],
   "source": [
    "movie_temp = movie[movie['name'].str.contains('|'.join(movie_top5_col))]\n",
    "movie_temp.head()"
   ]
  },
  {
   "cell_type": "code",
   "execution_count": 44,
   "metadata": {},
   "outputs": [
    {
     "data": {
      "image/png": "[encoded data removed]",
      "text/plain": [
       "<Figure size 864x576 with 1 Axes>"
      ]
     },
     "metadata": {
      "needs_background": "light"
     },
     "output_type": "display_data"
    }
   ],
   "source": [
    "plt.figure(figsize=(12,8))\n",
    "\n",
    "for x in movie_top5_col:\n",
    "    tmp = movie_temp[movie_temp['name']==x]\n",
    "    plt.plot(tmp['date'], tmp['point'])\n",
    "    \n",
    "plt.title('테스트')\n",
    "plt.xlabel('날짜')\n",
    "plt.ylabel('평점')\n",
    "plt.legend(movie_top5_col)\n",
    "plt.grid()\n",
    "plt.show()"
   ]
  }
 ],
 "metadata": {
  "kernelspec": {
   "display_name": "Python 3.7.13 ('sesac')",
   "language": "python",
   "name": "python3"
  },
  "language_info": {
   "codemirror_mode": {
    "name": "ipython",
    "version": 3
   },
   "file_extension": ".py",
   "mimetype": "text/x-python",
   "name": "python",
   "nbconvert_exporter": "python",
   "pygments_lexer": "ipython3",
   "version": "3.7.13"
  },
  "orig_nbformat": 4,
  "vscode": {
   "interpreter": {
    "hash": "10c5266451461070ab9a582399e8bb66b03430da1ac04dd839d1878132a9a125"
   }
  }
 },
 "nbformat": 4,
 "nbformat_minor": 2
}
