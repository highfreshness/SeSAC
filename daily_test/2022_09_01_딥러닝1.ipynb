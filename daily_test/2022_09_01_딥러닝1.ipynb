{
  "nbformat": 4,
  "nbformat_minor": 0,
  "metadata": {
    "colab": {
      "private_outputs": true,
      "provenance": []
    },
    "kernelspec": {
      "name": "python3",
      "display_name": "Python 3"
    },
    "language_info": {
      "name": "python"
    },
    "accelerator": "GPU",
    "gpuClass": "standard"
  },
  "cells": [
    {
      "cell_type": "code",
      "execution_count": null,
      "metadata": {
        "id": "Selm19bk5Dm4"
      },
      "outputs": [],
      "source": [
        "import pandas as pd\n",
        "from google.colab import files\n",
        "\n",
        "uploaded = files.upload()\n"
      ]
    },
    {
      "cell_type": "code",
      "source": [
        "# 광물 데이터를 불러옵니다.\n",
        "df = pd.read_csv(\"bmi.csv\", encoding='utf-8-sig')\n",
        "\n",
        "# 첫 5줄을 봅니다. \n",
        "df.head()"
      ],
      "metadata": {
        "id": "PKC2iq6h58J3"
      },
      "execution_count": null,
      "outputs": []
    },
    {
      "cell_type": "code",
      "source": [
        "df.label.value_counts()"
      ],
      "metadata": {
        "id": "vLYdybZz6rMg"
      },
      "execution_count": null,
      "outputs": []
    },
    {
      "cell_type": "code",
      "source": [
        "# 음파 관련 속성을 X로, 광물의 종류를 y로 저장합니다.\n",
        "X = df.iloc[:,0:2]\n",
        "y = df.iloc[:,2]"
      ],
      "metadata": {
        "id": "2GrnkFG-5bnL"
      },
      "execution_count": null,
      "outputs": []
    },
    {
      "cell_type": "code",
      "source": [
        "y = pd.get_dummies(y)"
      ],
      "metadata": {
        "id": "Io_XvGPE7k0H"
      },
      "execution_count": null,
      "outputs": []
    },
    {
      "cell_type": "code",
      "source": [
        "from tensorflow.keras.models import Sequential\n",
        "from tensorflow.keras.layers import Dense\n",
        "from sklearn.model_selection import train_test_split\n",
        "from sklearn.metrics import accuracy_score\n",
        "\n",
        "# 학습셋과 테스트셋을 구분합니다.\n",
        "X_train, X_test, y_train, y_test = train_test_split(X, y, test_size=0.3, shuffle=True)\n",
        "\n",
        "# 모델을 설정합니다.\n",
        "model = Sequential()\n",
        "model.add(Dense(24,  input_dim=2, activation='relu'))\n",
        "model.add(Dense(10, activation='relu'))\n",
        "model.add(Dense(3, activation='softmax'))\n",
        "\n",
        "# 모델을 컴파일합니다.\n",
        "model.compile(loss='categorical_crossentropy', optimizer='adam', metrics=['accuracy'])\n",
        "\n",
        "# 모델을 실행합니다.\n",
        "history=model.fit(X_train, y_train, epochs=200, batch_size=128)"
      ],
      "metadata": {
        "id": "eUw50D2o5dmj"
      },
      "execution_count": null,
      "outputs": []
    },
    {
      "cell_type": "code",
      "source": [
        "model.evaluate(X_test, y_test)"
      ],
      "metadata": {
        "id": "DJ63StJR7xhv"
      },
      "execution_count": null,
      "outputs": []
    },
    {
      "cell_type": "code",
      "source": [
        "accuracy = model.evaluate(X_test, y_test)[1]  # 정확도를 구합니다."
      ],
      "metadata": {
        "id": "VAG6xjCW7Yo6"
      },
      "execution_count": null,
      "outputs": []
    },
    {
      "cell_type": "code",
      "source": [
        "human1 = [178, 57]\n",
        "human2 = [173, 68]"
      ],
      "metadata": {
        "id": "V3FyGRIO8D27"
      },
      "execution_count": null,
      "outputs": []
    },
    {
      "cell_type": "code",
      "source": [
        "model.predict([human1]) # thin"
      ],
      "metadata": {
        "id": "kboU08im8JEk"
      },
      "execution_count": null,
      "outputs": []
    },
    {
      "cell_type": "code",
      "source": [
        "model.predict([human2]) # normal"
      ],
      "metadata": {
        "id": "d5d-M9Ss8PmL"
      },
      "execution_count": null,
      "outputs": []
    },
    {
      "cell_type": "code",
      "source": [
        "y[:5]"
      ],
      "metadata": {
        "id": "GquuFgHW8jF9"
      },
      "execution_count": null,
      "outputs": []
    },
    {
      "cell_type": "code",
      "source": [],
      "metadata": {
        "id": "vUD6d-Gn8lkR"
      },
      "execution_count": null,
      "outputs": []
    }
  ]
}