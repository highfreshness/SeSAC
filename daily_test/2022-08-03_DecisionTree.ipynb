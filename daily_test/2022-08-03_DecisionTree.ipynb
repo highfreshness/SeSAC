{
 "cells": [
  {
   "cell_type": "markdown",
   "metadata": {},
   "source": [
    "## iris 데이터를 로드하고 DecisionTree 모델로 시각화 해보기"
   ]
  },
  {
   "cell_type": "code",
   "execution_count": 11,
   "metadata": {},
   "outputs": [],
   "source": [
    "from sklearn.datasets import load_iris\n",
    "from sklearn.tree import DecisionTreeClassifier\n",
    "from sklearn.model_selection import train_test_split\n",
    "import pandas as pd"
   ]
  },
  {
   "cell_type": "code",
   "execution_count": 5,
   "metadata": {},
   "outputs": [
    {
     "data": {
      "text/plain": [
       "dict_keys(['data', 'target', 'frame', 'target_names', 'DESCR', 'feature_names', 'filename', 'data_module'])"
      ]
     },
     "execution_count": 5,
     "metadata": {},
     "output_type": "execute_result"
    }
   ],
   "source": [
    "iris_dataset = load_iris()\n",
    "iris_dataset.keys()"
   ]
  },
  {
   "cell_type": "code",
   "execution_count": 14,
   "metadata": {},
   "outputs": [
    {
     "data": {
      "text/plain": [
       "array(['setosa', 'versicolor', 'virginica'], dtype='<U10')"
      ]
     },
     "execution_count": 14,
     "metadata": {},
     "output_type": "execute_result"
    }
   ],
   "source": [
    "iris_dataset.target_names"
   ]
  },
  {
   "cell_type": "code",
   "execution_count": 10,
   "metadata": {},
   "outputs": [
    {
     "data": {
      "text/html": [
       "<div>\n",
       "<style scoped>\n",
       "    .dataframe tbody tr th:only-of-type {\n",
       "        vertical-align: middle;\n",
       "    }\n",
       "\n",
       "    .dataframe tbody tr th {\n",
       "        vertical-align: top;\n",
       "    }\n",
       "\n",
       "    .dataframe thead th {\n",
       "        text-align: right;\n",
       "    }\n",
       "</style>\n",
       "<table border=\"1\" class=\"dataframe\">\n",
       "  <thead>\n",
       "    <tr style=\"text-align: right;\">\n",
       "      <th></th>\n",
       "      <th>sepal length (cm)</th>\n",
       "      <th>sepal width (cm)</th>\n",
       "      <th>petal length (cm)</th>\n",
       "      <th>petal width (cm)</th>\n",
       "    </tr>\n",
       "  </thead>\n",
       "  <tbody>\n",
       "    <tr>\n",
       "      <th>0</th>\n",
       "      <td>5.1</td>\n",
       "      <td>3.5</td>\n",
       "      <td>1.4</td>\n",
       "      <td>0.2</td>\n",
       "    </tr>\n",
       "    <tr>\n",
       "      <th>1</th>\n",
       "      <td>4.9</td>\n",
       "      <td>3.0</td>\n",
       "      <td>1.4</td>\n",
       "      <td>0.2</td>\n",
       "    </tr>\n",
       "    <tr>\n",
       "      <th>2</th>\n",
       "      <td>4.7</td>\n",
       "      <td>3.2</td>\n",
       "      <td>1.3</td>\n",
       "      <td>0.2</td>\n",
       "    </tr>\n",
       "    <tr>\n",
       "      <th>3</th>\n",
       "      <td>4.6</td>\n",
       "      <td>3.1</td>\n",
       "      <td>1.5</td>\n",
       "      <td>0.2</td>\n",
       "    </tr>\n",
       "    <tr>\n",
       "      <th>4</th>\n",
       "      <td>5.0</td>\n",
       "      <td>3.6</td>\n",
       "      <td>1.4</td>\n",
       "      <td>0.2</td>\n",
       "    </tr>\n",
       "  </tbody>\n",
       "</table>\n",
       "</div>"
      ],
      "text/plain": [
       "   sepal length (cm)  sepal width (cm)  petal length (cm)  petal width (cm)\n",
       "0                5.1               3.5                1.4               0.2\n",
       "1                4.9               3.0                1.4               0.2\n",
       "2                4.7               3.2                1.3               0.2\n",
       "3                4.6               3.1                1.5               0.2\n",
       "4                5.0               3.6                1.4               0.2"
      ]
     },
     "execution_count": 10,
     "metadata": {},
     "output_type": "execute_result"
    }
   ],
   "source": [
    "iris_df = pd.DataFrame(iris_dataset.data, columns=iris_dataset.feature_names)\n",
    "iris_df.head()"
   ]
  },
  {
   "cell_type": "code",
   "execution_count": 12,
   "metadata": {},
   "outputs": [],
   "source": [
    "X_train, X_test, y_train, y_test = train_test_split(iris_df, iris_dataset.target, test_size=0.2)"
   ]
  },
  {
   "cell_type": "code",
   "execution_count": 13,
   "metadata": {},
   "outputs": [
    {
     "name": "stdout",
     "output_type": "stream",
     "text": [
      "(120, 4)\n",
      "(30, 4)\n",
      "(120,)\n",
      "(30,)\n"
     ]
    }
   ],
   "source": [
    "print(X_train.shape)\n",
    "print(X_test.shape)\n",
    "print(y_train.shape)\n",
    "print(y_test.shape)"
   ]
  },
  {
   "cell_type": "code",
   "execution_count": 59,
   "metadata": {},
   "outputs": [
    {
     "name": "stdout",
     "output_type": "stream",
     "text": [
      " Model [basic_tree] Train set 정확도 : 1.00\n",
      " Model [basic_tree] Test set 정확도 : 1.00\n"
     ]
    },
    {
     "data": {
      "image/svg+xml": "<?xml version=\"1.0\" encoding=\"UTF-8\" standalone=\"no\"?>\r\n<!DOCTYPE svg PUBLIC \"-//W3C//DTD SVG 1.1//EN\"\r\n \"http://www.w3.org/Graphics/SVG/1.1/DTD/svg11.dtd\">\r\n<!-- Generated by graphviz version 2.50.0 (0)\r\n -->\r\n<!-- Title: Tree Pages: 1 -->\r\n<svg width=\"867pt\" height=\"581pt\"\r\n viewBox=\"0.00 0.00 867.00 581.00\" xmlns=\"http://www.w3.org/2000/svg\" xmlns:xlink=\"http://www.w3.org/1999/xlink\">\r\n<g id=\"graph0\" class=\"graph\" transform=\"scale(1 1) rotate(0) translate(4 577)\">\r\n<title>Tree</title>\r\n<polygon fill=\"white\" stroke=\"transparent\" points=\"-4,4 -4,-577 863,-577 863,4 -4,4\"/>\r\n<!-- 0 -->\r\n<g id=\"node1\" class=\"node\">\r\n<title>0</title>\r\n<polygon fill=\"#faf8fe\" stroke=\"black\" points=\"535.5,-573 367.5,-573 367.5,-505 535.5,-505 535.5,-573\"/>\r\n<text text-anchor=\"middle\" x=\"451.5\" y=\"-557.8\" font-family=\"Helvetica,sans-Serif\" font-size=\"14.00\">petal length (cm) &lt;= 2.45</text>\r\n<text text-anchor=\"middle\" x=\"451.5\" y=\"-542.8\" font-family=\"Helvetica,sans-Serif\" font-size=\"14.00\">samples = 120</text>\r\n<text text-anchor=\"middle\" x=\"451.5\" y=\"-527.8\" font-family=\"Helvetica,sans-Serif\" font-size=\"14.00\">value = [40, 37, 43]</text>\r\n<text text-anchor=\"middle\" x=\"451.5\" y=\"-512.8\" font-family=\"Helvetica,sans-Serif\" font-size=\"14.00\">class = virginica</text>\r\n</g>\r\n<!-- 1 -->\r\n<g id=\"node2\" class=\"node\">\r\n<title>1</title>\r\n<polygon fill=\"#e58139\" stroke=\"black\" points=\"431,-461.5 314,-461.5 314,-408.5 431,-408.5 431,-461.5\"/>\r\n<text text-anchor=\"middle\" x=\"372.5\" y=\"-446.3\" font-family=\"Helvetica,sans-Serif\" font-size=\"14.00\">samples = 40</text>\r\n<text text-anchor=\"middle\" x=\"372.5\" y=\"-431.3\" font-family=\"Helvetica,sans-Serif\" font-size=\"14.00\">value = [40, 0, 0]</text>\r\n<text text-anchor=\"middle\" x=\"372.5\" y=\"-416.3\" font-family=\"Helvetica,sans-Serif\" font-size=\"14.00\">class = setosa</text>\r\n</g>\r\n<!-- 0&#45;&gt;1 -->\r\n<g id=\"edge1\" class=\"edge\">\r\n<title>0&#45;&gt;1</title>\r\n<path fill=\"none\" stroke=\"black\" d=\"M425.85,-504.88C417.08,-493.56 407.26,-480.88 398.46,-469.52\"/>\r\n<polygon fill=\"black\" stroke=\"black\" points=\"401.16,-467.28 392.27,-461.52 395.62,-471.57 401.16,-467.28\"/>\r\n<text text-anchor=\"middle\" x=\"389.11\" y=\"-482.62\" font-family=\"Helvetica,sans-Serif\" font-size=\"14.00\">True</text>\r\n</g>\r\n<!-- 2 -->\r\n<g id=\"node3\" class=\"node\">\r\n<title>2</title>\r\n<polygon fill=\"#ede3fb\" stroke=\"black\" points=\"612,-469 449,-469 449,-401 612,-401 612,-469\"/>\r\n<text text-anchor=\"middle\" x=\"530.5\" y=\"-453.8\" font-family=\"Helvetica,sans-Serif\" font-size=\"14.00\">petal width (cm) &lt;= 1.75</text>\r\n<text text-anchor=\"middle\" x=\"530.5\" y=\"-438.8\" font-family=\"Helvetica,sans-Serif\" font-size=\"14.00\">samples = 80</text>\r\n<text text-anchor=\"middle\" x=\"530.5\" y=\"-423.8\" font-family=\"Helvetica,sans-Serif\" font-size=\"14.00\">value = [0, 37, 43]</text>\r\n<text text-anchor=\"middle\" x=\"530.5\" y=\"-408.8\" font-family=\"Helvetica,sans-Serif\" font-size=\"14.00\">class = virginica</text>\r\n</g>\r\n<!-- 0&#45;&gt;2 -->\r\n<g id=\"edge2\" class=\"edge\">\r\n<title>0&#45;&gt;2</title>\r\n<path fill=\"none\" stroke=\"black\" d=\"M477.15,-504.88C483.98,-496.07 491.44,-486.43 498.56,-477.24\"/>\r\n<polygon fill=\"black\" stroke=\"black\" points=\"501.35,-479.35 504.71,-469.3 495.82,-475.06 501.35,-479.35\"/>\r\n<text text-anchor=\"middle\" x=\"507.86\" y=\"-490.4\" font-family=\"Helvetica,sans-Serif\" font-size=\"14.00\">False</text>\r\n</g>\r\n<!-- 3 -->\r\n<g id=\"node4\" class=\"node\">\r\n<title>3</title>\r\n<polygon fill=\"#54e992\" stroke=\"black\" points=\"501.5,-365 333.5,-365 333.5,-297 501.5,-297 501.5,-365\"/>\r\n<text text-anchor=\"middle\" x=\"417.5\" y=\"-349.8\" font-family=\"Helvetica,sans-Serif\" font-size=\"14.00\">petal length (cm) &lt;= 4.95</text>\r\n<text text-anchor=\"middle\" x=\"417.5\" y=\"-334.8\" font-family=\"Helvetica,sans-Serif\" font-size=\"14.00\">samples = 41</text>\r\n<text text-anchor=\"middle\" x=\"417.5\" y=\"-319.8\" font-family=\"Helvetica,sans-Serif\" font-size=\"14.00\">value = [0, 36, 5]</text>\r\n<text text-anchor=\"middle\" x=\"417.5\" y=\"-304.8\" font-family=\"Helvetica,sans-Serif\" font-size=\"14.00\">class = versicolor</text>\r\n</g>\r\n<!-- 2&#45;&gt;3 -->\r\n<g id=\"edge3\" class=\"edge\">\r\n<title>2&#45;&gt;3</title>\r\n<path fill=\"none\" stroke=\"black\" d=\"M493.81,-400.88C483.65,-391.71 472.5,-381.65 461.95,-372.12\"/>\r\n<polygon fill=\"black\" stroke=\"black\" points=\"464.16,-369.4 454.39,-365.3 459.47,-374.6 464.16,-369.4\"/>\r\n</g>\r\n<!-- 12 -->\r\n<g id=\"node13\" class=\"node\">\r\n<title>12</title>\r\n<polygon fill=\"#843ee6\" stroke=\"black\" points=\"728.5,-365 560.5,-365 560.5,-297 728.5,-297 728.5,-365\"/>\r\n<text text-anchor=\"middle\" x=\"644.5\" y=\"-349.8\" font-family=\"Helvetica,sans-Serif\" font-size=\"14.00\">petal length (cm) &lt;= 4.85</text>\r\n<text text-anchor=\"middle\" x=\"644.5\" y=\"-334.8\" font-family=\"Helvetica,sans-Serif\" font-size=\"14.00\">samples = 39</text>\r\n<text text-anchor=\"middle\" x=\"644.5\" y=\"-319.8\" font-family=\"Helvetica,sans-Serif\" font-size=\"14.00\">value = [0, 1, 38]</text>\r\n<text text-anchor=\"middle\" x=\"644.5\" y=\"-304.8\" font-family=\"Helvetica,sans-Serif\" font-size=\"14.00\">class = virginica</text>\r\n</g>\r\n<!-- 2&#45;&gt;12 -->\r\n<g id=\"edge12\" class=\"edge\">\r\n<title>2&#45;&gt;12</title>\r\n<path fill=\"none\" stroke=\"black\" d=\"M567.51,-400.88C577.77,-391.71 589.01,-381.65 599.66,-372.12\"/>\r\n<polygon fill=\"black\" stroke=\"black\" points=\"602.16,-374.58 607.28,-365.3 597.5,-369.36 602.16,-374.58\"/>\r\n</g>\r\n<!-- 4 -->\r\n<g id=\"node5\" class=\"node\">\r\n<title>4</title>\r\n<polygon fill=\"#3fe685\" stroke=\"black\" points=\"277,-261 114,-261 114,-193 277,-193 277,-261\"/>\r\n<text text-anchor=\"middle\" x=\"195.5\" y=\"-245.8\" font-family=\"Helvetica,sans-Serif\" font-size=\"14.00\">petal width (cm) &lt;= 1.65</text>\r\n<text text-anchor=\"middle\" x=\"195.5\" y=\"-230.8\" font-family=\"Helvetica,sans-Serif\" font-size=\"14.00\">samples = 35</text>\r\n<text text-anchor=\"middle\" x=\"195.5\" y=\"-215.8\" font-family=\"Helvetica,sans-Serif\" font-size=\"14.00\">value = [0, 34, 1]</text>\r\n<text text-anchor=\"middle\" x=\"195.5\" y=\"-200.8\" font-family=\"Helvetica,sans-Serif\" font-size=\"14.00\">class = versicolor</text>\r\n</g>\r\n<!-- 3&#45;&gt;4 -->\r\n<g id=\"edge4\" class=\"edge\">\r\n<title>3&#45;&gt;4</title>\r\n<path fill=\"none\" stroke=\"black\" d=\"M345.42,-296.88C323.5,-286.81 299.26,-275.67 276.78,-265.34\"/>\r\n<polygon fill=\"black\" stroke=\"black\" points=\"278.14,-262.12 267.6,-261.12 275.22,-268.48 278.14,-262.12\"/>\r\n</g>\r\n<!-- 7 -->\r\n<g id=\"node8\" class=\"node\">\r\n<title>7</title>\r\n<polygon fill=\"#c09cf2\" stroke=\"black\" points=\"499,-261 336,-261 336,-193 499,-193 499,-261\"/>\r\n<text text-anchor=\"middle\" x=\"417.5\" y=\"-245.8\" font-family=\"Helvetica,sans-Serif\" font-size=\"14.00\">petal width (cm) &lt;= 1.55</text>\r\n<text text-anchor=\"middle\" x=\"417.5\" y=\"-230.8\" font-family=\"Helvetica,sans-Serif\" font-size=\"14.00\">samples = 6</text>\r\n<text text-anchor=\"middle\" x=\"417.5\" y=\"-215.8\" font-family=\"Helvetica,sans-Serif\" font-size=\"14.00\">value = [0, 2, 4]</text>\r\n<text text-anchor=\"middle\" x=\"417.5\" y=\"-200.8\" font-family=\"Helvetica,sans-Serif\" font-size=\"14.00\">class = virginica</text>\r\n</g>\r\n<!-- 3&#45;&gt;7 -->\r\n<g id=\"edge7\" class=\"edge\">\r\n<title>3&#45;&gt;7</title>\r\n<path fill=\"none\" stroke=\"black\" d=\"M417.5,-296.88C417.5,-288.78 417.5,-279.98 417.5,-271.47\"/>\r\n<polygon fill=\"black\" stroke=\"black\" points=\"421,-271.3 417.5,-261.3 414,-271.3 421,-271.3\"/>\r\n</g>\r\n<!-- 5 -->\r\n<g id=\"node6\" class=\"node\">\r\n<title>5</title>\r\n<polygon fill=\"#39e581\" stroke=\"black\" points=\"121,-149.5 0,-149.5 0,-96.5 121,-96.5 121,-149.5\"/>\r\n<text text-anchor=\"middle\" x=\"60.5\" y=\"-134.3\" font-family=\"Helvetica,sans-Serif\" font-size=\"14.00\">samples = 34</text>\r\n<text text-anchor=\"middle\" x=\"60.5\" y=\"-119.3\" font-family=\"Helvetica,sans-Serif\" font-size=\"14.00\">value = [0, 34, 0]</text>\r\n<text text-anchor=\"middle\" x=\"60.5\" y=\"-104.3\" font-family=\"Helvetica,sans-Serif\" font-size=\"14.00\">class = versicolor</text>\r\n</g>\r\n<!-- 4&#45;&gt;5 -->\r\n<g id=\"edge5\" class=\"edge\">\r\n<title>4&#45;&gt;5</title>\r\n<path fill=\"none\" stroke=\"black\" d=\"M151.67,-192.88C135.8,-180.9 117.94,-167.4 102.26,-155.55\"/>\r\n<polygon fill=\"black\" stroke=\"black\" points=\"104.37,-152.76 94.28,-149.52 100.15,-158.34 104.37,-152.76\"/>\r\n</g>\r\n<!-- 6 -->\r\n<g id=\"node7\" class=\"node\">\r\n<title>6</title>\r\n<polygon fill=\"#8139e5\" stroke=\"black\" points=\"252,-149.5 139,-149.5 139,-96.5 252,-96.5 252,-149.5\"/>\r\n<text text-anchor=\"middle\" x=\"195.5\" y=\"-134.3\" font-family=\"Helvetica,sans-Serif\" font-size=\"14.00\">samples = 1</text>\r\n<text text-anchor=\"middle\" x=\"195.5\" y=\"-119.3\" font-family=\"Helvetica,sans-Serif\" font-size=\"14.00\">value = [0, 0, 1]</text>\r\n<text text-anchor=\"middle\" x=\"195.5\" y=\"-104.3\" font-family=\"Helvetica,sans-Serif\" font-size=\"14.00\">class = virginica</text>\r\n</g>\r\n<!-- 4&#45;&gt;6 -->\r\n<g id=\"edge6\" class=\"edge\">\r\n<title>4&#45;&gt;6</title>\r\n<path fill=\"none\" stroke=\"black\" d=\"M195.5,-192.88C195.5,-182.33 195.5,-170.6 195.5,-159.85\"/>\r\n<polygon fill=\"black\" stroke=\"black\" points=\"199,-159.52 195.5,-149.52 192,-159.52 199,-159.52\"/>\r\n</g>\r\n<!-- 8 -->\r\n<g id=\"node9\" class=\"node\">\r\n<title>8</title>\r\n<polygon fill=\"#8139e5\" stroke=\"black\" points=\"383,-149.5 270,-149.5 270,-96.5 383,-96.5 383,-149.5\"/>\r\n<text text-anchor=\"middle\" x=\"326.5\" y=\"-134.3\" font-family=\"Helvetica,sans-Serif\" font-size=\"14.00\">samples = 3</text>\r\n<text text-anchor=\"middle\" x=\"326.5\" y=\"-119.3\" font-family=\"Helvetica,sans-Serif\" font-size=\"14.00\">value = [0, 0, 3]</text>\r\n<text text-anchor=\"middle\" x=\"326.5\" y=\"-104.3\" font-family=\"Helvetica,sans-Serif\" font-size=\"14.00\">class = virginica</text>\r\n</g>\r\n<!-- 7&#45;&gt;8 -->\r\n<g id=\"edge8\" class=\"edge\">\r\n<title>7&#45;&gt;8</title>\r\n<path fill=\"none\" stroke=\"black\" d=\"M387.95,-192.88C377.75,-181.45 366.32,-168.63 356.11,-157.19\"/>\r\n<polygon fill=\"black\" stroke=\"black\" points=\"358.54,-154.65 349.27,-149.52 353.31,-159.31 358.54,-154.65\"/>\r\n</g>\r\n<!-- 9 -->\r\n<g id=\"node10\" class=\"node\">\r\n<title>9</title>\r\n<polygon fill=\"#9cf2c0\" stroke=\"black\" points=\"569.5,-157 401.5,-157 401.5,-89 569.5,-89 569.5,-157\"/>\r\n<text text-anchor=\"middle\" x=\"485.5\" y=\"-141.8\" font-family=\"Helvetica,sans-Serif\" font-size=\"14.00\">petal length (cm) &lt;= 5.45</text>\r\n<text text-anchor=\"middle\" x=\"485.5\" y=\"-126.8\" font-family=\"Helvetica,sans-Serif\" font-size=\"14.00\">samples = 3</text>\r\n<text text-anchor=\"middle\" x=\"485.5\" y=\"-111.8\" font-family=\"Helvetica,sans-Serif\" font-size=\"14.00\">value = [0, 2, 1]</text>\r\n<text text-anchor=\"middle\" x=\"485.5\" y=\"-96.8\" font-family=\"Helvetica,sans-Serif\" font-size=\"14.00\">class = versicolor</text>\r\n</g>\r\n<!-- 7&#45;&gt;9 -->\r\n<g id=\"edge9\" class=\"edge\">\r\n<title>7&#45;&gt;9</title>\r\n<path fill=\"none\" stroke=\"black\" d=\"M439.58,-192.88C445.34,-184.24 451.62,-174.82 457.64,-165.79\"/>\r\n<polygon fill=\"black\" stroke=\"black\" points=\"460.67,-167.56 463.3,-157.3 454.84,-163.68 460.67,-167.56\"/>\r\n</g>\r\n<!-- 10 -->\r\n<g id=\"node11\" class=\"node\">\r\n<title>10</title>\r\n<polygon fill=\"#39e581\" stroke=\"black\" points=\"478,-53 357,-53 357,0 478,0 478,-53\"/>\r\n<text text-anchor=\"middle\" x=\"417.5\" y=\"-37.8\" font-family=\"Helvetica,sans-Serif\" font-size=\"14.00\">samples = 2</text>\r\n<text text-anchor=\"middle\" x=\"417.5\" y=\"-22.8\" font-family=\"Helvetica,sans-Serif\" font-size=\"14.00\">value = [0, 2, 0]</text>\r\n<text text-anchor=\"middle\" x=\"417.5\" y=\"-7.8\" font-family=\"Helvetica,sans-Serif\" font-size=\"14.00\">class = versicolor</text>\r\n</g>\r\n<!-- 9&#45;&gt;10 -->\r\n<g id=\"edge10\" class=\"edge\">\r\n<title>9&#45;&gt;10</title>\r\n<path fill=\"none\" stroke=\"black\" d=\"M461.72,-88.95C455.33,-80.07 448.42,-70.46 441.99,-61.54\"/>\r\n<polygon fill=\"black\" stroke=\"black\" points=\"444.7,-59.31 436.02,-53.24 439.02,-63.4 444.7,-59.31\"/>\r\n</g>\r\n<!-- 11 -->\r\n<g id=\"node12\" class=\"node\">\r\n<title>11</title>\r\n<polygon fill=\"#8139e5\" stroke=\"black\" points=\"609,-53 496,-53 496,0 609,0 609,-53\"/>\r\n<text text-anchor=\"middle\" x=\"552.5\" y=\"-37.8\" font-family=\"Helvetica,sans-Serif\" font-size=\"14.00\">samples = 1</text>\r\n<text text-anchor=\"middle\" x=\"552.5\" y=\"-22.8\" font-family=\"Helvetica,sans-Serif\" font-size=\"14.00\">value = [0, 0, 1]</text>\r\n<text text-anchor=\"middle\" x=\"552.5\" y=\"-7.8\" font-family=\"Helvetica,sans-Serif\" font-size=\"14.00\">class = virginica</text>\r\n</g>\r\n<!-- 9&#45;&gt;11 -->\r\n<g id=\"edge11\" class=\"edge\">\r\n<title>9&#45;&gt;11</title>\r\n<path fill=\"none\" stroke=\"black\" d=\"M508.93,-88.95C515.22,-80.07 522.04,-70.46 528.37,-61.54\"/>\r\n<polygon fill=\"black\" stroke=\"black\" points=\"531.32,-63.42 534.25,-53.24 525.61,-59.37 531.32,-63.42\"/>\r\n</g>\r\n<!-- 13 -->\r\n<g id=\"node14\" class=\"node\">\r\n<title>13</title>\r\n<polygon fill=\"#c09cf2\" stroke=\"black\" points=\"723.5,-261 565.5,-261 565.5,-193 723.5,-193 723.5,-261\"/>\r\n<text text-anchor=\"middle\" x=\"644.5\" y=\"-245.8\" font-family=\"Helvetica,sans-Serif\" font-size=\"14.00\">sepal width (cm) &lt;= 3.1</text>\r\n<text text-anchor=\"middle\" x=\"644.5\" y=\"-230.8\" font-family=\"Helvetica,sans-Serif\" font-size=\"14.00\">samples = 3</text>\r\n<text text-anchor=\"middle\" x=\"644.5\" y=\"-215.8\" font-family=\"Helvetica,sans-Serif\" font-size=\"14.00\">value = [0, 1, 2]</text>\r\n<text text-anchor=\"middle\" x=\"644.5\" y=\"-200.8\" font-family=\"Helvetica,sans-Serif\" font-size=\"14.00\">class = virginica</text>\r\n</g>\r\n<!-- 12&#45;&gt;13 -->\r\n<g id=\"edge13\" class=\"edge\">\r\n<title>12&#45;&gt;13</title>\r\n<path fill=\"none\" stroke=\"black\" d=\"M644.5,-296.88C644.5,-288.78 644.5,-279.98 644.5,-271.47\"/>\r\n<polygon fill=\"black\" stroke=\"black\" points=\"648,-271.3 644.5,-261.3 641,-271.3 648,-271.3\"/>\r\n</g>\r\n<!-- 16 -->\r\n<g id=\"node17\" class=\"node\">\r\n<title>16</title>\r\n<polygon fill=\"#8139e5\" stroke=\"black\" points=\"859,-253.5 742,-253.5 742,-200.5 859,-200.5 859,-253.5\"/>\r\n<text text-anchor=\"middle\" x=\"800.5\" y=\"-238.3\" font-family=\"Helvetica,sans-Serif\" font-size=\"14.00\">samples = 36</text>\r\n<text text-anchor=\"middle\" x=\"800.5\" y=\"-223.3\" font-family=\"Helvetica,sans-Serif\" font-size=\"14.00\">value = [0, 0, 36]</text>\r\n<text text-anchor=\"middle\" x=\"800.5\" y=\"-208.3\" font-family=\"Helvetica,sans-Serif\" font-size=\"14.00\">class = virginica</text>\r\n</g>\r\n<!-- 12&#45;&gt;16 -->\r\n<g id=\"edge16\" class=\"edge\">\r\n<title>12&#45;&gt;16</title>\r\n<path fill=\"none\" stroke=\"black\" d=\"M695.15,-296.88C713.65,-284.79 734.5,-271.15 752.75,-259.22\"/>\r\n<polygon fill=\"black\" stroke=\"black\" points=\"755.02,-261.92 761.47,-253.52 751.18,-256.06 755.02,-261.92\"/>\r\n</g>\r\n<!-- 14 -->\r\n<g id=\"node15\" class=\"node\">\r\n<title>14</title>\r\n<polygon fill=\"#8139e5\" stroke=\"black\" points=\"701,-149.5 588,-149.5 588,-96.5 701,-96.5 701,-149.5\"/>\r\n<text text-anchor=\"middle\" x=\"644.5\" y=\"-134.3\" font-family=\"Helvetica,sans-Serif\" font-size=\"14.00\">samples = 2</text>\r\n<text text-anchor=\"middle\" x=\"644.5\" y=\"-119.3\" font-family=\"Helvetica,sans-Serif\" font-size=\"14.00\">value = [0, 0, 2]</text>\r\n<text text-anchor=\"middle\" x=\"644.5\" y=\"-104.3\" font-family=\"Helvetica,sans-Serif\" font-size=\"14.00\">class = virginica</text>\r\n</g>\r\n<!-- 13&#45;&gt;14 -->\r\n<g id=\"edge14\" class=\"edge\">\r\n<title>13&#45;&gt;14</title>\r\n<path fill=\"none\" stroke=\"black\" d=\"M644.5,-192.88C644.5,-182.33 644.5,-170.6 644.5,-159.85\"/>\r\n<polygon fill=\"black\" stroke=\"black\" points=\"648,-159.52 644.5,-149.52 641,-159.52 648,-159.52\"/>\r\n</g>\r\n<!-- 15 -->\r\n<g id=\"node16\" class=\"node\">\r\n<title>15</title>\r\n<polygon fill=\"#39e581\" stroke=\"black\" points=\"840,-149.5 719,-149.5 719,-96.5 840,-96.5 840,-149.5\"/>\r\n<text text-anchor=\"middle\" x=\"779.5\" y=\"-134.3\" font-family=\"Helvetica,sans-Serif\" font-size=\"14.00\">samples = 1</text>\r\n<text text-anchor=\"middle\" x=\"779.5\" y=\"-119.3\" font-family=\"Helvetica,sans-Serif\" font-size=\"14.00\">value = [0, 1, 0]</text>\r\n<text text-anchor=\"middle\" x=\"779.5\" y=\"-104.3\" font-family=\"Helvetica,sans-Serif\" font-size=\"14.00\">class = versicolor</text>\r\n</g>\r\n<!-- 13&#45;&gt;15 -->\r\n<g id=\"edge15\" class=\"edge\">\r\n<title>13&#45;&gt;15</title>\r\n<path fill=\"none\" stroke=\"black\" d=\"M688.33,-192.88C704.2,-180.9 722.06,-167.4 737.74,-155.55\"/>\r\n<polygon fill=\"black\" stroke=\"black\" points=\"739.85,-158.34 745.72,-149.52 735.63,-152.76 739.85,-158.34\"/>\r\n</g>\r\n</g>\r\n</svg>\r\n",
      "text/plain": [
       "<graphviz.files.Source at 0x2a75172b848>"
      ]
     },
     "metadata": {},
     "output_type": "display_data"
    },
    {
     "name": "stdout",
     "output_type": "stream",
     "text": [
      " Model [maxdepth_3_tree] Train set 정확도 : 0.97\n",
      " Model [maxdepth_3_tree] Test set 정확도 : 1.00\n"
     ]
    },
    {
     "data": {
      "image/svg+xml": "<?xml version=\"1.0\" encoding=\"UTF-8\" standalone=\"no\"?>\r\n<!DOCTYPE svg PUBLIC \"-//W3C//DTD SVG 1.1//EN\"\r\n \"http://www.w3.org/Graphics/SVG/1.1/DTD/svg11.dtd\">\r\n<!-- Generated by graphviz version 2.50.0 (0)\r\n -->\r\n<!-- Title: Tree Pages: 1 -->\r\n<svg width=\"553pt\" height=\"373pt\"\r\n viewBox=\"0.00 0.00 553.00 373.00\" xmlns=\"http://www.w3.org/2000/svg\" xmlns:xlink=\"http://www.w3.org/1999/xlink\">\r\n<g id=\"graph0\" class=\"graph\" transform=\"scale(1 1) rotate(0) translate(4 369)\">\r\n<title>Tree</title>\r\n<polygon fill=\"white\" stroke=\"transparent\" points=\"-4,4 -4,-369 549,-369 549,4 -4,4\"/>\r\n<!-- 0 -->\r\n<g id=\"node1\" class=\"node\">\r\n<title>0</title>\r\n<polygon fill=\"#faf8fe\" stroke=\"black\" points=\"277,-365 114,-365 114,-297 277,-297 277,-365\"/>\r\n<text text-anchor=\"middle\" x=\"195.5\" y=\"-349.8\" font-family=\"Helvetica,sans-Serif\" font-size=\"14.00\">petal width (cm) &lt;= 0.75</text>\r\n<text text-anchor=\"middle\" x=\"195.5\" y=\"-334.8\" font-family=\"Helvetica,sans-Serif\" font-size=\"14.00\">samples = 120</text>\r\n<text text-anchor=\"middle\" x=\"195.5\" y=\"-319.8\" font-family=\"Helvetica,sans-Serif\" font-size=\"14.00\">value = [40, 37, 43]</text>\r\n<text text-anchor=\"middle\" x=\"195.5\" y=\"-304.8\" font-family=\"Helvetica,sans-Serif\" font-size=\"14.00\">class = virginica</text>\r\n</g>\r\n<!-- 1 -->\r\n<g id=\"node2\" class=\"node\">\r\n<title>1</title>\r\n<polygon fill=\"#e58139\" stroke=\"black\" points=\"175,-253.5 58,-253.5 58,-200.5 175,-200.5 175,-253.5\"/>\r\n<text text-anchor=\"middle\" x=\"116.5\" y=\"-238.3\" font-family=\"Helvetica,sans-Serif\" font-size=\"14.00\">samples = 40</text>\r\n<text text-anchor=\"middle\" x=\"116.5\" y=\"-223.3\" font-family=\"Helvetica,sans-Serif\" font-size=\"14.00\">value = [40, 0, 0]</text>\r\n<text text-anchor=\"middle\" x=\"116.5\" y=\"-208.3\" font-family=\"Helvetica,sans-Serif\" font-size=\"14.00\">class = setosa</text>\r\n</g>\r\n<!-- 0&#45;&gt;1 -->\r\n<g id=\"edge1\" class=\"edge\">\r\n<title>0&#45;&gt;1</title>\r\n<path fill=\"none\" stroke=\"black\" d=\"M169.85,-296.88C161.08,-285.56 151.26,-272.88 142.46,-261.52\"/>\r\n<polygon fill=\"black\" stroke=\"black\" points=\"145.16,-259.28 136.27,-253.52 139.62,-263.57 145.16,-259.28\"/>\r\n<text text-anchor=\"middle\" x=\"133.11\" y=\"-274.62\" font-family=\"Helvetica,sans-Serif\" font-size=\"14.00\">True</text>\r\n</g>\r\n<!-- 2 -->\r\n<g id=\"node3\" class=\"node\">\r\n<title>2</title>\r\n<polygon fill=\"#ede3fb\" stroke=\"black\" points=\"356,-261 193,-261 193,-193 356,-193 356,-261\"/>\r\n<text text-anchor=\"middle\" x=\"274.5\" y=\"-245.8\" font-family=\"Helvetica,sans-Serif\" font-size=\"14.00\">petal width (cm) &lt;= 1.75</text>\r\n<text text-anchor=\"middle\" x=\"274.5\" y=\"-230.8\" font-family=\"Helvetica,sans-Serif\" font-size=\"14.00\">samples = 80</text>\r\n<text text-anchor=\"middle\" x=\"274.5\" y=\"-215.8\" font-family=\"Helvetica,sans-Serif\" font-size=\"14.00\">value = [0, 37, 43]</text>\r\n<text text-anchor=\"middle\" x=\"274.5\" y=\"-200.8\" font-family=\"Helvetica,sans-Serif\" font-size=\"14.00\">class = virginica</text>\r\n</g>\r\n<!-- 0&#45;&gt;2 -->\r\n<g id=\"edge2\" class=\"edge\">\r\n<title>0&#45;&gt;2</title>\r\n<path fill=\"none\" stroke=\"black\" d=\"M221.15,-296.88C227.98,-288.07 235.44,-278.43 242.56,-269.24\"/>\r\n<polygon fill=\"black\" stroke=\"black\" points=\"245.35,-271.35 248.71,-261.3 239.82,-267.06 245.35,-271.35\"/>\r\n<text text-anchor=\"middle\" x=\"251.86\" y=\"-282.4\" font-family=\"Helvetica,sans-Serif\" font-size=\"14.00\">False</text>\r\n</g>\r\n<!-- 3 -->\r\n<g id=\"node4\" class=\"node\">\r\n<title>3</title>\r\n<polygon fill=\"#54e992\" stroke=\"black\" points=\"265.5,-157 97.5,-157 97.5,-89 265.5,-89 265.5,-157\"/>\r\n<text text-anchor=\"middle\" x=\"181.5\" y=\"-141.8\" font-family=\"Helvetica,sans-Serif\" font-size=\"14.00\">petal length (cm) &lt;= 4.95</text>\r\n<text text-anchor=\"middle\" x=\"181.5\" y=\"-126.8\" font-family=\"Helvetica,sans-Serif\" font-size=\"14.00\">samples = 41</text>\r\n<text text-anchor=\"middle\" x=\"181.5\" y=\"-111.8\" font-family=\"Helvetica,sans-Serif\" font-size=\"14.00\">value = [0, 36, 5]</text>\r\n<text text-anchor=\"middle\" x=\"181.5\" y=\"-96.8\" font-family=\"Helvetica,sans-Serif\" font-size=\"14.00\">class = versicolor</text>\r\n</g>\r\n<!-- 2&#45;&gt;3 -->\r\n<g id=\"edge3\" class=\"edge\">\r\n<title>2&#45;&gt;3</title>\r\n<path fill=\"none\" stroke=\"black\" d=\"M244.31,-192.88C236.18,-183.98 227.3,-174.24 218.84,-164.96\"/>\r\n<polygon fill=\"black\" stroke=\"black\" points=\"221.19,-162.33 211.86,-157.3 216.01,-167.05 221.19,-162.33\"/>\r\n</g>\r\n<!-- 6 -->\r\n<g id=\"node7\" class=\"node\">\r\n<title>6</title>\r\n<polygon fill=\"#843ee6\" stroke=\"black\" points=\"451.5,-157 283.5,-157 283.5,-89 451.5,-89 451.5,-157\"/>\r\n<text text-anchor=\"middle\" x=\"367.5\" y=\"-141.8\" font-family=\"Helvetica,sans-Serif\" font-size=\"14.00\">petal length (cm) &lt;= 4.85</text>\r\n<text text-anchor=\"middle\" x=\"367.5\" y=\"-126.8\" font-family=\"Helvetica,sans-Serif\" font-size=\"14.00\">samples = 39</text>\r\n<text text-anchor=\"middle\" x=\"367.5\" y=\"-111.8\" font-family=\"Helvetica,sans-Serif\" font-size=\"14.00\">value = [0, 1, 38]</text>\r\n<text text-anchor=\"middle\" x=\"367.5\" y=\"-96.8\" font-family=\"Helvetica,sans-Serif\" font-size=\"14.00\">class = virginica</text>\r\n</g>\r\n<!-- 2&#45;&gt;6 -->\r\n<g id=\"edge6\" class=\"edge\">\r\n<title>2&#45;&gt;6</title>\r\n<path fill=\"none\" stroke=\"black\" d=\"M304.69,-192.88C312.82,-183.98 321.7,-174.24 330.16,-164.96\"/>\r\n<polygon fill=\"black\" stroke=\"black\" points=\"332.99,-167.05 337.14,-157.3 327.81,-162.33 332.99,-167.05\"/>\r\n</g>\r\n<!-- 4 -->\r\n<g id=\"node5\" class=\"node\">\r\n<title>4</title>\r\n<polygon fill=\"#3fe685\" stroke=\"black\" points=\"121,-53 0,-53 0,0 121,0 121,-53\"/>\r\n<text text-anchor=\"middle\" x=\"60.5\" y=\"-37.8\" font-family=\"Helvetica,sans-Serif\" font-size=\"14.00\">samples = 35</text>\r\n<text text-anchor=\"middle\" x=\"60.5\" y=\"-22.8\" font-family=\"Helvetica,sans-Serif\" font-size=\"14.00\">value = [0, 34, 1]</text>\r\n<text text-anchor=\"middle\" x=\"60.5\" y=\"-7.8\" font-family=\"Helvetica,sans-Serif\" font-size=\"14.00\">class = versicolor</text>\r\n</g>\r\n<!-- 3&#45;&gt;4 -->\r\n<g id=\"edge4\" class=\"edge\">\r\n<title>3&#45;&gt;4</title>\r\n<path fill=\"none\" stroke=\"black\" d=\"M139.18,-88.95C127,-79.43 113.73,-69.07 101.62,-59.62\"/>\r\n<polygon fill=\"black\" stroke=\"black\" points=\"103.49,-56.63 93.45,-53.24 99.18,-62.15 103.49,-56.63\"/>\r\n</g>\r\n<!-- 5 -->\r\n<g id=\"node6\" class=\"node\">\r\n<title>5</title>\r\n<polygon fill=\"#c09cf2\" stroke=\"black\" points=\"252,-53 139,-53 139,0 252,0 252,-53\"/>\r\n<text text-anchor=\"middle\" x=\"195.5\" y=\"-37.8\" font-family=\"Helvetica,sans-Serif\" font-size=\"14.00\">samples = 6</text>\r\n<text text-anchor=\"middle\" x=\"195.5\" y=\"-22.8\" font-family=\"Helvetica,sans-Serif\" font-size=\"14.00\">value = [0, 2, 4]</text>\r\n<text text-anchor=\"middle\" x=\"195.5\" y=\"-7.8\" font-family=\"Helvetica,sans-Serif\" font-size=\"14.00\">class = virginica</text>\r\n</g>\r\n<!-- 3&#45;&gt;5 -->\r\n<g id=\"edge5\" class=\"edge\">\r\n<title>3&#45;&gt;5</title>\r\n<path fill=\"none\" stroke=\"black\" d=\"M186.4,-88.95C187.63,-80.62 188.96,-71.65 190.21,-63.2\"/>\r\n<polygon fill=\"black\" stroke=\"black\" points=\"193.68,-63.64 191.69,-53.24 186.76,-62.62 193.68,-63.64\"/>\r\n</g>\r\n<!-- 7 -->\r\n<g id=\"node8\" class=\"node\">\r\n<title>7</title>\r\n<polygon fill=\"#c09cf2\" stroke=\"black\" points=\"410,-53 297,-53 297,0 410,0 410,-53\"/>\r\n<text text-anchor=\"middle\" x=\"353.5\" y=\"-37.8\" font-family=\"Helvetica,sans-Serif\" font-size=\"14.00\">samples = 3</text>\r\n<text text-anchor=\"middle\" x=\"353.5\" y=\"-22.8\" font-family=\"Helvetica,sans-Serif\" font-size=\"14.00\">value = [0, 1, 2]</text>\r\n<text text-anchor=\"middle\" x=\"353.5\" y=\"-7.8\" font-family=\"Helvetica,sans-Serif\" font-size=\"14.00\">class = virginica</text>\r\n</g>\r\n<!-- 6&#45;&gt;7 -->\r\n<g id=\"edge7\" class=\"edge\">\r\n<title>6&#45;&gt;7</title>\r\n<path fill=\"none\" stroke=\"black\" d=\"M362.6,-88.95C361.37,-80.62 360.04,-71.65 358.79,-63.2\"/>\r\n<polygon fill=\"black\" stroke=\"black\" points=\"362.24,-62.62 357.31,-53.24 355.32,-63.64 362.24,-62.62\"/>\r\n</g>\r\n<!-- 8 -->\r\n<g id=\"node9\" class=\"node\">\r\n<title>8</title>\r\n<polygon fill=\"#8139e5\" stroke=\"black\" points=\"545,-53 428,-53 428,0 545,0 545,-53\"/>\r\n<text text-anchor=\"middle\" x=\"486.5\" y=\"-37.8\" font-family=\"Helvetica,sans-Serif\" font-size=\"14.00\">samples = 36</text>\r\n<text text-anchor=\"middle\" x=\"486.5\" y=\"-22.8\" font-family=\"Helvetica,sans-Serif\" font-size=\"14.00\">value = [0, 0, 36]</text>\r\n<text text-anchor=\"middle\" x=\"486.5\" y=\"-7.8\" font-family=\"Helvetica,sans-Serif\" font-size=\"14.00\">class = virginica</text>\r\n</g>\r\n<!-- 6&#45;&gt;8 -->\r\n<g id=\"edge8\" class=\"edge\">\r\n<title>6&#45;&gt;8</title>\r\n<path fill=\"none\" stroke=\"black\" d=\"M409.12,-88.95C421.1,-79.43 434.15,-69.07 446.06,-59.62\"/>\r\n<polygon fill=\"black\" stroke=\"black\" points=\"448.44,-62.2 454.09,-53.24 444.08,-56.71 448.44,-62.2\"/>\r\n</g>\r\n</g>\r\n</svg>\r\n",
      "text/plain": [
       "<graphviz.files.Source at 0x2a751073708>"
      ]
     },
     "metadata": {},
     "output_type": "display_data"
    }
   ],
   "source": [
    "from sklearn.tree import export_graphviz\n",
    "import graphviz\n",
    "\n",
    "global model\n",
    "trees = {'basic_tree':DecisionTreeClassifier(), 'maxdepth_3_tree':DecisionTreeClassifier(max_depth=3)}\n",
    "\n",
    "for model_name, tree in trees.items():\n",
    "    model = tree\n",
    "    model.fit(X_train, y_train)\n",
    "    print(f' Model [{model_name}] Train set 정확도 : {model.score(X_train, y_train):.2f}') \n",
    "    print(f' Model [{model_name}] Test set 정확도 : {model.score(X_test, y_test):.2f}')\n",
    "    export_graphviz(model, out_file=f\"{model_name}.dot\", class_names=[\"setosa\", \"versicolor\", \"virginica\"],\n",
    "                feature_names=iris_dataset.feature_names, impurity=False, filled=True)\n",
    "    with open(f\"{model_name}.dot\", 'r', encoding='utf-8') as f:\n",
    "        dot_graph = f.read()\n",
    "    display(graphviz.Source(dot_graph))"
   ]
  },
  {
   "cell_type": "code",
   "execution_count": 27,
   "metadata": {},
   "outputs": [],
   "source": [
    "# - 깨짐 방지\n",
    "import matplotlib.pyplot as plt\n",
    "import platform\n",
    "from matplotlib import font_manager, rc\n",
    "plt.rcParams['axes.unicode_minus'] = False\n",
    "\n",
    "# 한글 폰트 깨짐 방지\n",
    "if( platform.system() =='Darwin' ):\n",
    "    rc( 'font', family='AppleGothic' )\n",
    "elif( platform.system() == 'Windows' ):\n",
    "    f_path='c:/Windows/Fonts/malgun.ttf'\n",
    "    font_name= font_manager.FontProperties( fname=f_path ).get_name()\n",
    "    rc('font',family=font_name)\n",
    "else: \n",
    "    print('error')\n",
    "    \n",
    "%matplotlib inline\n",
    "\n",
    "import numpy as np\n"
   ]
  },
  {
   "cell_type": "code",
   "execution_count": 57,
   "metadata": {},
   "outputs": [
    {
     "ename": "TypeError",
     "evalue": "'builtin_function_or_method' object is not subscriptable",
     "output_type": "error",
     "traceback": [
      "\u001b[1;31m---------------------------------------------------------------------------\u001b[0m",
      "\u001b[1;31mTypeError\u001b[0m                                 Traceback (most recent call last)",
      "\u001b[1;32m~\\AppData\\Local\\Temp\\ipykernel_16260\\743946990.py\u001b[0m in \u001b[0;36m<module>\u001b[1;34m\u001b[0m\n\u001b[0;32m      2\u001b[0m     \u001b[0mn_features\u001b[0m \u001b[1;33m=\u001b[0m \u001b[0miris_dataset\u001b[0m\u001b[1;33m.\u001b[0m\u001b[0mdata\u001b[0m\u001b[1;33m.\u001b[0m\u001b[0mshape\u001b[0m\u001b[1;33m[\u001b[0m\u001b[1;36m1\u001b[0m\u001b[1;33m]\u001b[0m \u001b[1;31m# feature\u001b[0m\u001b[1;33m\u001b[0m\u001b[1;33m\u001b[0m\u001b[0m\n\u001b[0;32m      3\u001b[0m     \u001b[0mplt\u001b[0m\u001b[1;33m.\u001b[0m\u001b[0mfigure\u001b[0m\u001b[1;33m(\u001b[0m\u001b[0mfigsize\u001b[0m\u001b[1;33m=\u001b[0m\u001b[1;33m(\u001b[0m\u001b[1;36m12\u001b[0m\u001b[1;33m,\u001b[0m\u001b[1;36m8\u001b[0m\u001b[1;33m)\u001b[0m\u001b[1;33m)\u001b[0m\u001b[1;33m\u001b[0m\u001b[1;33m\u001b[0m\u001b[0m\n\u001b[1;32m----> 4\u001b[1;33m     \u001b[0mplt\u001b[0m\u001b[1;33m.\u001b[0m\u001b[0mbarh\u001b[0m\u001b[1;33m(\u001b[0m\u001b[0mnp\u001b[0m\u001b[1;33m.\u001b[0m\u001b[0marange\u001b[0m\u001b[1;33m(\u001b[0m\u001b[0mn_features\u001b[0m\u001b[1;33m)\u001b[0m\u001b[1;33m,\u001b[0m \u001b[0mglobals\u001b[0m\u001b[1;33m[\u001b[0m\u001b[0mtree\u001b[0m\u001b[1;33m]\u001b[0m\u001b[1;33m.\u001b[0m\u001b[0mfeature_importances_\u001b[0m\u001b[1;33m,\u001b[0m \u001b[0malign\u001b[0m\u001b[1;33m=\u001b[0m\u001b[1;34m'center'\u001b[0m\u001b[1;33m)\u001b[0m\u001b[1;33m\u001b[0m\u001b[1;33m\u001b[0m\u001b[0m\n\u001b[0m\u001b[0;32m      5\u001b[0m     \u001b[0mplt\u001b[0m\u001b[1;33m.\u001b[0m\u001b[0myticks\u001b[0m\u001b[1;33m(\u001b[0m\u001b[0mnp\u001b[0m\u001b[1;33m.\u001b[0m\u001b[0marange\u001b[0m\u001b[1;33m(\u001b[0m\u001b[0mn_features\u001b[0m\u001b[1;33m)\u001b[0m\u001b[1;33m,\u001b[0m \u001b[0mglobals\u001b[0m\u001b[1;33m[\u001b[0m\u001b[0mtree\u001b[0m\u001b[1;33m]\u001b[0m\u001b[1;33m.\u001b[0m\u001b[0mfeature_names_in_\u001b[0m\u001b[1;33m)\u001b[0m\u001b[1;33m\u001b[0m\u001b[1;33m\u001b[0m\u001b[0m\n\u001b[0;32m      6\u001b[0m     \u001b[0mplt\u001b[0m\u001b[1;33m.\u001b[0m\u001b[0mxlabel\u001b[0m\u001b[1;33m(\u001b[0m\u001b[1;34m\"특성 중요도\"\u001b[0m\u001b[1;33m)\u001b[0m\u001b[1;33m\u001b[0m\u001b[1;33m\u001b[0m\u001b[0m\n",
      "\u001b[1;31mTypeError\u001b[0m: 'builtin_function_or_method' object is not subscriptable"
     ]
    },
    {
     "data": {
      "text/plain": [
       "<Figure size 864x576 with 0 Axes>"
      ]
     },
     "metadata": {},
     "output_type": "display_data"
    }
   ],
   "source": [
    "for tree in trees:\n",
    "    n_features = iris_dataset.data.shape[1] # feature\n",
    "    plt.figure(figsize=(12,8))\n",
    "    plt.barh(np.arange(n_features), globals[tree].feature_importances_, align='center')\n",
    "    plt.yticks(np.arange(n_features), globals[tree].feature_names_in_)\n",
    "    plt.xlabel(\"특성 중요도\")\n",
    "    plt.ylabel(\"특성\")\n",
    "    plt.ylim(-1, n_features)\n",
    "    plt.show()"
   ]
  },
  {
   "cell_type": "code",
   "execution_count": 56,
   "metadata": {},
   "outputs": [
    {
     "name": "stdout",
     "output_type": "stream",
     "text": [
      "basic_tree의 max_depth가 None 일 때 Train set 정확도 : 1.0\n",
      "basic_tree의 max_depth가 None 일 때 Test set 정확도 : 1.0\n"
     ]
    },
    {
     "data": {
      "image/svg+xml": "<?xml version=\"1.0\" encoding=\"UTF-8\" standalone=\"no\"?>\r\n<!DOCTYPE svg PUBLIC \"-//W3C//DTD SVG 1.1//EN\"\r\n \"http://www.w3.org/Graphics/SVG/1.1/DTD/svg11.dtd\">\r\n<!-- Generated by graphviz version 2.50.0 (0)\r\n -->\r\n<!-- Title: Tree Pages: 1 -->\r\n<svg width=\"879pt\" height=\"581pt\"\r\n viewBox=\"0.00 0.00 879.00 581.00\" xmlns=\"http://www.w3.org/2000/svg\" xmlns:xlink=\"http://www.w3.org/1999/xlink\">\r\n<g id=\"graph0\" class=\"graph\" transform=\"scale(1 1) rotate(0) translate(4 577)\">\r\n<title>Tree</title>\r\n<polygon fill=\"white\" stroke=\"transparent\" points=\"-4,4 -4,-577 875,-577 875,4 -4,4\"/>\r\n<!-- 0 -->\r\n<g id=\"node1\" class=\"node\">\r\n<title>0</title>\r\n<polygon fill=\"#faf8fe\" stroke=\"black\" points=\"540.5,-573 372.5,-573 372.5,-505 540.5,-505 540.5,-573\"/>\r\n<text text-anchor=\"middle\" x=\"456.5\" y=\"-557.8\" font-family=\"Helvetica,sans-Serif\" font-size=\"14.00\">petal length (cm) &lt;= 2.45</text>\r\n<text text-anchor=\"middle\" x=\"456.5\" y=\"-542.8\" font-family=\"Helvetica,sans-Serif\" font-size=\"14.00\">samples = 120</text>\r\n<text text-anchor=\"middle\" x=\"456.5\" y=\"-527.8\" font-family=\"Helvetica,sans-Serif\" font-size=\"14.00\">value = [40, 37, 43]</text>\r\n<text text-anchor=\"middle\" x=\"456.5\" y=\"-512.8\" font-family=\"Helvetica,sans-Serif\" font-size=\"14.00\">class = virginica</text>\r\n</g>\r\n<!-- 1 -->\r\n<g id=\"node2\" class=\"node\">\r\n<title>1</title>\r\n<polygon fill=\"#e58139\" stroke=\"black\" points=\"436,-461.5 319,-461.5 319,-408.5 436,-408.5 436,-461.5\"/>\r\n<text text-anchor=\"middle\" x=\"377.5\" y=\"-446.3\" font-family=\"Helvetica,sans-Serif\" font-size=\"14.00\">samples = 40</text>\r\n<text text-anchor=\"middle\" x=\"377.5\" y=\"-431.3\" font-family=\"Helvetica,sans-Serif\" font-size=\"14.00\">value = [40, 0, 0]</text>\r\n<text text-anchor=\"middle\" x=\"377.5\" y=\"-416.3\" font-family=\"Helvetica,sans-Serif\" font-size=\"14.00\">class = setosa</text>\r\n</g>\r\n<!-- 0&#45;&gt;1 -->\r\n<g id=\"edge1\" class=\"edge\">\r\n<title>0&#45;&gt;1</title>\r\n<path fill=\"none\" stroke=\"black\" d=\"M430.85,-504.88C422.08,-493.56 412.26,-480.88 403.46,-469.52\"/>\r\n<polygon fill=\"black\" stroke=\"black\" points=\"406.16,-467.28 397.27,-461.52 400.62,-471.57 406.16,-467.28\"/>\r\n<text text-anchor=\"middle\" x=\"394.11\" y=\"-482.62\" font-family=\"Helvetica,sans-Serif\" font-size=\"14.00\">True</text>\r\n</g>\r\n<!-- 2 -->\r\n<g id=\"node3\" class=\"node\">\r\n<title>2</title>\r\n<polygon fill=\"#ede3fb\" stroke=\"black\" points=\"617,-469 454,-469 454,-401 617,-401 617,-469\"/>\r\n<text text-anchor=\"middle\" x=\"535.5\" y=\"-453.8\" font-family=\"Helvetica,sans-Serif\" font-size=\"14.00\">petal width (cm) &lt;= 1.75</text>\r\n<text text-anchor=\"middle\" x=\"535.5\" y=\"-438.8\" font-family=\"Helvetica,sans-Serif\" font-size=\"14.00\">samples = 80</text>\r\n<text text-anchor=\"middle\" x=\"535.5\" y=\"-423.8\" font-family=\"Helvetica,sans-Serif\" font-size=\"14.00\">value = [0, 37, 43]</text>\r\n<text text-anchor=\"middle\" x=\"535.5\" y=\"-408.8\" font-family=\"Helvetica,sans-Serif\" font-size=\"14.00\">class = virginica</text>\r\n</g>\r\n<!-- 0&#45;&gt;2 -->\r\n<g id=\"edge2\" class=\"edge\">\r\n<title>0&#45;&gt;2</title>\r\n<path fill=\"none\" stroke=\"black\" d=\"M482.15,-504.88C488.98,-496.07 496.44,-486.43 503.56,-477.24\"/>\r\n<polygon fill=\"black\" stroke=\"black\" points=\"506.35,-479.35 509.71,-469.3 500.82,-475.06 506.35,-479.35\"/>\r\n<text text-anchor=\"middle\" x=\"512.86\" y=\"-490.4\" font-family=\"Helvetica,sans-Serif\" font-size=\"14.00\">False</text>\r\n</g>\r\n<!-- 3 -->\r\n<g id=\"node4\" class=\"node\">\r\n<title>3</title>\r\n<polygon fill=\"#54e992\" stroke=\"black\" points=\"504.5,-365 336.5,-365 336.5,-297 504.5,-297 504.5,-365\"/>\r\n<text text-anchor=\"middle\" x=\"420.5\" y=\"-349.8\" font-family=\"Helvetica,sans-Serif\" font-size=\"14.00\">petal length (cm) &lt;= 4.95</text>\r\n<text text-anchor=\"middle\" x=\"420.5\" y=\"-334.8\" font-family=\"Helvetica,sans-Serif\" font-size=\"14.00\">samples = 41</text>\r\n<text text-anchor=\"middle\" x=\"420.5\" y=\"-319.8\" font-family=\"Helvetica,sans-Serif\" font-size=\"14.00\">value = [0, 36, 5]</text>\r\n<text text-anchor=\"middle\" x=\"420.5\" y=\"-304.8\" font-family=\"Helvetica,sans-Serif\" font-size=\"14.00\">class = versicolor</text>\r\n</g>\r\n<!-- 2&#45;&gt;3 -->\r\n<g id=\"edge3\" class=\"edge\">\r\n<title>2&#45;&gt;3</title>\r\n<path fill=\"none\" stroke=\"black\" d=\"M498.16,-400.88C487.82,-391.71 476.48,-381.65 465.74,-372.12\"/>\r\n<polygon fill=\"black\" stroke=\"black\" points=\"467.85,-369.32 458.04,-365.3 463.2,-374.55 467.85,-369.32\"/>\r\n</g>\r\n<!-- 12 -->\r\n<g id=\"node13\" class=\"node\">\r\n<title>12</title>\r\n<polygon fill=\"#843ee6\" stroke=\"black\" points=\"734.5,-365 566.5,-365 566.5,-297 734.5,-297 734.5,-365\"/>\r\n<text text-anchor=\"middle\" x=\"650.5\" y=\"-349.8\" font-family=\"Helvetica,sans-Serif\" font-size=\"14.00\">petal length (cm) &lt;= 4.85</text>\r\n<text text-anchor=\"middle\" x=\"650.5\" y=\"-334.8\" font-family=\"Helvetica,sans-Serif\" font-size=\"14.00\">samples = 39</text>\r\n<text text-anchor=\"middle\" x=\"650.5\" y=\"-319.8\" font-family=\"Helvetica,sans-Serif\" font-size=\"14.00\">value = [0, 1, 38]</text>\r\n<text text-anchor=\"middle\" x=\"650.5\" y=\"-304.8\" font-family=\"Helvetica,sans-Serif\" font-size=\"14.00\">class = virginica</text>\r\n</g>\r\n<!-- 2&#45;&gt;12 -->\r\n<g id=\"edge12\" class=\"edge\">\r\n<title>2&#45;&gt;12</title>\r\n<path fill=\"none\" stroke=\"black\" d=\"M572.84,-400.88C583.18,-391.71 594.52,-381.65 605.26,-372.12\"/>\r\n<polygon fill=\"black\" stroke=\"black\" points=\"607.8,-374.55 612.96,-365.3 603.15,-369.32 607.8,-374.55\"/>\r\n</g>\r\n<!-- 4 -->\r\n<g id=\"node5\" class=\"node\">\r\n<title>4</title>\r\n<polygon fill=\"#3fe685\" stroke=\"black\" points=\"277,-261 114,-261 114,-193 277,-193 277,-261\"/>\r\n<text text-anchor=\"middle\" x=\"195.5\" y=\"-245.8\" font-family=\"Helvetica,sans-Serif\" font-size=\"14.00\">petal width (cm) &lt;= 1.65</text>\r\n<text text-anchor=\"middle\" x=\"195.5\" y=\"-230.8\" font-family=\"Helvetica,sans-Serif\" font-size=\"14.00\">samples = 35</text>\r\n<text text-anchor=\"middle\" x=\"195.5\" y=\"-215.8\" font-family=\"Helvetica,sans-Serif\" font-size=\"14.00\">value = [0, 34, 1]</text>\r\n<text text-anchor=\"middle\" x=\"195.5\" y=\"-200.8\" font-family=\"Helvetica,sans-Serif\" font-size=\"14.00\">class = versicolor</text>\r\n</g>\r\n<!-- 3&#45;&gt;4 -->\r\n<g id=\"edge4\" class=\"edge\">\r\n<title>3&#45;&gt;4</title>\r\n<path fill=\"none\" stroke=\"black\" d=\"M347.45,-296.88C325.23,-286.81 300.66,-275.67 277.88,-265.34\"/>\r\n<polygon fill=\"black\" stroke=\"black\" points=\"279.12,-262.07 268.57,-261.12 276.23,-268.44 279.12,-262.07\"/>\r\n</g>\r\n<!-- 7 -->\r\n<g id=\"node8\" class=\"node\">\r\n<title>7</title>\r\n<polygon fill=\"#c09cf2\" stroke=\"black\" points=\"502,-261 339,-261 339,-193 502,-193 502,-261\"/>\r\n<text text-anchor=\"middle\" x=\"420.5\" y=\"-245.8\" font-family=\"Helvetica,sans-Serif\" font-size=\"14.00\">petal width (cm) &lt;= 1.55</text>\r\n<text text-anchor=\"middle\" x=\"420.5\" y=\"-230.8\" font-family=\"Helvetica,sans-Serif\" font-size=\"14.00\">samples = 6</text>\r\n<text text-anchor=\"middle\" x=\"420.5\" y=\"-215.8\" font-family=\"Helvetica,sans-Serif\" font-size=\"14.00\">value = [0, 2, 4]</text>\r\n<text text-anchor=\"middle\" x=\"420.5\" y=\"-200.8\" font-family=\"Helvetica,sans-Serif\" font-size=\"14.00\">class = virginica</text>\r\n</g>\r\n<!-- 3&#45;&gt;7 -->\r\n<g id=\"edge7\" class=\"edge\">\r\n<title>3&#45;&gt;7</title>\r\n<path fill=\"none\" stroke=\"black\" d=\"M420.5,-296.88C420.5,-288.78 420.5,-279.98 420.5,-271.47\"/>\r\n<polygon fill=\"black\" stroke=\"black\" points=\"424,-271.3 420.5,-261.3 417,-271.3 424,-271.3\"/>\r\n</g>\r\n<!-- 5 -->\r\n<g id=\"node6\" class=\"node\">\r\n<title>5</title>\r\n<polygon fill=\"#39e581\" stroke=\"black\" points=\"121,-149.5 0,-149.5 0,-96.5 121,-96.5 121,-149.5\"/>\r\n<text text-anchor=\"middle\" x=\"60.5\" y=\"-134.3\" font-family=\"Helvetica,sans-Serif\" font-size=\"14.00\">samples = 34</text>\r\n<text text-anchor=\"middle\" x=\"60.5\" y=\"-119.3\" font-family=\"Helvetica,sans-Serif\" font-size=\"14.00\">value = [0, 34, 0]</text>\r\n<text text-anchor=\"middle\" x=\"60.5\" y=\"-104.3\" font-family=\"Helvetica,sans-Serif\" font-size=\"14.00\">class = versicolor</text>\r\n</g>\r\n<!-- 4&#45;&gt;5 -->\r\n<g id=\"edge5\" class=\"edge\">\r\n<title>4&#45;&gt;5</title>\r\n<path fill=\"none\" stroke=\"black\" d=\"M151.67,-192.88C135.8,-180.9 117.94,-167.4 102.26,-155.55\"/>\r\n<polygon fill=\"black\" stroke=\"black\" points=\"104.37,-152.76 94.28,-149.52 100.15,-158.34 104.37,-152.76\"/>\r\n</g>\r\n<!-- 6 -->\r\n<g id=\"node7\" class=\"node\">\r\n<title>6</title>\r\n<polygon fill=\"#8139e5\" stroke=\"black\" points=\"252,-149.5 139,-149.5 139,-96.5 252,-96.5 252,-149.5\"/>\r\n<text text-anchor=\"middle\" x=\"195.5\" y=\"-134.3\" font-family=\"Helvetica,sans-Serif\" font-size=\"14.00\">samples = 1</text>\r\n<text text-anchor=\"middle\" x=\"195.5\" y=\"-119.3\" font-family=\"Helvetica,sans-Serif\" font-size=\"14.00\">value = [0, 0, 1]</text>\r\n<text text-anchor=\"middle\" x=\"195.5\" y=\"-104.3\" font-family=\"Helvetica,sans-Serif\" font-size=\"14.00\">class = virginica</text>\r\n</g>\r\n<!-- 4&#45;&gt;6 -->\r\n<g id=\"edge6\" class=\"edge\">\r\n<title>4&#45;&gt;6</title>\r\n<path fill=\"none\" stroke=\"black\" d=\"M195.5,-192.88C195.5,-182.33 195.5,-170.6 195.5,-159.85\"/>\r\n<polygon fill=\"black\" stroke=\"black\" points=\"199,-159.52 195.5,-149.52 192,-159.52 199,-159.52\"/>\r\n</g>\r\n<!-- 8 -->\r\n<g id=\"node9\" class=\"node\">\r\n<title>8</title>\r\n<polygon fill=\"#8139e5\" stroke=\"black\" points=\"383,-149.5 270,-149.5 270,-96.5 383,-96.5 383,-149.5\"/>\r\n<text text-anchor=\"middle\" x=\"326.5\" y=\"-134.3\" font-family=\"Helvetica,sans-Serif\" font-size=\"14.00\">samples = 3</text>\r\n<text text-anchor=\"middle\" x=\"326.5\" y=\"-119.3\" font-family=\"Helvetica,sans-Serif\" font-size=\"14.00\">value = [0, 0, 3]</text>\r\n<text text-anchor=\"middle\" x=\"326.5\" y=\"-104.3\" font-family=\"Helvetica,sans-Serif\" font-size=\"14.00\">class = virginica</text>\r\n</g>\r\n<!-- 7&#45;&gt;8 -->\r\n<g id=\"edge8\" class=\"edge\">\r\n<title>7&#45;&gt;8</title>\r\n<path fill=\"none\" stroke=\"black\" d=\"M389.98,-192.88C379.44,-181.45 367.63,-168.63 357.09,-157.19\"/>\r\n<polygon fill=\"black\" stroke=\"black\" points=\"359.37,-154.5 350.02,-149.52 354.22,-159.25 359.37,-154.5\"/>\r\n</g>\r\n<!-- 9 -->\r\n<g id=\"node10\" class=\"node\">\r\n<title>9</title>\r\n<polygon fill=\"#9cf2c0\" stroke=\"black\" points=\"572,-157 401,-157 401,-89 572,-89 572,-157\"/>\r\n<text text-anchor=\"middle\" x=\"486.5\" y=\"-141.8\" font-family=\"Helvetica,sans-Serif\" font-size=\"14.00\">sepal length (cm) &lt;= 6.95</text>\r\n<text text-anchor=\"middle\" x=\"486.5\" y=\"-126.8\" font-family=\"Helvetica,sans-Serif\" font-size=\"14.00\">samples = 3</text>\r\n<text text-anchor=\"middle\" x=\"486.5\" y=\"-111.8\" font-family=\"Helvetica,sans-Serif\" font-size=\"14.00\">value = [0, 2, 1]</text>\r\n<text text-anchor=\"middle\" x=\"486.5\" y=\"-96.8\" font-family=\"Helvetica,sans-Serif\" font-size=\"14.00\">class = versicolor</text>\r\n</g>\r\n<!-- 7&#45;&gt;9 -->\r\n<g id=\"edge9\" class=\"edge\">\r\n<title>7&#45;&gt;9</title>\r\n<path fill=\"none\" stroke=\"black\" d=\"M441.93,-192.88C447.52,-184.24 453.62,-174.82 459.46,-165.79\"/>\r\n<polygon fill=\"black\" stroke=\"black\" points=\"462.46,-167.6 464.95,-157.3 456.58,-163.79 462.46,-167.6\"/>\r\n</g>\r\n<!-- 10 -->\r\n<g id=\"node11\" class=\"node\">\r\n<title>10</title>\r\n<polygon fill=\"#39e581\" stroke=\"black\" points=\"479,-53 358,-53 358,0 479,0 479,-53\"/>\r\n<text text-anchor=\"middle\" x=\"418.5\" y=\"-37.8\" font-family=\"Helvetica,sans-Serif\" font-size=\"14.00\">samples = 2</text>\r\n<text text-anchor=\"middle\" x=\"418.5\" y=\"-22.8\" font-family=\"Helvetica,sans-Serif\" font-size=\"14.00\">value = [0, 2, 0]</text>\r\n<text text-anchor=\"middle\" x=\"418.5\" y=\"-7.8\" font-family=\"Helvetica,sans-Serif\" font-size=\"14.00\">class = versicolor</text>\r\n</g>\r\n<!-- 9&#45;&gt;10 -->\r\n<g id=\"edge10\" class=\"edge\">\r\n<title>9&#45;&gt;10</title>\r\n<path fill=\"none\" stroke=\"black\" d=\"M462.72,-88.95C456.33,-80.07 449.42,-70.46 442.99,-61.54\"/>\r\n<polygon fill=\"black\" stroke=\"black\" points=\"445.7,-59.31 437.02,-53.24 440.02,-63.4 445.7,-59.31\"/>\r\n</g>\r\n<!-- 11 -->\r\n<g id=\"node12\" class=\"node\">\r\n<title>11</title>\r\n<polygon fill=\"#8139e5\" stroke=\"black\" points=\"610,-53 497,-53 497,0 610,0 610,-53\"/>\r\n<text text-anchor=\"middle\" x=\"553.5\" y=\"-37.8\" font-family=\"Helvetica,sans-Serif\" font-size=\"14.00\">samples = 1</text>\r\n<text text-anchor=\"middle\" x=\"553.5\" y=\"-22.8\" font-family=\"Helvetica,sans-Serif\" font-size=\"14.00\">value = [0, 0, 1]</text>\r\n<text text-anchor=\"middle\" x=\"553.5\" y=\"-7.8\" font-family=\"Helvetica,sans-Serif\" font-size=\"14.00\">class = virginica</text>\r\n</g>\r\n<!-- 9&#45;&gt;11 -->\r\n<g id=\"edge11\" class=\"edge\">\r\n<title>9&#45;&gt;11</title>\r\n<path fill=\"none\" stroke=\"black\" d=\"M509.93,-88.95C516.22,-80.07 523.04,-70.46 529.37,-61.54\"/>\r\n<polygon fill=\"black\" stroke=\"black\" points=\"532.32,-63.42 535.25,-53.24 526.61,-59.37 532.32,-63.42\"/>\r\n</g>\r\n<!-- 13 -->\r\n<g id=\"node14\" class=\"node\">\r\n<title>13</title>\r\n<polygon fill=\"#c09cf2\" stroke=\"black\" points=\"736,-261 565,-261 565,-193 736,-193 736,-261\"/>\r\n<text text-anchor=\"middle\" x=\"650.5\" y=\"-245.8\" font-family=\"Helvetica,sans-Serif\" font-size=\"14.00\">sepal length (cm) &lt;= 5.95</text>\r\n<text text-anchor=\"middle\" x=\"650.5\" y=\"-230.8\" font-family=\"Helvetica,sans-Serif\" font-size=\"14.00\">samples = 3</text>\r\n<text text-anchor=\"middle\" x=\"650.5\" y=\"-215.8\" font-family=\"Helvetica,sans-Serif\" font-size=\"14.00\">value = [0, 1, 2]</text>\r\n<text text-anchor=\"middle\" x=\"650.5\" y=\"-200.8\" font-family=\"Helvetica,sans-Serif\" font-size=\"14.00\">class = virginica</text>\r\n</g>\r\n<!-- 12&#45;&gt;13 -->\r\n<g id=\"edge13\" class=\"edge\">\r\n<title>12&#45;&gt;13</title>\r\n<path fill=\"none\" stroke=\"black\" d=\"M650.5,-296.88C650.5,-288.78 650.5,-279.98 650.5,-271.47\"/>\r\n<polygon fill=\"black\" stroke=\"black\" points=\"654,-271.3 650.5,-261.3 647,-271.3 654,-271.3\"/>\r\n</g>\r\n<!-- 16 -->\r\n<g id=\"node17\" class=\"node\">\r\n<title>16</title>\r\n<polygon fill=\"#8139e5\" stroke=\"black\" points=\"871,-253.5 754,-253.5 754,-200.5 871,-200.5 871,-253.5\"/>\r\n<text text-anchor=\"middle\" x=\"812.5\" y=\"-238.3\" font-family=\"Helvetica,sans-Serif\" font-size=\"14.00\">samples = 36</text>\r\n<text text-anchor=\"middle\" x=\"812.5\" y=\"-223.3\" font-family=\"Helvetica,sans-Serif\" font-size=\"14.00\">value = [0, 0, 36]</text>\r\n<text text-anchor=\"middle\" x=\"812.5\" y=\"-208.3\" font-family=\"Helvetica,sans-Serif\" font-size=\"14.00\">class = virginica</text>\r\n</g>\r\n<!-- 12&#45;&gt;16 -->\r\n<g id=\"edge16\" class=\"edge\">\r\n<title>12&#45;&gt;16</title>\r\n<path fill=\"none\" stroke=\"black\" d=\"M703.1,-296.88C722.49,-284.68 744.36,-270.9 763.43,-258.9\"/>\r\n<polygon fill=\"black\" stroke=\"black\" points=\"765.37,-261.81 771.97,-253.52 761.64,-255.89 765.37,-261.81\"/>\r\n</g>\r\n<!-- 14 -->\r\n<g id=\"node15\" class=\"node\">\r\n<title>14</title>\r\n<polygon fill=\"#39e581\" stroke=\"black\" points=\"711,-149.5 590,-149.5 590,-96.5 711,-96.5 711,-149.5\"/>\r\n<text text-anchor=\"middle\" x=\"650.5\" y=\"-134.3\" font-family=\"Helvetica,sans-Serif\" font-size=\"14.00\">samples = 1</text>\r\n<text text-anchor=\"middle\" x=\"650.5\" y=\"-119.3\" font-family=\"Helvetica,sans-Serif\" font-size=\"14.00\">value = [0, 1, 0]</text>\r\n<text text-anchor=\"middle\" x=\"650.5\" y=\"-104.3\" font-family=\"Helvetica,sans-Serif\" font-size=\"14.00\">class = versicolor</text>\r\n</g>\r\n<!-- 13&#45;&gt;14 -->\r\n<g id=\"edge14\" class=\"edge\">\r\n<title>13&#45;&gt;14</title>\r\n<path fill=\"none\" stroke=\"black\" d=\"M650.5,-192.88C650.5,-182.33 650.5,-170.6 650.5,-159.85\"/>\r\n<polygon fill=\"black\" stroke=\"black\" points=\"654,-159.52 650.5,-149.52 647,-159.52 654,-159.52\"/>\r\n</g>\r\n<!-- 15 -->\r\n<g id=\"node16\" class=\"node\">\r\n<title>15</title>\r\n<polygon fill=\"#8139e5\" stroke=\"black\" points=\"842,-149.5 729,-149.5 729,-96.5 842,-96.5 842,-149.5\"/>\r\n<text text-anchor=\"middle\" x=\"785.5\" y=\"-134.3\" font-family=\"Helvetica,sans-Serif\" font-size=\"14.00\">samples = 2</text>\r\n<text text-anchor=\"middle\" x=\"785.5\" y=\"-119.3\" font-family=\"Helvetica,sans-Serif\" font-size=\"14.00\">value = [0, 0, 2]</text>\r\n<text text-anchor=\"middle\" x=\"785.5\" y=\"-104.3\" font-family=\"Helvetica,sans-Serif\" font-size=\"14.00\">class = virginica</text>\r\n</g>\r\n<!-- 13&#45;&gt;15 -->\r\n<g id=\"edge15\" class=\"edge\">\r\n<title>13&#45;&gt;15</title>\r\n<path fill=\"none\" stroke=\"black\" d=\"M694.33,-192.88C710.2,-180.9 728.06,-167.4 743.74,-155.55\"/>\r\n<polygon fill=\"black\" stroke=\"black\" points=\"745.85,-158.34 751.72,-149.52 741.63,-152.76 745.85,-158.34\"/>\r\n</g>\r\n</g>\r\n</svg>\r\n",
      "text/plain": [
       "<graphviz.files.Source at 0x2a75200e508>"
      ]
     },
     "metadata": {},
     "output_type": "display_data"
    },
    {
     "name": "stdout",
     "output_type": "stream",
     "text": [
      "maxdepth_3_tree의 max_depth가 3 일 때 Train set 정확도 : 0.9666666666666667\n",
      "maxdepth_3_tree의 max_depth가 3 일 때 Test set 정확도 : 1.0\n"
     ]
    },
    {
     "data": {
      "image/svg+xml": "<?xml version=\"1.0\" encoding=\"UTF-8\" standalone=\"no\"?>\r\n<!DOCTYPE svg PUBLIC \"-//W3C//DTD SVG 1.1//EN\"\r\n \"http://www.w3.org/Graphics/SVG/1.1/DTD/svg11.dtd\">\r\n<!-- Generated by graphviz version 2.50.0 (0)\r\n -->\r\n<!-- Title: Tree Pages: 1 -->\r\n<svg width=\"553pt\" height=\"373pt\"\r\n viewBox=\"0.00 0.00 553.00 373.00\" xmlns=\"http://www.w3.org/2000/svg\" xmlns:xlink=\"http://www.w3.org/1999/xlink\">\r\n<g id=\"graph0\" class=\"graph\" transform=\"scale(1 1) rotate(0) translate(4 369)\">\r\n<title>Tree</title>\r\n<polygon fill=\"white\" stroke=\"transparent\" points=\"-4,4 -4,-369 549,-369 549,4 -4,4\"/>\r\n<!-- 0 -->\r\n<g id=\"node1\" class=\"node\">\r\n<title>0</title>\r\n<polygon fill=\"#faf8fe\" stroke=\"black\" points=\"279.5,-365 111.5,-365 111.5,-297 279.5,-297 279.5,-365\"/>\r\n<text text-anchor=\"middle\" x=\"195.5\" y=\"-349.8\" font-family=\"Helvetica,sans-Serif\" font-size=\"14.00\">petal length (cm) &lt;= 2.45</text>\r\n<text text-anchor=\"middle\" x=\"195.5\" y=\"-334.8\" font-family=\"Helvetica,sans-Serif\" font-size=\"14.00\">samples = 120</text>\r\n<text text-anchor=\"middle\" x=\"195.5\" y=\"-319.8\" font-family=\"Helvetica,sans-Serif\" font-size=\"14.00\">value = [40, 37, 43]</text>\r\n<text text-anchor=\"middle\" x=\"195.5\" y=\"-304.8\" font-family=\"Helvetica,sans-Serif\" font-size=\"14.00\">class = virginica</text>\r\n</g>\r\n<!-- 1 -->\r\n<g id=\"node2\" class=\"node\">\r\n<title>1</title>\r\n<polygon fill=\"#e58139\" stroke=\"black\" points=\"175,-253.5 58,-253.5 58,-200.5 175,-200.5 175,-253.5\"/>\r\n<text text-anchor=\"middle\" x=\"116.5\" y=\"-238.3\" font-family=\"Helvetica,sans-Serif\" font-size=\"14.00\">samples = 40</text>\r\n<text text-anchor=\"middle\" x=\"116.5\" y=\"-223.3\" font-family=\"Helvetica,sans-Serif\" font-size=\"14.00\">value = [40, 0, 0]</text>\r\n<text text-anchor=\"middle\" x=\"116.5\" y=\"-208.3\" font-family=\"Helvetica,sans-Serif\" font-size=\"14.00\">class = setosa</text>\r\n</g>\r\n<!-- 0&#45;&gt;1 -->\r\n<g id=\"edge1\" class=\"edge\">\r\n<title>0&#45;&gt;1</title>\r\n<path fill=\"none\" stroke=\"black\" d=\"M169.85,-296.88C161.08,-285.56 151.26,-272.88 142.46,-261.52\"/>\r\n<polygon fill=\"black\" stroke=\"black\" points=\"145.16,-259.28 136.27,-253.52 139.62,-263.57 145.16,-259.28\"/>\r\n<text text-anchor=\"middle\" x=\"133.11\" y=\"-274.62\" font-family=\"Helvetica,sans-Serif\" font-size=\"14.00\">True</text>\r\n</g>\r\n<!-- 2 -->\r\n<g id=\"node3\" class=\"node\">\r\n<title>2</title>\r\n<polygon fill=\"#ede3fb\" stroke=\"black\" points=\"356,-261 193,-261 193,-193 356,-193 356,-261\"/>\r\n<text text-anchor=\"middle\" x=\"274.5\" y=\"-245.8\" font-family=\"Helvetica,sans-Serif\" font-size=\"14.00\">petal width (cm) &lt;= 1.75</text>\r\n<text text-anchor=\"middle\" x=\"274.5\" y=\"-230.8\" font-family=\"Helvetica,sans-Serif\" font-size=\"14.00\">samples = 80</text>\r\n<text text-anchor=\"middle\" x=\"274.5\" y=\"-215.8\" font-family=\"Helvetica,sans-Serif\" font-size=\"14.00\">value = [0, 37, 43]</text>\r\n<text text-anchor=\"middle\" x=\"274.5\" y=\"-200.8\" font-family=\"Helvetica,sans-Serif\" font-size=\"14.00\">class = virginica</text>\r\n</g>\r\n<!-- 0&#45;&gt;2 -->\r\n<g id=\"edge2\" class=\"edge\">\r\n<title>0&#45;&gt;2</title>\r\n<path fill=\"none\" stroke=\"black\" d=\"M221.15,-296.88C227.98,-288.07 235.44,-278.43 242.56,-269.24\"/>\r\n<polygon fill=\"black\" stroke=\"black\" points=\"245.35,-271.35 248.71,-261.3 239.82,-267.06 245.35,-271.35\"/>\r\n<text text-anchor=\"middle\" x=\"251.86\" y=\"-282.4\" font-family=\"Helvetica,sans-Serif\" font-size=\"14.00\">False</text>\r\n</g>\r\n<!-- 3 -->\r\n<g id=\"node4\" class=\"node\">\r\n<title>3</title>\r\n<polygon fill=\"#54e992\" stroke=\"black\" points=\"265.5,-157 97.5,-157 97.5,-89 265.5,-89 265.5,-157\"/>\r\n<text text-anchor=\"middle\" x=\"181.5\" y=\"-141.8\" font-family=\"Helvetica,sans-Serif\" font-size=\"14.00\">petal length (cm) &lt;= 4.95</text>\r\n<text text-anchor=\"middle\" x=\"181.5\" y=\"-126.8\" font-family=\"Helvetica,sans-Serif\" font-size=\"14.00\">samples = 41</text>\r\n<text text-anchor=\"middle\" x=\"181.5\" y=\"-111.8\" font-family=\"Helvetica,sans-Serif\" font-size=\"14.00\">value = [0, 36, 5]</text>\r\n<text text-anchor=\"middle\" x=\"181.5\" y=\"-96.8\" font-family=\"Helvetica,sans-Serif\" font-size=\"14.00\">class = versicolor</text>\r\n</g>\r\n<!-- 2&#45;&gt;3 -->\r\n<g id=\"edge3\" class=\"edge\">\r\n<title>2&#45;&gt;3</title>\r\n<path fill=\"none\" stroke=\"black\" d=\"M244.31,-192.88C236.18,-183.98 227.3,-174.24 218.84,-164.96\"/>\r\n<polygon fill=\"black\" stroke=\"black\" points=\"221.19,-162.33 211.86,-157.3 216.01,-167.05 221.19,-162.33\"/>\r\n</g>\r\n<!-- 6 -->\r\n<g id=\"node7\" class=\"node\">\r\n<title>6</title>\r\n<polygon fill=\"#843ee6\" stroke=\"black\" points=\"451.5,-157 283.5,-157 283.5,-89 451.5,-89 451.5,-157\"/>\r\n<text text-anchor=\"middle\" x=\"367.5\" y=\"-141.8\" font-family=\"Helvetica,sans-Serif\" font-size=\"14.00\">petal length (cm) &lt;= 4.85</text>\r\n<text text-anchor=\"middle\" x=\"367.5\" y=\"-126.8\" font-family=\"Helvetica,sans-Serif\" font-size=\"14.00\">samples = 39</text>\r\n<text text-anchor=\"middle\" x=\"367.5\" y=\"-111.8\" font-family=\"Helvetica,sans-Serif\" font-size=\"14.00\">value = [0, 1, 38]</text>\r\n<text text-anchor=\"middle\" x=\"367.5\" y=\"-96.8\" font-family=\"Helvetica,sans-Serif\" font-size=\"14.00\">class = virginica</text>\r\n</g>\r\n<!-- 2&#45;&gt;6 -->\r\n<g id=\"edge6\" class=\"edge\">\r\n<title>2&#45;&gt;6</title>\r\n<path fill=\"none\" stroke=\"black\" d=\"M304.69,-192.88C312.82,-183.98 321.7,-174.24 330.16,-164.96\"/>\r\n<polygon fill=\"black\" stroke=\"black\" points=\"332.99,-167.05 337.14,-157.3 327.81,-162.33 332.99,-167.05\"/>\r\n</g>\r\n<!-- 4 -->\r\n<g id=\"node5\" class=\"node\">\r\n<title>4</title>\r\n<polygon fill=\"#3fe685\" stroke=\"black\" points=\"121,-53 0,-53 0,0 121,0 121,-53\"/>\r\n<text text-anchor=\"middle\" x=\"60.5\" y=\"-37.8\" font-family=\"Helvetica,sans-Serif\" font-size=\"14.00\">samples = 35</text>\r\n<text text-anchor=\"middle\" x=\"60.5\" y=\"-22.8\" font-family=\"Helvetica,sans-Serif\" font-size=\"14.00\">value = [0, 34, 1]</text>\r\n<text text-anchor=\"middle\" x=\"60.5\" y=\"-7.8\" font-family=\"Helvetica,sans-Serif\" font-size=\"14.00\">class = versicolor</text>\r\n</g>\r\n<!-- 3&#45;&gt;4 -->\r\n<g id=\"edge4\" class=\"edge\">\r\n<title>3&#45;&gt;4</title>\r\n<path fill=\"none\" stroke=\"black\" d=\"M139.18,-88.95C127,-79.43 113.73,-69.07 101.62,-59.62\"/>\r\n<polygon fill=\"black\" stroke=\"black\" points=\"103.49,-56.63 93.45,-53.24 99.18,-62.15 103.49,-56.63\"/>\r\n</g>\r\n<!-- 5 -->\r\n<g id=\"node6\" class=\"node\">\r\n<title>5</title>\r\n<polygon fill=\"#c09cf2\" stroke=\"black\" points=\"252,-53 139,-53 139,0 252,0 252,-53\"/>\r\n<text text-anchor=\"middle\" x=\"195.5\" y=\"-37.8\" font-family=\"Helvetica,sans-Serif\" font-size=\"14.00\">samples = 6</text>\r\n<text text-anchor=\"middle\" x=\"195.5\" y=\"-22.8\" font-family=\"Helvetica,sans-Serif\" font-size=\"14.00\">value = [0, 2, 4]</text>\r\n<text text-anchor=\"middle\" x=\"195.5\" y=\"-7.8\" font-family=\"Helvetica,sans-Serif\" font-size=\"14.00\">class = virginica</text>\r\n</g>\r\n<!-- 3&#45;&gt;5 -->\r\n<g id=\"edge5\" class=\"edge\">\r\n<title>3&#45;&gt;5</title>\r\n<path fill=\"none\" stroke=\"black\" d=\"M186.4,-88.95C187.63,-80.62 188.96,-71.65 190.21,-63.2\"/>\r\n<polygon fill=\"black\" stroke=\"black\" points=\"193.68,-63.64 191.69,-53.24 186.76,-62.62 193.68,-63.64\"/>\r\n</g>\r\n<!-- 7 -->\r\n<g id=\"node8\" class=\"node\">\r\n<title>7</title>\r\n<polygon fill=\"#c09cf2\" stroke=\"black\" points=\"410,-53 297,-53 297,0 410,0 410,-53\"/>\r\n<text text-anchor=\"middle\" x=\"353.5\" y=\"-37.8\" font-family=\"Helvetica,sans-Serif\" font-size=\"14.00\">samples = 3</text>\r\n<text text-anchor=\"middle\" x=\"353.5\" y=\"-22.8\" font-family=\"Helvetica,sans-Serif\" font-size=\"14.00\">value = [0, 1, 2]</text>\r\n<text text-anchor=\"middle\" x=\"353.5\" y=\"-7.8\" font-family=\"Helvetica,sans-Serif\" font-size=\"14.00\">class = virginica</text>\r\n</g>\r\n<!-- 6&#45;&gt;7 -->\r\n<g id=\"edge7\" class=\"edge\">\r\n<title>6&#45;&gt;7</title>\r\n<path fill=\"none\" stroke=\"black\" d=\"M362.6,-88.95C361.37,-80.62 360.04,-71.65 358.79,-63.2\"/>\r\n<polygon fill=\"black\" stroke=\"black\" points=\"362.24,-62.62 357.31,-53.24 355.32,-63.64 362.24,-62.62\"/>\r\n</g>\r\n<!-- 8 -->\r\n<g id=\"node9\" class=\"node\">\r\n<title>8</title>\r\n<polygon fill=\"#8139e5\" stroke=\"black\" points=\"545,-53 428,-53 428,0 545,0 545,-53\"/>\r\n<text text-anchor=\"middle\" x=\"486.5\" y=\"-37.8\" font-family=\"Helvetica,sans-Serif\" font-size=\"14.00\">samples = 36</text>\r\n<text text-anchor=\"middle\" x=\"486.5\" y=\"-22.8\" font-family=\"Helvetica,sans-Serif\" font-size=\"14.00\">value = [0, 0, 36]</text>\r\n<text text-anchor=\"middle\" x=\"486.5\" y=\"-7.8\" font-family=\"Helvetica,sans-Serif\" font-size=\"14.00\">class = virginica</text>\r\n</g>\r\n<!-- 6&#45;&gt;8 -->\r\n<g id=\"edge8\" class=\"edge\">\r\n<title>6&#45;&gt;8</title>\r\n<path fill=\"none\" stroke=\"black\" d=\"M409.12,-88.95C421.1,-79.43 434.15,-69.07 446.06,-59.62\"/>\r\n<polygon fill=\"black\" stroke=\"black\" points=\"448.44,-62.2 454.09,-53.24 444.08,-56.71 448.44,-62.2\"/>\r\n</g>\r\n</g>\r\n</svg>\r\n",
      "text/plain": [
       "<graphviz.files.Source at 0x2a7524c8248>"
      ]
     },
     "metadata": {},
     "output_type": "display_data"
    }
   ],
   "source": [
    "global models\n",
    "trees = ['basic_tree', 'maxdepth_3_tree']\n",
    "\n",
    "for max_depth, tree in zip([None, 3], trees):\n",
    "    globals()[tree] = DecisionTreeClassifier(max_depth=max_depth).fit(X_train, y_train)\n",
    "    globals()[tree].fit(X_train, y_train)\n",
    "    print(f'{tree}의 max_depth가 {max_depth} 일 때 Train set 정확도 : {globals()[tree].score(X_train, y_train)}') \n",
    "    print(f'{tree}의 max_depth가 {max_depth} 일 때 Test set 정확도 : {globals()[tree].score(X_test, y_test)}')\n",
    "    export_graphviz(globals()[tree], out_file=f\"{tree}.dot\", class_names=[\"setosa\", \"versicolor\", \"virginica\"],\n",
    "                feature_names=iris_dataset.feature_names, impurity=False, filled=True)\n",
    "    with open(f\"{tree}.dot\", 'r', encoding='utf-8') as f:\n",
    "        dot_graph = f.read()\n",
    "    display(graphviz.Source(dot_graph))"
   ]
  },
  {
   "cell_type": "code",
   "execution_count": null,
   "metadata": {},
   "outputs": [],
   "source": []
  }
 ],
 "metadata": {
  "kernelspec": {
   "display_name": "Python 3.7.13 ('sesac')",
   "language": "python",
   "name": "python3"
  },
  "language_info": {
   "codemirror_mode": {
    "name": "ipython",
    "version": 3
   },
   "file_extension": ".py",
   "mimetype": "text/x-python",
   "name": "python",
   "nbconvert_exporter": "python",
   "pygments_lexer": "ipython3",
   "version": "3.7.13"
  },
  "orig_nbformat": 4,
  "vscode": {
   "interpreter": {
    "hash": "10c5266451461070ab9a582399e8bb66b03430da1ac04dd839d1878132a9a125"
   }
  }
 },
 "nbformat": 4,
 "nbformat_minor": 2
}
